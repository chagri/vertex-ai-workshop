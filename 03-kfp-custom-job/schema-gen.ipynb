{
 "cells": [
  {
   "cell_type": "markdown",
   "id": "331f4c1a",
   "metadata": {},
   "source": [
    "# Developing dataset schema"
   ]
  },
  {
   "cell_type": "code",
   "execution_count": 23,
   "id": "79f556e7",
   "metadata": {},
   "outputs": [],
   "source": [
    "import os\n",
    "import sys\n",
    "import logging\n",
    "\n",
    "import tensorflow as tf\n",
    "import tensorflow_data_validation as tfdv\n",
    "\n",
    "from tensorflow_metadata.proto.v0 import schema_pb2, statistics_pb2, anomalies_pb2\n",
    "from google.cloud import bigquery"
   ]
  },
  {
   "cell_type": "code",
   "execution_count": 24,
   "id": "94a9dca7",
   "metadata": {},
   "outputs": [],
   "source": [
    "PROJECT = 'jk-mlops-dev'\n",
    "STAGING_BUCKET = 'gs://jk-vertex-workshop-bucket'\n",
    "REGION = 'us-central1'\n",
    "\n",
    "BQ_DATASET_NAME = 'chicago_taxi_tips_dataset' # Change to your BQ datasent name.\n",
    "BQ_TRAIN_SPLIT_NAME = 'chicago_taxi_tips_train'\n",
    "BQ_VALID_SPLIT_NAME = 'valid_split'\n",
    "BQ_TEST_SPLIT_NAME = 'test_split'\n",
    "BQ_LOCATION = 'US'"
   ]
  },
  {
   "cell_type": "markdown",
   "id": "2b2c293f",
   "metadata": {},
   "source": [
    "## Generate Raw Data Schema"
   ]
  },
  {
   "cell_type": "markdown",
   "id": "a7586299",
   "metadata": {},
   "source": [
    "### Load a sample of the training split"
   ]
  },
  {
   "cell_type": "code",
   "execution_count": 25,
   "id": "de242058",
   "metadata": {},
   "outputs": [],
   "source": [
    "client = bigquery.Client()\n",
    "\n",
    "sql_script = f'''\n",
    "SELECT * \n",
    "FROM {PROJECT}.{BQ_DATASET_NAME}.{BQ_TRAIN_SPLIT_NAME} \n",
    "'''\n",
    "df = client.query(sql_script).result().to_dataframe()"
   ]
  },
  {
   "cell_type": "code",
   "execution_count": 26,
   "id": "6a3d1897",
   "metadata": {},
   "outputs": [
    {
     "data": {
      "text/html": [
       "<div>\n",
       "<style scoped>\n",
       "    .dataframe tbody tr th:only-of-type {\n",
       "        vertical-align: middle;\n",
       "    }\n",
       "\n",
       "    .dataframe tbody tr th {\n",
       "        vertical-align: top;\n",
       "    }\n",
       "\n",
       "    .dataframe thead th {\n",
       "        text-align: right;\n",
       "    }\n",
       "</style>\n",
       "<table border=\"1\" class=\"dataframe\">\n",
       "  <thead>\n",
       "    <tr style=\"text-align: right;\">\n",
       "      <th></th>\n",
       "      <th>0</th>\n",
       "      <th>1</th>\n",
       "      <th>2</th>\n",
       "      <th>3</th>\n",
       "      <th>4</th>\n",
       "    </tr>\n",
       "  </thead>\n",
       "  <tbody>\n",
       "    <tr>\n",
       "      <th>trip_month</th>\n",
       "      <td>2</td>\n",
       "      <td>2</td>\n",
       "      <td>2</td>\n",
       "      <td>2</td>\n",
       "      <td>2</td>\n",
       "    </tr>\n",
       "    <tr>\n",
       "      <th>trip_day</th>\n",
       "      <td>1</td>\n",
       "      <td>1</td>\n",
       "      <td>1</td>\n",
       "      <td>1</td>\n",
       "      <td>1</td>\n",
       "    </tr>\n",
       "    <tr>\n",
       "      <th>trip_day_of_week</th>\n",
       "      <td>7</td>\n",
       "      <td>7</td>\n",
       "      <td>7</td>\n",
       "      <td>7</td>\n",
       "      <td>7</td>\n",
       "    </tr>\n",
       "    <tr>\n",
       "      <th>trip_hour</th>\n",
       "      <td>8</td>\n",
       "      <td>8</td>\n",
       "      <td>19</td>\n",
       "      <td>5</td>\n",
       "      <td>7</td>\n",
       "    </tr>\n",
       "    <tr>\n",
       "      <th>trip_seconds</th>\n",
       "      <td>219</td>\n",
       "      <td>418</td>\n",
       "      <td>420</td>\n",
       "      <td>240</td>\n",
       "      <td>289</td>\n",
       "    </tr>\n",
       "    <tr>\n",
       "      <th>trip_miles</th>\n",
       "      <td>0.46</td>\n",
       "      <td>1.53</td>\n",
       "      <td>1.2</td>\n",
       "      <td>1.1</td>\n",
       "      <td>0.88</td>\n",
       "    </tr>\n",
       "    <tr>\n",
       "      <th>payment_type</th>\n",
       "      <td>Cash</td>\n",
       "      <td>Cash</td>\n",
       "      <td>Cash</td>\n",
       "      <td>Credit Card</td>\n",
       "      <td>Cash</td>\n",
       "    </tr>\n",
       "    <tr>\n",
       "      <th>pickup_grid</th>\n",
       "      <td>POINT(-87.6 41.9)</td>\n",
       "      <td>POINT(-87.7 41.9)</td>\n",
       "      <td>POINT(-87.6 41.9)</td>\n",
       "      <td>POINT(-87.7 41.9)</td>\n",
       "      <td>POINT(-87.6 41.9)</td>\n",
       "    </tr>\n",
       "    <tr>\n",
       "      <th>dropoff_grid</th>\n",
       "      <td>POINT(-87.6 41.9)</td>\n",
       "      <td>POINT(-87.7 41.9)</td>\n",
       "      <td>POINT(-87.6 41.9)</td>\n",
       "      <td>POINT(-87.7 41.9)</td>\n",
       "      <td>POINT(-87.6 41.9)</td>\n",
       "    </tr>\n",
       "    <tr>\n",
       "      <th>euclidean</th>\n",
       "      <td>0.0</td>\n",
       "      <td>0.0</td>\n",
       "      <td>0.0</td>\n",
       "      <td>0.0</td>\n",
       "      <td>0.0</td>\n",
       "    </tr>\n",
       "    <tr>\n",
       "      <th>tip_bin</th>\n",
       "      <td>0</td>\n",
       "      <td>0</td>\n",
       "      <td>0</td>\n",
       "      <td>0</td>\n",
       "      <td>0</td>\n",
       "    </tr>\n",
       "  </tbody>\n",
       "</table>\n",
       "</div>"
      ],
      "text/plain": [
       "                                  0                  1                  2  \\\n",
       "trip_month                        2                  2                  2   \n",
       "trip_day                          1                  1                  1   \n",
       "trip_day_of_week                  7                  7                  7   \n",
       "trip_hour                         8                  8                 19   \n",
       "trip_seconds                    219                418                420   \n",
       "trip_miles                     0.46               1.53                1.2   \n",
       "payment_type                   Cash               Cash               Cash   \n",
       "pickup_grid       POINT(-87.6 41.9)  POINT(-87.7 41.9)  POINT(-87.6 41.9)   \n",
       "dropoff_grid      POINT(-87.6 41.9)  POINT(-87.7 41.9)  POINT(-87.6 41.9)   \n",
       "euclidean                       0.0                0.0                0.0   \n",
       "tip_bin                           0                  0                  0   \n",
       "\n",
       "                                  3                  4  \n",
       "trip_month                        2                  2  \n",
       "trip_day                          1                  1  \n",
       "trip_day_of_week                  7                  7  \n",
       "trip_hour                         5                  7  \n",
       "trip_seconds                    240                289  \n",
       "trip_miles                      1.1               0.88  \n",
       "payment_type            Credit Card               Cash  \n",
       "pickup_grid       POINT(-87.7 41.9)  POINT(-87.6 41.9)  \n",
       "dropoff_grid      POINT(-87.7 41.9)  POINT(-87.6 41.9)  \n",
       "euclidean                       0.0                0.0  \n",
       "tip_bin                           0                  0  "
      ]
     },
     "execution_count": 26,
     "metadata": {},
     "output_type": "execute_result"
    }
   ],
   "source": [
    "df.head().T"
   ]
  },
  {
   "cell_type": "markdown",
   "id": "4049bd2c",
   "metadata": {},
   "source": [
    "### Generate statistics"
   ]
  },
  {
   "cell_type": "code",
   "execution_count": 27,
   "id": "ce3b6104",
   "metadata": {},
   "outputs": [],
   "source": [
    "stats = tfdv.generate_statistics_from_dataframe(\n",
    "    dataframe=df,\n",
    "    stats_options=tfdv.StatsOptions(\n",
    "        label_feature='tip_bin',\n",
    "        weight_feature=None,\n",
    "        sample_rate=1,\n",
    "        num_top_values=50\n",
    "    )\n",
    ")"
   ]
  },
  {
   "cell_type": "code",
   "execution_count": 28,
   "id": "347a5dd5",
   "metadata": {},
   "outputs": [
    {
     "data": {
      "text/html": [
       "<iframe id='facets-iframe' width=\"100%\" height=\"500px\"></iframe>\n",
       "        <script>\n",
       "        facets_iframe = document.getElementById('facets-iframe');\n",
       "        facets_html = '<script src=\"https://cdnjs.cloudflare.com/ajax/libs/webcomponentsjs/1.3.3/webcomponents-lite.js\"><\\/script><link rel=\"import\" href=\"https://raw.githubusercontent.com/PAIR-code/facets/master/facets-dist/facets-jupyter.html\"><facets-overview proto-input=\"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\"></facets-overview>';\n",
       "        facets_iframe.srcdoc = facets_html;\n",
       "         facets_iframe.id = \"\";\n",
       "         setTimeout(() => {\n",
       "           facets_iframe.setAttribute('height', facets_iframe.contentWindow.document.body.offsetHeight + 'px')\n",
       "         }, 1500)\n",
       "         </script>"
      ],
      "text/plain": [
       "<IPython.core.display.HTML object>"
      ]
     },
     "metadata": {},
     "output_type": "display_data"
    }
   ],
   "source": [
    "tfdv.visualize_statistics(stats)"
   ]
  },
  {
   "cell_type": "markdown",
   "id": "d8d15fb5",
   "metadata": {},
   "source": [
    "### Generate schema"
   ]
  },
  {
   "cell_type": "code",
   "execution_count": 29,
   "id": "513705d1",
   "metadata": {},
   "outputs": [
    {
     "data": {
      "text/html": [
       "<div>\n",
       "<style scoped>\n",
       "    .dataframe tbody tr th:only-of-type {\n",
       "        vertical-align: middle;\n",
       "    }\n",
       "\n",
       "    .dataframe tbody tr th {\n",
       "        vertical-align: top;\n",
       "    }\n",
       "\n",
       "    .dataframe thead th {\n",
       "        text-align: right;\n",
       "    }\n",
       "</style>\n",
       "<table border=\"1\" class=\"dataframe\">\n",
       "  <thead>\n",
       "    <tr style=\"text-align: right;\">\n",
       "      <th></th>\n",
       "      <th>Type</th>\n",
       "      <th>Presence</th>\n",
       "      <th>Valency</th>\n",
       "      <th>Domain</th>\n",
       "    </tr>\n",
       "    <tr>\n",
       "      <th>Feature name</th>\n",
       "      <th></th>\n",
       "      <th></th>\n",
       "      <th></th>\n",
       "      <th></th>\n",
       "    </tr>\n",
       "  </thead>\n",
       "  <tbody>\n",
       "    <tr>\n",
       "      <th>'trip_month'</th>\n",
       "      <td>INT</td>\n",
       "      <td>required</td>\n",
       "      <td></td>\n",
       "      <td>-</td>\n",
       "    </tr>\n",
       "    <tr>\n",
       "      <th>'trip_day'</th>\n",
       "      <td>INT</td>\n",
       "      <td>required</td>\n",
       "      <td></td>\n",
       "      <td>-</td>\n",
       "    </tr>\n",
       "    <tr>\n",
       "      <th>'trip_day_of_week'</th>\n",
       "      <td>INT</td>\n",
       "      <td>required</td>\n",
       "      <td></td>\n",
       "      <td>-</td>\n",
       "    </tr>\n",
       "    <tr>\n",
       "      <th>'trip_hour'</th>\n",
       "      <td>INT</td>\n",
       "      <td>required</td>\n",
       "      <td></td>\n",
       "      <td>-</td>\n",
       "    </tr>\n",
       "    <tr>\n",
       "      <th>'trip_seconds'</th>\n",
       "      <td>INT</td>\n",
       "      <td>required</td>\n",
       "      <td></td>\n",
       "      <td>-</td>\n",
       "    </tr>\n",
       "    <tr>\n",
       "      <th>'trip_miles'</th>\n",
       "      <td>FLOAT</td>\n",
       "      <td>required</td>\n",
       "      <td></td>\n",
       "      <td>-</td>\n",
       "    </tr>\n",
       "    <tr>\n",
       "      <th>'payment_type'</th>\n",
       "      <td>STRING</td>\n",
       "      <td>required</td>\n",
       "      <td></td>\n",
       "      <td>'payment_type'</td>\n",
       "    </tr>\n",
       "    <tr>\n",
       "      <th>'pickup_grid'</th>\n",
       "      <td>STRING</td>\n",
       "      <td>required</td>\n",
       "      <td></td>\n",
       "      <td>'pickup_grid'</td>\n",
       "    </tr>\n",
       "    <tr>\n",
       "      <th>'dropoff_grid'</th>\n",
       "      <td>STRING</td>\n",
       "      <td>required</td>\n",
       "      <td></td>\n",
       "      <td>'dropoff_grid'</td>\n",
       "    </tr>\n",
       "    <tr>\n",
       "      <th>'euclidean'</th>\n",
       "      <td>FLOAT</td>\n",
       "      <td>required</td>\n",
       "      <td></td>\n",
       "      <td>-</td>\n",
       "    </tr>\n",
       "    <tr>\n",
       "      <th>'tip_bin'</th>\n",
       "      <td>INT</td>\n",
       "      <td>required</td>\n",
       "      <td></td>\n",
       "      <td>-</td>\n",
       "    </tr>\n",
       "  </tbody>\n",
       "</table>\n",
       "</div>"
      ],
      "text/plain": [
       "                      Type  Presence Valency          Domain\n",
       "Feature name                                                \n",
       "'trip_month'           INT  required                       -\n",
       "'trip_day'             INT  required                       -\n",
       "'trip_day_of_week'     INT  required                       -\n",
       "'trip_hour'            INT  required                       -\n",
       "'trip_seconds'         INT  required                       -\n",
       "'trip_miles'         FLOAT  required                       -\n",
       "'payment_type'      STRING  required          'payment_type'\n",
       "'pickup_grid'       STRING  required           'pickup_grid'\n",
       "'dropoff_grid'      STRING  required          'dropoff_grid'\n",
       "'euclidean'          FLOAT  required                       -\n",
       "'tip_bin'              INT  required                       -"
      ]
     },
     "metadata": {},
     "output_type": "display_data"
    }
   ],
   "source": [
    "schema = tfdv.infer_schema(statistics=stats)\n",
    "tfdv.display_schema(schema=schema)"
   ]
  },
  {
   "cell_type": "markdown",
   "id": "9d366e1d",
   "metadata": {},
   "source": [
    "### Update the schema"
   ]
  },
  {
   "cell_type": "code",
   "execution_count": 30,
   "id": "2f28da78",
   "metadata": {},
   "outputs": [
    {
     "name": "stdout",
     "output_type": "stream",
     "text": [
      "2\n",
      "4\n",
      "2\n",
      "4\n",
      "2\n",
      "4\n",
      "2\n",
      "4\n"
     ]
    }
   ],
   "source": [
    "tfdv.set_domain(schema, 'trip_month', schema_pb2.IntDomain(name='trip_month', min=1, max=12, is_categorical=True))\n",
    "tfdv.set_domain(schema, 'trip_day', schema_pb2.IntDomain(name='trip_day', min=1, max=31, is_categorical=True))\n",
    "tfdv.set_domain(schema, 'trip_day_of_week', schema_pb2.IntDomain(name='trip_day_of_week', min=1, max=7, is_categorical=True))\n",
    "tfdv.set_domain(schema, 'trip_hour', schema_pb2.IntDomain(name='trip_hour', min=0, max=23, is_categorical=True))"
   ]
  },
  {
   "cell_type": "code",
   "execution_count": 31,
   "id": "bf125b47",
   "metadata": {},
   "outputs": [
    {
     "data": {
      "text/html": [
       "<div>\n",
       "<style scoped>\n",
       "    .dataframe tbody tr th:only-of-type {\n",
       "        vertical-align: middle;\n",
       "    }\n",
       "\n",
       "    .dataframe tbody tr th {\n",
       "        vertical-align: top;\n",
       "    }\n",
       "\n",
       "    .dataframe thead th {\n",
       "        text-align: right;\n",
       "    }\n",
       "</style>\n",
       "<table border=\"1\" class=\"dataframe\">\n",
       "  <thead>\n",
       "    <tr style=\"text-align: right;\">\n",
       "      <th></th>\n",
       "      <th>Type</th>\n",
       "      <th>Presence</th>\n",
       "      <th>Valency</th>\n",
       "      <th>Domain</th>\n",
       "    </tr>\n",
       "    <tr>\n",
       "      <th>Feature name</th>\n",
       "      <th></th>\n",
       "      <th></th>\n",
       "      <th></th>\n",
       "      <th></th>\n",
       "    </tr>\n",
       "  </thead>\n",
       "  <tbody>\n",
       "    <tr>\n",
       "      <th>'trip_month'</th>\n",
       "      <td>INT</td>\n",
       "      <td>required</td>\n",
       "      <td></td>\n",
       "      <td>[1,12]</td>\n",
       "    </tr>\n",
       "    <tr>\n",
       "      <th>'trip_day'</th>\n",
       "      <td>INT</td>\n",
       "      <td>required</td>\n",
       "      <td></td>\n",
       "      <td>[1,31]</td>\n",
       "    </tr>\n",
       "    <tr>\n",
       "      <th>'trip_day_of_week'</th>\n",
       "      <td>INT</td>\n",
       "      <td>required</td>\n",
       "      <td></td>\n",
       "      <td>[1,7]</td>\n",
       "    </tr>\n",
       "    <tr>\n",
       "      <th>'trip_hour'</th>\n",
       "      <td>INT</td>\n",
       "      <td>required</td>\n",
       "      <td></td>\n",
       "      <td>[0,23]</td>\n",
       "    </tr>\n",
       "    <tr>\n",
       "      <th>'trip_seconds'</th>\n",
       "      <td>INT</td>\n",
       "      <td>required</td>\n",
       "      <td></td>\n",
       "      <td>-</td>\n",
       "    </tr>\n",
       "    <tr>\n",
       "      <th>'trip_miles'</th>\n",
       "      <td>FLOAT</td>\n",
       "      <td>required</td>\n",
       "      <td></td>\n",
       "      <td>-</td>\n",
       "    </tr>\n",
       "    <tr>\n",
       "      <th>'payment_type'</th>\n",
       "      <td>STRING</td>\n",
       "      <td>required</td>\n",
       "      <td></td>\n",
       "      <td>'payment_type'</td>\n",
       "    </tr>\n",
       "    <tr>\n",
       "      <th>'pickup_grid'</th>\n",
       "      <td>STRING</td>\n",
       "      <td>required</td>\n",
       "      <td></td>\n",
       "      <td>'pickup_grid'</td>\n",
       "    </tr>\n",
       "    <tr>\n",
       "      <th>'dropoff_grid'</th>\n",
       "      <td>STRING</td>\n",
       "      <td>required</td>\n",
       "      <td></td>\n",
       "      <td>'dropoff_grid'</td>\n",
       "    </tr>\n",
       "    <tr>\n",
       "      <th>'euclidean'</th>\n",
       "      <td>FLOAT</td>\n",
       "      <td>required</td>\n",
       "      <td></td>\n",
       "      <td>-</td>\n",
       "    </tr>\n",
       "    <tr>\n",
       "      <th>'tip_bin'</th>\n",
       "      <td>INT</td>\n",
       "      <td>required</td>\n",
       "      <td></td>\n",
       "      <td>-</td>\n",
       "    </tr>\n",
       "  </tbody>\n",
       "</table>\n",
       "</div>"
      ],
      "text/plain": [
       "                      Type  Presence Valency          Domain\n",
       "Feature name                                                \n",
       "'trip_month'           INT  required                  [1,12]\n",
       "'trip_day'             INT  required                  [1,31]\n",
       "'trip_day_of_week'     INT  required                   [1,7]\n",
       "'trip_hour'            INT  required                  [0,23]\n",
       "'trip_seconds'         INT  required                       -\n",
       "'trip_miles'         FLOAT  required                       -\n",
       "'payment_type'      STRING  required          'payment_type'\n",
       "'pickup_grid'       STRING  required           'pickup_grid'\n",
       "'dropoff_grid'      STRING  required          'dropoff_grid'\n",
       "'euclidean'          FLOAT  required                       -\n",
       "'tip_bin'              INT  required                       -"
      ]
     },
     "metadata": {},
     "output_type": "display_data"
    }
   ],
   "source": [
    "tfdv.display_schema(schema=schema)"
   ]
  },
  {
   "cell_type": "markdown",
   "id": "937f819a",
   "metadata": {},
   "source": [
    "### Save the updated schema"
   ]
  },
  {
   "cell_type": "code",
   "execution_count": 35,
   "id": "3573f4c6",
   "metadata": {},
   "outputs": [],
   "source": [
    "schema_dir = os.path.join(STAGING_BUCKET, 'schema')\n",
    "tf.io.gfile.makedirs(schema_dir)\n",
    "schema_file = os.path.join(schema_dir, 'schema.pbtxt')\n",
    "\n",
    "tfdv.write_schema_text(schema, schema_file)"
   ]
  },
  {
   "cell_type": "code",
   "execution_count": 36,
   "id": "0c407979",
   "metadata": {},
   "outputs": [
    {
     "data": {
      "text/plain": [
       "'gs://jk-vertex-workshop-bucket/schema/schema.pbtxt'"
      ]
     },
     "execution_count": 36,
     "metadata": {},
     "output_type": "execute_result"
    }
   ],
   "source": [
    "schema_file"
   ]
  },
  {
   "cell_type": "code",
   "execution_count": null,
   "id": "6afef292",
   "metadata": {},
   "outputs": [],
   "source": []
  }
 ],
 "metadata": {
  "environment": {
   "name": "tf2-gpu.2-4.m69",
   "type": "gcloud",
   "uri": "gcr.io/deeplearning-platform-release/tf2-gpu.2-4:m69"
  },
  "kernelspec": {
   "display_name": "Python [conda env:root] *",
   "language": "python",
   "name": "conda-root-py"
  },
  "language_info": {
   "codemirror_mode": {
    "name": "ipython",
    "version": 3
   },
   "file_extension": ".py",
   "mimetype": "text/x-python",
   "name": "python",
   "nbconvert_exporter": "python",
   "pygments_lexer": "ipython3",
   "version": "3.7.10"
  }
 },
 "nbformat": 4,
 "nbformat_minor": 5
}
