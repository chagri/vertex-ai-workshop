{
 "nbformat": 4,
 "nbformat_minor": 2,
 "metadata": {
  "language_info": {
   "name": "python",
   "codemirror_mode": {
    "name": "ipython",
    "version": 3
   },
   "version": "3.7.10-final"
  },
  "orig_nbformat": 2,
  "file_extension": ".py",
  "mimetype": "text/x-python",
  "name": "python",
  "npconvert_exporter": "python",
  "pygments_lexer": "ipython3",
  "version": 3,
  "kernelspec": {
   "name": "python371064bitbasecondaf97b262032304bd6b05e855d52dab2d0",
   "display_name": "Python 3.7.10 64-bit ('base': conda)"
  }
 },
 "cells": [
  {
   "source": [
    "import os\n",
    "import sys\n",
    "import logging\n",
    "import uuid\n",
    "import kfp\n",
    "\n",
    "from datetime import datetime\n",
    "from google.cloud import aiplatform\n",
    "from google_cloud_pipeline_components import aiplatform as gcc_aip\n",
    "from kfp.v2 import compiler\n",
    "from kfp.v2.dsl import component\n",
    "from kfp.v2.google import experimental\n",
    "from kfp.v2.google.client import AIPlatformClient\n",
    "\n",
    "sys.path.append('pipelines')\n",
    "from pipelines.pipeline import taxi_tip_predictor_pipeline"
   ],
   "cell_type": "code",
   "outputs": [],
   "metadata": {},
   "execution_count": 45
  },
  {
   "source": [
    "kfp.__version__"
   ],
   "cell_type": "code",
   "outputs": [
    {
     "output_type": "execute_result",
     "data": {
      "text/plain": "'1.6.3'"
     },
     "metadata": {},
     "execution_count": 46
    }
   ],
   "metadata": {},
   "execution_count": 46
  },
  {
   "source": [
    "%load_ext autoreload\n",
    "%autoreload 2"
   ],
   "cell_type": "code",
   "outputs": [
    {
     "output_type": "stream",
     "name": "stdout",
     "text": "The autoreload extension is already loaded. To reload it, use:\n  %reload_ext autoreload\n"
    }
   ],
   "metadata": {},
   "execution_count": 47
  },
  {
   "source": [
    "PROJECT = 'jk-mlops-dev'\n",
    "STAGING_BUCKET = 'gs://jk-vertex-workshop-bucket'\n",
    "REGION = 'us-central1'\n",
    "PIPELINES_SA = 'pipelines-sa@jk-mlops-dev.iam.gserviceaccount.com'"
   ],
   "cell_type": "code",
   "outputs": [],
   "metadata": {},
   "execution_count": 24
  },
  {
   "source": [
    "\n",
    "TIMESTAMP = datetime.now().strftime(\"%Y%m%d%H%M%S\")\n",
    "TIMESTAMP"
   ],
   "cell_type": "markdown",
   "outputs": [
    {
     "output_type": "execute_result",
     "data": {
      "text/plain": "'20210606163520'"
     },
     "metadata": {},
     "execution_count": 8
    }
   ],
   "metadata": {},
   "execution_count": 8
  },
  {
   "cell_type": "code",
   "execution_count": null,
   "metadata": {},
   "outputs": [],
   "source": [
    "@component\n",
    "def training_op(\n",
    "    project: str,\n",
    "    region: str,\n",
    "    staging_bucket: str,\n",
    "    service_account: str,training_table: str,\n",
    "    validation_table: str,\n",
    "    epochs: int,\n",
    "    per_replica_batch_size: int =128,\n",
    "    machine_type: str = 'n1-standard-4',\n",
    "    'accelerator_typ': 'NVIstr = DIA_TESLA_T4'\n",
    "    accelerator_count': in = 1):\n",
    "    \n",
    "from google.cloud import aiplatform as vertex_ai\n",
    "          vertex_ai.init(\n",
    "        project=project,\n",
    "        location=region,\n",
    "    )   )dir    \n",
    "    \n",
    "\n",
    "\n",
    "\n"
   ]
  },
  {
   "source": [
    "VERTEX_TRAINING_JOB_NAME = 'taxi-tip-predictor-training-job'\n",
    "PIPELINE_NAME = 'taxi-tip-predictor-continuous-training'\n",
    "\n",
    "@kfp.dsl.pipeline(name=PIPELINE_NAME)\n",
    "def taxi_tip_predictor_pipeline(\n",
    "    project: str,\n",
    "    model_display_name: str,\n",
    "    training_container: str,\n",
    "    epochs: int,\n",
    "    per_replica_batch_size: int,\n",
    "    training_table: str = 'jk-mlops-dev.chicago_taxi_training.training_split',\n",
    "    validation_table: str = 'jk-mlops-dev.chicago_taxi_training.validation_split',\n",
    "    machine_type: str = 'n1-standard-4',\n",
    "    accelerator_type: str = 'NVIDIA_TESLA_T4',\n",
    "    accelerator_count: str = '1',\n",
    "    replica_count: str = '1', \n",
    "):\n",
    "\n",
    "    \n",
    "    "
   ],
   "cell_type": "code",
   "outputs": [],
   "metadata": {},
   "execution_count": 79
  },
  {
   "cell_type": "markdown",
   "execution_count": null,
   "metadata": {},
   "outputs": [],
   "source": [
    "### Compile the pipeline"
   ]
  },
  {
   "source": [
    "package_path = 'taxi_tip_predictor_pipeline.json'\n",
    "compiler.Compiler().compile(\n",
    "    pipeline_func=taxi_tip_predictor_pipeline,\n",
    "    package_path=package_path\n",
    ")"
   ],
   "cell_type": "code",
   "outputs": [],
   "metadata": {},
   "execution_count": 80
  },
  {
   "source": [
    "### Submit a pipeline run"
   ],
   "cell_type": "markdown",
   "outputs": [
    {
     "output_type": "execute_result",
     "data": {
      "text/plain": "['__builtins__',\n '__cached__',\n '__doc__',\n '__file__',\n '__loader__',\n '__name__',\n '__package__',\n '__path__',\n '__spec__']"
     },
     "metadata": {},
     "execution_count": 10
    }
   ],
   "metadata": {},
   "execution_count": 10
  },
  {
   "source": [
    "api_client = AIPlatformClient(\n",
    "    project_id=PROJECT,\n",
    "    region=REGION,\n",
    ")"
   ],
   "cell_type": "code",
   "outputs": [],
   "metadata": {},
   "execution_count": 81
  },
  {
   "source": [
    "pipeline_root = f'{STAGING_BUCKET}/pipelines'\n",
    "model_display_name = 'Taxi tip predictor'\n",
    "training_container_image = 'gcr.io/jk-mlops-dev/taxi_classifier_trainer'\n",
    "epochs = 3\n",
    "per_replica_batch_size = 128\n",
    "training_table = 'jk-mlops-dev.chicago_taxi_training.training_split'\n",
    "validation_table = 'jk-mlops-dev.chicago_taxi_training.validation_split'\n",
    "\n",
    "\n",
    "parameter_values = {\n",
    "    'project': PROJECT,\n",
    "    'model_display_name': model_display_name,\n",
    "    'training_container': training_container_image,\n",
    "    'epochs': epochs,\n",
    "    'per_replica_batch_size': per_replica_batch_size,\n",
    "    'training_table': training_table,\n",
    "    'validation_table': validation_table,\n",
    "}\n",
    "\n",
    "response = api_client.create_run_from_job_spec(\n",
    "    package_path,\n",
    "    pipeline_root=pipeline_root,\n",
    "    parameter_values=parameter_values,\n",
    "    service_account=PIPELINES_SA\n",
    ")"
   ],
   "cell_type": "code",
   "outputs": [
    {
     "output_type": "display_data",
     "data": {
      "text/plain": "<IPython.core.display.HTML object>",
      "text/html": "See the Pipeline job <a href=\"https://console.cloud.google.com/vertex-ai/locations/us-central1/pipelines/runs/taxi-tip-predictor-continuous-training-20210606191529?project=jk-mlops-dev\" target=\"_blank\" >here</a>."
     },
     "metadata": {}
    }
   ],
   "metadata": {},
   "execution_count": 82
  },
  {
   "cell_type": "code",
   "execution_count": null,
   "metadata": {},
   "outputs": [],
   "source": []
  }
 ]
}