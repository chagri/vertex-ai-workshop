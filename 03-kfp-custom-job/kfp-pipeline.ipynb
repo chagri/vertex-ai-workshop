{
 "cells": [
  {
   "cell_type": "code",
   "execution_count": 1,
   "metadata": {},
   "outputs": [],
   "source": [
    "import os\n",
    "import sys\n",
    "import logging\n",
    "import uuid\n",
    "import kfp\n",
    "\n",
    "from datetime import datetime\n",
    "from google.cloud import aiplatform\n",
    "from google_cloud_pipeline_components import aiplatform as gcc_aip\n",
    "from kfp.v2 import compiler\n",
    "from kfp.v2.dsl import component\n",
    "from kfp.v2.google import experimental\n",
    "from kfp.v2.google.client import AIPlatformClient\n",
    "\n",
    "sys.path.append('pipelines')\n",
    "from pipelines.pipeline import taxi_tip_predictor_pipeline"
   ]
  },
  {
   "cell_type": "code",
   "execution_count": 2,
   "metadata": {},
   "outputs": [
    {
     "data": {
      "text/plain": [
       "'1.6.3'"
      ]
     },
     "execution_count": 2,
     "metadata": {},
     "output_type": "execute_result"
    }
   ],
   "source": [
    "kfp.__version__"
   ]
  },
  {
   "cell_type": "code",
   "execution_count": 3,
   "metadata": {},
   "outputs": [],
   "source": [
    "%load_ext autoreload\n",
    "%autoreload 2"
   ]
  },
  {
   "cell_type": "code",
   "execution_count": 4,
   "metadata": {},
   "outputs": [],
   "source": [
    "PROJECT = 'jk-mlops-dev'\n",
    "STAGING_BUCKET = 'gs://jk-vertex-workshop-bucket'\n",
    "REGION = 'us-central1'\n",
    "PIPELINES_SA = 'pipelines-sa@jk-mlops-dev.iam.gserviceaccount.com'"
   ]
  },
  {
   "cell_type": "markdown",
   "metadata": {},
   "source": [
    "\n",
    "TIMESTAMP = datetime.now().strftime(\"%Y%m%d%H%M%S\")\n",
    "TIMESTAMP"
   ]
  },
  {
   "cell_type": "code",
   "execution_count": 9,
   "metadata": {},
   "outputs": [],
   "source": [
    "@component(base_image='gcr.io/ml-pipeline/google-cloud-pipeline-components:0.1.1')\n",
    "def training_op(\n",
    "    project: str,\n",
    "    region: str,\n",
    "    staging_bucket: str,\n",
    "    training_table: str,\n",
    "    validation_table: str,\n",
    "    epochs: int,\n",
    "    per_replica_batch_size: int =128,\n",
    "    machine_type: str = 'n1-standard-4',\n",
    "    accelerator_type: str = 'NVIDIA_TESLA_T4',\n",
    "    accelerator_count: int = 1,\n",
    "    container_image_uri: str = 'gcr.io/jk-mlops-dev/taxi_classifier_trainer'\n",
    "):\n",
    "    \n",
    "    import time\n",
    "    from google.cloud import aiplatform as vertex_ai\n",
    "    \n",
    "    vertex_ai.init(\n",
    "        project=project,\n",
    "        location=region\n",
    "    )\n",
    "    \n",
    "    worker_pool_specs =  [\n",
    "        {\n",
    "            \"machine_spec\": {\n",
    "                \"machine_type\": machine_type,\n",
    "                \"accelerator_type\": accelerator_type,\n",
    "                \"accelerator_count\": accelerator_count,\n",
    "            },\n",
    "            \"replica_count\": 1,\n",
    "            \"container_spec\": {\n",
    "                \"image_uri\": container_image_uri,\n",
    "                \"command\": [\"python\", \"train.py\"],\n",
    "                \"args\": [\n",
    "                    '--epochs=' + str(epochs), \n",
    "                    '--per_replica_batch_size=' + str(per_replica_batch_size),\n",
    "                    '--training_table=' + training_table,\n",
    "                    '--validation_table=' + validation_table,\n",
    "                ],\n",
    "            },\n",
    "        }\n",
    "    ]\n",
    "                                                      \n",
    "    job_name = \"JOB_{}\".format(time.strftime(\"%Y%m%d_%H%M%S\"))\n",
    "    \n",
    "    job = vertex_ai.CustomJob(\n",
    "        display_name=job_name,\n",
    "        worker_pool_specs=worker_pool_specs,\n",
    "        staging_bucket=f'{staging_bucket}/{job_name}'\n",
    "    )\n",
    "\n",
    "    job.run(sync=False)\n",
    "\n",
    "\n",
    "\n"
   ]
  },
  {
   "cell_type": "code",
   "execution_count": 14,
   "metadata": {},
   "outputs": [],
   "source": [
    "VERTEX_TRAINING_JOB_NAME = 'taxi-tip-predictor-training-job'\n",
    "PIPELINE_NAME = 'taxi-tip-predictor-continuous-training'\n",
    "\n",
    "@kfp.dsl.pipeline(name=PIPELINE_NAME)\n",
    "def taxi_tip_predictor_pipeline(\n",
    "    project: str,\n",
    "    region: str,\n",
    "    staging_bucket: str,\n",
    "    epochs: int,\n",
    "    per_replica_batch_size: int,\n",
    "    training_table: str,\n",
    "    validation_table: str\n",
    "):\n",
    "    \n",
    "    train = training_op(\n",
    "        project=project,\n",
    "        region=region,\n",
    "        staging_bucket=staging_bucket,\n",
    "        training_table=training_table,\n",
    "        validation_table=validation_table,\n",
    "        epochs=epochs,\n",
    "        per_replica_batch_size=per_replica_batch_size\n",
    "    )\n",
    "\n",
    "    \n",
    "    "
   ]
  },
  {
   "cell_type": "markdown",
   "metadata": {},
   "source": [
    "### Compile the pipeline"
   ]
  },
  {
   "cell_type": "code",
   "execution_count": 15,
   "metadata": {},
   "outputs": [],
   "source": [
    "package_path = 'taxi_tip_predictor_pipeline.json'\n",
    "compiler.Compiler().compile(\n",
    "    pipeline_func=taxi_tip_predictor_pipeline,\n",
    "    package_path=package_path\n",
    ")"
   ]
  },
  {
   "cell_type": "markdown",
   "metadata": {},
   "source": [
    "### Submit a pipeline run"
   ]
  },
  {
   "cell_type": "code",
   "execution_count": 16,
   "metadata": {},
   "outputs": [],
   "source": [
    "api_client = AIPlatformClient(\n",
    "    project_id=PROJECT,\n",
    "    region=REGION,\n",
    ")"
   ]
  },
  {
   "cell_type": "code",
   "execution_count": 17,
   "metadata": {},
   "outputs": [
    {
     "data": {
      "text/html": [
       "See the Pipeline job <a href=\"https://console.cloud.google.com/vertex-ai/locations/us-central1/pipelines/runs/taxi-tip-predictor-continuous-training-20210606201937?project=jk-mlops-dev\" target=\"_blank\" >here</a>."
      ],
      "text/plain": [
       "<IPython.core.display.HTML object>"
      ]
     },
     "metadata": {},
     "output_type": "display_data"
    }
   ],
   "source": [
    "pipeline_root = f'{STAGING_BUCKET}/pipelines'\n",
    "model_display_name = 'Taxi tip predictor'\n",
    "training_container_image = 'gcr.io/jk-mlops-dev/taxi_classifier_trainer'\n",
    "epochs = 3\n",
    "per_replica_batch_size = 128\n",
    "training_table = 'jk-mlops-dev.chicago_taxi_training.training_split'\n",
    "validation_table = 'jk-mlops-dev.chicago_taxi_training.validation_split'\n",
    "\n",
    "\n",
    "parameter_values = {\n",
    "    'project': PROJECT,\n",
    "    'region': REGION,\n",
    "    'staging_bucket': STAGING_BUCKET,\n",
    "    'epochs': epochs,\n",
    "    'per_replica_batch_size': per_replica_batch_size,\n",
    "    'training_table': training_table,\n",
    "    'validation_table': validation_table,\n",
    "}\n",
    "\n",
    "response = api_client.create_run_from_job_spec(\n",
    "    package_path,\n",
    "    pipeline_root=pipeline_root,\n",
    "    parameter_values=parameter_values,\n",
    "    service_account=PIPELINES_SA\n",
    ")"
   ]
  },
  {
   "cell_type": "code",
   "execution_count": null,
   "metadata": {},
   "outputs": [],
   "source": []
  }
 ],
 "metadata": {
  "environment": {
   "name": "tf2-gpu.2-4.m69",
   "type": "gcloud",
   "uri": "gcr.io/deeplearning-platform-release/tf2-gpu.2-4:m69"
  },
  "file_extension": ".py",
  "kernelspec": {
   "display_name": "Python [conda env:root] *",
   "language": "python",
   "name": "conda-root-py"
  },
  "language_info": {
   "codemirror_mode": {
    "name": "ipython",
    "version": 3
   },
   "file_extension": ".py",
   "mimetype": "text/x-python",
   "name": "python",
   "nbconvert_exporter": "python",
   "pygments_lexer": "ipython3",
   "version": "3.7.10"
  },
  "mimetype": "text/x-python",
  "name": "python",
  "npconvert_exporter": "python",
  "pygments_lexer": "ipython3",
  "version": 3
 },
 "nbformat": 4,
 "nbformat_minor": 4
}
