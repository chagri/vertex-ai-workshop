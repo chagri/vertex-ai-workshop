{
 "cells": [
  {
   "cell_type": "code",
   "execution_count": null,
   "id": "551cdcb6",
   "metadata": {},
   "outputs": [],
   "source": []
  },
  {
   "cell_type": "code",
   "execution_count": null,
   "id": "c7435be0",
   "metadata": {},
   "outputs": [],
   "source": []
  },
  {
   "cell_type": "code",
   "execution_count": null,
   "id": "fc92ecb6",
   "metadata": {},
   "outputs": [],
   "source": []
  },
  {
   "cell_type": "code",
   "execution_count": 16,
   "id": "7ea81b31",
   "metadata": {},
   "outputs": [
    {
     "data": {
      "text/html": [
       "<div>\n",
       "<style scoped>\n",
       "    .dataframe tbody tr th:only-of-type {\n",
       "        vertical-align: middle;\n",
       "    }\n",
       "\n",
       "    .dataframe tbody tr th {\n",
       "        vertical-align: top;\n",
       "    }\n",
       "\n",
       "    .dataframe thead th {\n",
       "        text-align: right;\n",
       "    }\n",
       "</style>\n",
       "<table border=\"1\" class=\"dataframe\">\n",
       "  <thead>\n",
       "    <tr style=\"text-align: right;\">\n",
       "      <th></th>\n",
       "      <th>0</th>\n",
       "    </tr>\n",
       "  </thead>\n",
       "  <tbody>\n",
       "    <tr>\n",
       "      <th>payment_type_vocab</th>\n",
       "      <td>[Cash, Prcard, Credit Card, Unknown, Mobile, D...</td>\n",
       "    </tr>\n",
       "    <tr>\n",
       "      <th>pickup_grid_vocab</th>\n",
       "      <td>[POINT(-87.6 41.8), POINT(-87.7 42), POINT(-87...</td>\n",
       "    </tr>\n",
       "    <tr>\n",
       "      <th>dropoff_grid_vocab</th>\n",
       "      <td>[POINT(-87.7 41.9), POINT(-87.7 42), POINT(-87...</td>\n",
       "    </tr>\n",
       "    <tr>\n",
       "      <th>trip_seconds_stats</th>\n",
       "      <td>{'_field_1': 873.2935509999938, '_field_2': 21...</td>\n",
       "    </tr>\n",
       "  </tbody>\n",
       "</table>\n",
       "</div>"
      ],
      "text/plain": [
       "                                                                    0\n",
       "payment_type_vocab  [Cash, Prcard, Credit Card, Unknown, Mobile, D...\n",
       "pickup_grid_vocab   [POINT(-87.6 41.8), POINT(-87.7 42), POINT(-87...\n",
       "dropoff_grid_vocab  [POINT(-87.7 41.9), POINT(-87.7 42), POINT(-87...\n",
       "trip_seconds_stats  {'_field_1': 873.2935509999938, '_field_2': 21..."
      ]
     },
     "execution_count": 16,
     "metadata": {},
     "output_type": "execute_result"
    }
   ],
   "source": [
    "sql_script = f'''\n",
    "SELECT ARRAY(SELECT DISTINCT payment_type FROM {PROJECT}.{BQ_DATASET_NAME}.{BQ_TABLE_NAME}) as payment_type_vocab,\n",
    "       ARRAY(SELECT DISTINCT pickup_grid FROM {PROJECT}.{BQ_DATASET_NAME}.{BQ_TABLE_NAME}) as pickup_grid_vocab,\n",
    "       ARRAY(SELECT DISTINCT dropoff_grid FROM {PROJECT}.{BQ_DATASET_NAME}.{BQ_TABLE_NAME}) as dropoff_grid_vocab,\n",
    "       (SELECT AS STRUCT AVG(trip_seconds), VARIANCE(trip_seconds) FROM {PROJECT}.{BQ_DATASET_NAME}.{BQ_TABLE_NAME}) as trip_seconds_stats,\n",
    "'''\n",
    "\n",
    "training_data_stats = client.query(sql_script).result().to_dataframe()\n",
    "training_data_stats.T"
   ]
  }
 ],
 "metadata": {
  "environment": {
   "name": "tf2-gpu.2-4.m69",
   "type": "gcloud",
   "uri": "gcr.io/deeplearning-platform-release/tf2-gpu.2-4:m69"
  },
  "kernelspec": {
   "display_name": "Python 3",
   "language": "python",
   "name": "python3"
  },
  "language_info": {
   "codemirror_mode": {
    "name": "ipython",
    "version": 3
   },
   "file_extension": ".py",
   "mimetype": "text/x-python",
   "name": "python",
   "nbconvert_exporter": "python",
   "pygments_lexer": "ipython3",
   "version": "3.7.10"
  }
 },
 "nbformat": 4,
 "nbformat_minor": 5
}
