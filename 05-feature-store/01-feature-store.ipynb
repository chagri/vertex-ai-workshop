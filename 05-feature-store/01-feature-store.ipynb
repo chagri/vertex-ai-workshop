{
 "cells": [
  {
   "cell_type": "markdown",
   "id": "1a3cf003",
   "metadata": {},
   "source": [
    "# Using Feature Store for training and serving"
   ]
  },
  {
   "cell_type": "code",
   "execution_count": 1,
   "id": "dc09e93b",
   "metadata": {},
   "outputs": [],
   "source": [
    "import copy\n",
    "import numpy as np\n",
    "import os\n",
    "import pprint\n",
    "import pandas as pd\n",
    "import random\n",
    "import tensorflow as tf\n",
    "import time\n",
    "\n",
    "from google.cloud import aiplatform\n",
    "from google.cloud import bigquery_datatransfer\n",
    "from google.cloud import bigquery\n",
    "from google.cloud import exceptions\n",
    "\n",
    "from google.cloud.aiplatform_v1beta1 import (\n",
    "    FeaturestoreOnlineServingServiceClient, FeaturestoreServiceClient)\n",
    "from google.cloud.aiplatform_v1beta1.types import FeatureSelector, IdMatcher\n",
    "from google.cloud.aiplatform_v1beta1.types import \\\n",
    "    entity_type as entity_type_pb2\n",
    "from google.cloud.aiplatform_v1beta1.types import feature as feature_pb2\n",
    "from google.cloud.aiplatform_v1beta1.types import \\\n",
    "    featurestore as featurestore_pb2\n",
    "from google.cloud.aiplatform_v1beta1.types import \\\n",
    "    featurestore_monitoring as featurestore_monitoring_pb2\n",
    "from google.cloud.aiplatform_v1beta1.types import \\\n",
    "    featurestore_online_service as featurestore_online_service_pb2\n",
    "from google.cloud.aiplatform_v1beta1.types import \\\n",
    "    featurestore_service as featurestore_service_pb2\n",
    "from google.cloud.aiplatform_v1beta1.types import io as io_pb2\n",
    "from google.protobuf.duration_pb2 import Duration"
   ]
  },
  {
   "cell_type": "markdown",
   "id": "1897a60a",
   "metadata": {},
   "source": [
    "## Configure lab settings"
   ]
  },
  {
   "cell_type": "code",
   "execution_count": 3,
   "id": "6c707742",
   "metadata": {},
   "outputs": [],
   "source": [
    "PROJECT_ID = 'jk-test-1002'\n",
    "REGION = 'us-central1'\n",
    "PREFIX = 'jktest2'\n",
    "\n",
    "API_ENDPOINT = f'{REGION}-aiplatform.googleapis.com'"
   ]
  },
  {
   "cell_type": "markdown",
   "id": "27f6800e",
   "metadata": {},
   "source": [
    "## Create Featurestore clients"
   ]
  },
  {
   "cell_type": "markdown",
   "id": "28da5b2c",
   "metadata": {},
   "source": [
    "Admin client for CRUD operations."
   ]
  },
  {
   "cell_type": "code",
   "execution_count": 4,
   "id": "782d4fab",
   "metadata": {},
   "outputs": [],
   "source": [
    "admin_client = FeaturestoreServiceClient(client_options={\"api_endpoint\": API_ENDPOINT})\n",
    "BASE_RESOURCE_PATH = admin_client.common_location_path(PROJECT_ID, REGION)"
   ]
  },
  {
   "cell_type": "markdown",
   "id": "731456f8",
   "metadata": {},
   "source": [
    "Data client for accessing features."
   ]
  },
  {
   "cell_type": "code",
   "execution_count": 5,
   "id": "61bdac57",
   "metadata": {},
   "outputs": [],
   "source": [
    "data_client = FeaturestoreOnlineServingServiceClient(\n",
    "    client_options={\"api_endpoint\": API_ENDPOINT}\n",
    ")\n"
   ]
  },
  {
   "cell_type": "markdown",
   "id": "e005d764",
   "metadata": {},
   "source": [
    "## Create Featurestore and define schemas"
   ]
  },
  {
   "cell_type": "markdown",
   "id": "a2d74a13",
   "metadata": {},
   "source": [
    "### Create a feature store"
   ]
  },
  {
   "cell_type": "code",
   "execution_count": 6,
   "id": "662aeb86",
   "metadata": {},
   "outputs": [],
   "source": [
    "FEATURESTORE_ID = f'{PREFIX}_featurestore'"
   ]
  },
  {
   "cell_type": "code",
   "execution_count": 7,
   "id": "9385a4d0",
   "metadata": {},
   "outputs": [],
   "source": [
    "create_lro = admin_client.create_featurestore(\n",
    "    featurestore_service_pb2.CreateFeaturestoreRequest(\n",
    "        parent=BASE_RESOURCE_PATH,\n",
    "        featurestore_id=FEATURESTORE_ID,\n",
    "        featurestore=featurestore_pb2.Featurestore(\n",
    "            online_serving_config=featurestore_pb2.Featurestore.OnlineServingConfig(\n",
    "                fixed_node_count=3\n",
    "            ),\n",
    "        ),\n",
    "    )\n",
    ")"
   ]
  },
  {
   "cell_type": "code",
   "execution_count": 8,
   "id": "98471ed8",
   "metadata": {},
   "outputs": [
    {
     "data": {
      "text/plain": [
       "name: \"projects/890570890982/locations/us-central1/featurestores/jktest2_featurestore\""
      ]
     },
     "execution_count": 8,
     "metadata": {},
     "output_type": "execute_result"
    }
   ],
   "source": [
    "create_lro.result() # Wait"
   ]
  },
  {
   "cell_type": "markdown",
   "id": "bdf97b7a",
   "metadata": {},
   "source": [
    "#### List feature stores"
   ]
  },
  {
   "cell_type": "code",
   "execution_count": 9,
   "id": "1ca765dc",
   "metadata": {},
   "outputs": [
    {
     "data": {
      "text/plain": [
       "ListFeaturestoresPager<featurestores {\n",
       "  name: \"projects/890570890982/locations/us-central1/featurestores/jktest2_featurestore\"\n",
       "  create_time {\n",
       "    seconds: 1623720006\n",
       "    nanos: 652243000\n",
       "  }\n",
       "  update_time {\n",
       "    seconds: 1623720006\n",
       "    nanos: 716464000\n",
       "  }\n",
       "  etag: \"AMEw9yOmfMnQOsTQUYeGo3dBbnfEns-bw-1GZqR8blzp_IhqIdg_gabHMEZ0Z4Izv3X2\"\n",
       "  online_serving_config {\n",
       "    fixed_node_count: 3\n",
       "  }\n",
       "  state: STABLE\n",
       "}\n",
       ">"
      ]
     },
     "execution_count": 9,
     "metadata": {},
     "output_type": "execute_result"
    }
   ],
   "source": [
    "admin_client.list_featurestores(parent=BASE_RESOURCE_PATH)"
   ]
  },
  {
   "cell_type": "markdown",
   "id": "e82e1950",
   "metadata": {},
   "source": [
    "#### Get your feature store"
   ]
  },
  {
   "cell_type": "code",
   "execution_count": 10,
   "id": "4942f15f",
   "metadata": {},
   "outputs": [
    {
     "data": {
      "text/plain": [
       "name: \"projects/890570890982/locations/us-central1/featurestores/jktest2_featurestore\"\n",
       "create_time {\n",
       "  seconds: 1623720006\n",
       "  nanos: 652243000\n",
       "}\n",
       "update_time {\n",
       "  seconds: 1623720006\n",
       "  nanos: 716464000\n",
       "}\n",
       "etag: \"AMEw9yPeWo1PU0UY_Ok-ZMEsF6ocdr6nvyzWQedwE0BPRXE9VeQ8C55rM9AZro-dBj57\"\n",
       "online_serving_config {\n",
       "  fixed_node_count: 3\n",
       "}\n",
       "state: STABLE"
      ]
     },
     "execution_count": 10,
     "metadata": {},
     "output_type": "execute_result"
    }
   ],
   "source": [
    "admin_client.get_featurestore(\n",
    "    name=admin_client.featurestore_path(PROJECT_ID, REGION, FEATURESTORE_ID)\n",
    ")"
   ]
  },
  {
   "cell_type": "markdown",
   "id": "5bbfa96c",
   "metadata": {},
   "source": [
    "### Create Entity Type\n",
    "\n",
    "You can specify a monitoring config which will by default be inherited by all Features under this EntityType."
   ]
  },
  {
   "cell_type": "code",
   "execution_count": 11,
   "id": "bd9d89d2",
   "metadata": {},
   "outputs": [],
   "source": [
    "ENTITY_TYPE_ID = 'trips'\n",
    "DESCRIPTION = 'Taxi trips'"
   ]
  },
  {
   "cell_type": "code",
   "execution_count": 12,
   "id": "5a6654c8",
   "metadata": {},
   "outputs": [
    {
     "name": "stdout",
     "output_type": "stream",
     "text": [
      "name: \"projects/890570890982/locations/us-central1/featurestores/jktest2_featurestore/entityTypes/trips\"\n",
      "etag: \"AMEw9yP07VywJ7lEs2egzVhJjv4p4TwLZtZXsBIAEgjaz5SJcx5l\"\n",
      "\n"
     ]
    }
   ],
   "source": [
    "entity_type_lro = admin_client.create_entity_type(\n",
    "    featurestore_service_pb2.CreateEntityTypeRequest(\n",
    "        parent=admin_client.featurestore_path(PROJECT_ID, REGION, FEATURESTORE_ID),\n",
    "        entity_type_id=ENTITY_TYPE_ID,\n",
    "        entity_type=entity_type_pb2.EntityType(\n",
    "            description=DESCRIPTION,\n",
    "            monitoring_config=featurestore_monitoring_pb2.FeaturestoreMonitoringConfig(\n",
    "                snapshot_analysis=featurestore_monitoring_pb2.FeaturestoreMonitoringConfig.SnapshotAnalysis(\n",
    "                    monitoring_interval=Duration(seconds=86400),  # 1 day\n",
    "                ),\n",
    "            ),\n",
    "        ),\n",
    "    )\n",
    ")\n",
    "\n",
    "# Similarly, wait for EntityType creation operation.\n",
    "print(entity_type_lro.result())"
   ]
  },
  {
   "cell_type": "markdown",
   "id": "06056328",
   "metadata": {},
   "source": [
    "### Create Features"
   ]
  },
  {
   "cell_type": "code",
   "execution_count": 13,
   "id": "b87346a4",
   "metadata": {},
   "outputs": [],
   "source": [
    "features=[\n",
    "        featurestore_service_pb2.CreateFeatureRequest(\n",
    "            feature=feature_pb2.Feature(\n",
    "                value_type=feature_pb2.Feature.ValueType.INT64,\n",
    "                description=\"Month of a trip\",\n",
    "            ),\n",
    "            feature_id=\"trip_month\",\n",
    "        ),\n",
    "        featurestore_service_pb2.CreateFeatureRequest(\n",
    "            feature=feature_pb2.Feature(\n",
    "                value_type=feature_pb2.Feature.ValueType.INT64,\n",
    "                description=\"Day of a trip\",\n",
    "            ),\n",
    "            feature_id=\"trip_day\",\n",
    "        ),\n",
    "        featurestore_service_pb2.CreateFeatureRequest(\n",
    "            feature=feature_pb2.Feature(\n",
    "                value_type=feature_pb2.Feature.ValueType.INT64,\n",
    "                description=\"Day of a week\",\n",
    "            ),\n",
    "            feature_id=\"trip_day_of_week\",\n",
    "        ),\n",
    "        featurestore_service_pb2.CreateFeatureRequest(\n",
    "            feature=feature_pb2.Feature(\n",
    "                value_type=feature_pb2.Feature.ValueType.INT64,\n",
    "                description=\"Hour of a trip\",\n",
    "            ),\n",
    "            feature_id=\"trip_hour\",\n",
    "        ),\n",
    "        featurestore_service_pb2.CreateFeatureRequest(\n",
    "            feature=feature_pb2.Feature(\n",
    "                value_type=feature_pb2.Feature.ValueType.INT64,\n",
    "                description=\"Trip duration in seconds\",\n",
    "            ),\n",
    "            feature_id=\"trip_seconds\",\n",
    "        ),\n",
    "        featurestore_service_pb2.CreateFeatureRequest(\n",
    "            feature=feature_pb2.Feature(\n",
    "                value_type=feature_pb2.Feature.ValueType.STRING,\n",
    "                description=\"Payment type\",\n",
    "            ),\n",
    "\n",
    "            feature_id=\"payment_type\",\n",
    "        ),\n",
    "        featurestore_service_pb2.CreateFeatureRequest(\n",
    "            feature=feature_pb2.Feature(\n",
    "                value_type=feature_pb2.Feature.ValueType.STRING,\n",
    "                description=\"Pick location\",\n",
    "            ),\n",
    "            feature_id=\"pickup_grid\",\n",
    "        ),\n",
    "        featurestore_service_pb2.CreateFeatureRequest(\n",
    "            feature=feature_pb2.Feature(\n",
    "                value_type=feature_pb2.Feature.ValueType.STRING,\n",
    "                description=\"Dropoff location\",\n",
    "            ),\n",
    "            feature_id=\"dropoff_grid\",\n",
    "        ),\n",
    "        featurestore_service_pb2.CreateFeatureRequest(\n",
    "            feature=feature_pb2.Feature(\n",
    "                value_type=feature_pb2.Feature.ValueType.DOUBLE,\n",
    "                description=\"Euclidean distance between pick up and dropoff\",\n",
    "            ),\n",
    "            feature_id=\"euclidean\",\n",
    "        ),\n",
    "        featurestore_service_pb2.CreateFeatureRequest(\n",
    "            feature=feature_pb2.Feature(\n",
    "                value_type=feature_pb2.Feature.ValueType.DOUBLE,\n",
    "                description=\"Miles travelled during the trip\",\n",
    "            ),\n",
    "            feature_id=\"trip_miles\",\n",
    "        ),\n",
    "        featurestore_service_pb2.CreateFeatureRequest(\n",
    "            feature=feature_pb2.Feature(\n",
    "                value_type=feature_pb2.Feature.ValueType.INT64,\n",
    "                description=\"Trip tip classification\",\n",
    "            ),\n",
    "            feature_id=\"tip_bin\",\n",
    "        ),\n",
    "    ]"
   ]
  },
  {
   "cell_type": "code",
   "execution_count": 14,
   "id": "da53cdea",
   "metadata": {},
   "outputs": [
    {
     "data": {
      "text/plain": [
       "features {\n",
       "  name: \"projects/890570890982/locations/us-central1/featurestores/jktest2_featurestore/entityTypes/trips/features/trip_month\"\n",
       "  etag: \"AMEw9yOteYWrXooVUpqe7lZTR0qRoPI0qzIVWsf1uwtZBlSuBW0t\"\n",
       "}\n",
       "features {\n",
       "  name: \"projects/890570890982/locations/us-central1/featurestores/jktest2_featurestore/entityTypes/trips/features/trip_day\"\n",
       "  etag: \"AMEw9yM2lyrU0sgT5cwPqDRa62qYlsi3SMzG8I1Ylt2nBKvZV_8j\"\n",
       "}\n",
       "features {\n",
       "  name: \"projects/890570890982/locations/us-central1/featurestores/jktest2_featurestore/entityTypes/trips/features/trip_day_of_week\"\n",
       "  etag: \"AMEw9yMS5O8I2LJ6kGzTtduaDXnTVCEtYmplGaYoJbobrriFc38k\"\n",
       "}\n",
       "features {\n",
       "  name: \"projects/890570890982/locations/us-central1/featurestores/jktest2_featurestore/entityTypes/trips/features/trip_hour\"\n",
       "  etag: \"AMEw9yMZBVwtXUxRS3UFyTyL1ISn836a3laXBP0Syjmgr6aUMJyO\"\n",
       "}\n",
       "features {\n",
       "  name: \"projects/890570890982/locations/us-central1/featurestores/jktest2_featurestore/entityTypes/trips/features/trip_seconds\"\n",
       "  etag: \"AMEw9yNk6ozuDStKzGu9waMevtMW0h9mUYqEoWyENBLh7YnH1UCZ\"\n",
       "}\n",
       "features {\n",
       "  name: \"projects/890570890982/locations/us-central1/featurestores/jktest2_featurestore/entityTypes/trips/features/payment_type\"\n",
       "  etag: \"AMEw9yMBJBjayT0_otPB-jLkzhyEboj6t0wUeTYFlOMtgjXpCMqT\"\n",
       "}\n",
       "features {\n",
       "  name: \"projects/890570890982/locations/us-central1/featurestores/jktest2_featurestore/entityTypes/trips/features/pickup_grid\"\n",
       "  etag: \"AMEw9yMdh36R7r5bwce3ZnJ0Le86XsXmHnRuFnA8YsiJ64V86b5s\"\n",
       "}\n",
       "features {\n",
       "  name: \"projects/890570890982/locations/us-central1/featurestores/jktest2_featurestore/entityTypes/trips/features/dropoff_grid\"\n",
       "  etag: \"AMEw9yPrlmr4ffAUtZGyk3RRxqdizVbXah63IepuJUP3o1SjMjQl\"\n",
       "}\n",
       "features {\n",
       "  name: \"projects/890570890982/locations/us-central1/featurestores/jktest2_featurestore/entityTypes/trips/features/euclidean\"\n",
       "  etag: \"AMEw9yPmoPbQnn4OtjqKA409SuI-zTxfRa7_sipq9YuUDz889Gj3\"\n",
       "}\n",
       "features {\n",
       "  name: \"projects/890570890982/locations/us-central1/featurestores/jktest2_featurestore/entityTypes/trips/features/trip_miles\"\n",
       "  etag: \"AMEw9yOi0VY9jC8g_tQf-pCz8jEi2ic2_BMGid8ejZt5UxnaX_yg\"\n",
       "}\n",
       "features {\n",
       "  name: \"projects/890570890982/locations/us-central1/featurestores/jktest2_featurestore/entityTypes/trips/features/tip_bin\"\n",
       "  etag: \"AMEw9yPOE6tmi9f59u-W6xTdV-zrrThMcyY1zvokyxA1eaZ114Ze\"\n",
       "}"
      ]
     },
     "execution_count": 14,
     "metadata": {},
     "output_type": "execute_result"
    }
   ],
   "source": [
    "admin_client.batch_create_features(\n",
    "    parent=admin_client.entity_type_path(PROJECT_ID, REGION, FEATURESTORE_ID, ENTITY_TYPE_ID),\n",
    "    requests=features\n",
    ").result()"
   ]
  },
  {
   "cell_type": "markdown",
   "id": "b0553125",
   "metadata": {},
   "source": [
    "### Discover features"
   ]
  },
  {
   "cell_type": "markdown",
   "id": "55770ca8",
   "metadata": {},
   "source": [
    "#### Search for all features across all featurestores"
   ]
  },
  {
   "cell_type": "code",
   "execution_count": 15,
   "id": "c318e029",
   "metadata": {},
   "outputs": [
    {
     "name": "stdout",
     "output_type": "stream",
     "text": [
      "Dropoff location\n",
      "projects/890570890982/locations/us-central1/featurestores/jktest2_featurestore/entityTypes/trips/features/dropoff_grid\n",
      "Euclidean distance between pick up and dropoff\n",
      "projects/890570890982/locations/us-central1/featurestores/jktest2_featurestore/entityTypes/trips/features/euclidean\n",
      "Payment type\n",
      "projects/890570890982/locations/us-central1/featurestores/jktest2_featurestore/entityTypes/trips/features/payment_type\n",
      "Pick location\n",
      "projects/890570890982/locations/us-central1/featurestores/jktest2_featurestore/entityTypes/trips/features/pickup_grid\n",
      "Trip tip classification\n",
      "projects/890570890982/locations/us-central1/featurestores/jktest2_featurestore/entityTypes/trips/features/tip_bin\n",
      "Day of a trip\n",
      "projects/890570890982/locations/us-central1/featurestores/jktest2_featurestore/entityTypes/trips/features/trip_day\n",
      "Day of a week\n",
      "projects/890570890982/locations/us-central1/featurestores/jktest2_featurestore/entityTypes/trips/features/trip_day_of_week\n",
      "Hour of a trip\n",
      "projects/890570890982/locations/us-central1/featurestores/jktest2_featurestore/entityTypes/trips/features/trip_hour\n",
      "Miles travelled during the trip\n",
      "projects/890570890982/locations/us-central1/featurestores/jktest2_featurestore/entityTypes/trips/features/trip_miles\n",
      "Month of a trip\n",
      "projects/890570890982/locations/us-central1/featurestores/jktest2_featurestore/entityTypes/trips/features/trip_month\n",
      "Trip duration in seconds\n",
      "projects/890570890982/locations/us-central1/featurestores/jktest2_featurestore/entityTypes/trips/features/trip_seconds\n"
     ]
    }
   ],
   "source": [
    "for feature in admin_client.search_features(location=BASE_RESOURCE_PATH):\n",
    "    print(feature.description)\n",
    "    print(feature.name)"
   ]
  },
  {
   "cell_type": "markdown",
   "id": "c150f391",
   "metadata": {},
   "source": [
    "#### Search for all features that are of type DOUBLE"
   ]
  },
  {
   "cell_type": "code",
   "execution_count": 16,
   "id": "bb693a0d",
   "metadata": {},
   "outputs": [
    {
     "name": "stdout",
     "output_type": "stream",
     "text": [
      "Euclidean distance between pick up and dropoff\n",
      "projects/890570890982/locations/us-central1/featurestores/jktest2_featurestore/entityTypes/trips/features/euclidean\n",
      "Miles travelled during the trip\n",
      "projects/890570890982/locations/us-central1/featurestores/jktest2_featurestore/entityTypes/trips/features/trip_miles\n"
     ]
    }
   ],
   "source": [
    "features = admin_client.search_features(\n",
    "    featurestore_service_pb2.SearchFeaturesRequest(\n",
    "        location=BASE_RESOURCE_PATH, query=\"value_type=DOUBLE\"\n",
    "    )\n",
    ")\n",
    "\n",
    "for feature in features:\n",
    "    print(feature.description)\n",
    "    print(feature.name)"
   ]
  },
  {
   "cell_type": "markdown",
   "id": "ce8970c7",
   "metadata": {},
   "source": [
    "#### Search for all features with specific keywords in their ID"
   ]
  },
  {
   "cell_type": "code",
   "execution_count": 17,
   "id": "1646f4df",
   "metadata": {},
   "outputs": [
    {
     "name": "stdout",
     "output_type": "stream",
     "text": [
      "Dropoff location\n",
      "projects/890570890982/locations/us-central1/featurestores/jktest2_featurestore/entityTypes/trips/features/dropoff_grid\n",
      "Pick location\n",
      "projects/890570890982/locations/us-central1/featurestores/jktest2_featurestore/entityTypes/trips/features/pickup_grid\n"
     ]
    }
   ],
   "source": [
    "features = admin_client.search_features(\n",
    "    featurestore_service_pb2.SearchFeaturesRequest(\n",
    "        location=BASE_RESOURCE_PATH, query=\"feature_id:grid AND value_type=STRING\"\n",
    "    )\n",
    ")\n",
    "\n",
    "for feature in features:\n",
    "    print(feature.description)\n",
    "    print(feature.name)"
   ]
  },
  {
   "cell_type": "markdown",
   "id": "66cda0c0",
   "metadata": {},
   "source": [
    "## Import Feature Values"
   ]
  },
  {
   "cell_type": "markdown",
   "id": "149dac51",
   "metadata": {},
   "source": [
    "### Prepare import table"
   ]
  },
  {
   "cell_type": "code",
   "execution_count": 18,
   "id": "64557c38",
   "metadata": {},
   "outputs": [],
   "source": [
    "BQ_DATASET_NAME = f'{PREFIX}_dataset' \n",
    "BQ_TABLE_NAME = 'feature_staging_table'\n",
    "BQ_LOCATION = 'US'\n",
    "SAMPLE_SIZE = 500000\n",
    "YEAR = 2020"
   ]
  },
  {
   "cell_type": "code",
   "execution_count": 19,
   "id": "66f5c0bc",
   "metadata": {},
   "outputs": [
    {
     "name": "stdout",
     "output_type": "stream",
     "text": [
      "Dataset jk-test-1002.jktest2_dataset already exists\n"
     ]
    }
   ],
   "source": [
    "client = bigquery.Client()\n",
    "\n",
    "dataset_id = f'{PROJECT_ID}.{BQ_DATASET_NAME}'\n",
    "dataset = bigquery.Dataset(dataset_id)\n",
    "dataset.location = BQ_LOCATION\n",
    "\n",
    "try:\n",
    "    dataset = client.create_dataset(dataset, timeout=30)\n",
    "    print('Created dataset: ', dataset_id)\n",
    "except exceptions.Conflict:\n",
    "    print('Dataset {} already exists'.format(dataset_id))"
   ]
  },
  {
   "cell_type": "code",
   "execution_count": 20,
   "id": "9dea3396",
   "metadata": {},
   "outputs": [
    {
     "data": {
      "text/plain": [
       "<google.cloud.bigquery.table._EmptyRowIterator at 0x7f8a12c47410>"
      ]
     },
     "execution_count": 20,
     "metadata": {},
     "output_type": "execute_result"
    }
   ],
   "source": [
    "sql_script_template = '''\n",
    "CREATE OR REPLACE TABLE `@PROJECT.@DATASET.@TABLE` \n",
    "AS (\n",
    "    WITH\n",
    "      taxitrips AS (\n",
    "      SELECT\n",
    "        unique_key AS trip_id,\n",
    "        FORMAT_DATETIME('%Y-%d-%m', trip_start_timestamp) AS date,\n",
    "        trip_start_timestamp,\n",
    "        trip_seconds,\n",
    "        trip_miles,\n",
    "        payment_type,\n",
    "        pickup_longitude,\n",
    "        pickup_latitude,\n",
    "        dropoff_longitude,\n",
    "        dropoff_latitude,\n",
    "        tips,\n",
    "        fare\n",
    "      FROM\n",
    "        `bigquery-public-data.chicago_taxi_trips.taxi_trips`\n",
    "      WHERE 1=1 \n",
    "      AND pickup_longitude IS NOT NULL\n",
    "      AND pickup_latitude IS NOT NULL\n",
    "      AND dropoff_longitude IS NOT NULL\n",
    "      AND dropoff_latitude IS NOT NULL\n",
    "      AND trip_miles > 0\n",
    "      AND trip_seconds > 0\n",
    "      AND fare > 0\n",
    "      AND EXTRACT(YEAR FROM trip_start_timestamp) = @YEAR\n",
    "    )\n",
    "    SELECT\n",
    "      trip_id,\n",
    "      trip_start_timestamp,\n",
    "      EXTRACT(MONTH from trip_start_timestamp) as trip_month,\n",
    "      EXTRACT(DAY from trip_start_timestamp) as trip_day,\n",
    "      EXTRACT(DAYOFWEEK from trip_start_timestamp) as trip_day_of_week,\n",
    "      EXTRACT(HOUR from trip_start_timestamp) as trip_hour,\n",
    "      trip_seconds,\n",
    "      trip_miles,\n",
    "      payment_type,\n",
    "      ST_AsText(\n",
    "          ST_SnapToGrid(ST_GeogPoint(pickup_longitude, pickup_latitude), 0.1)\n",
    "      ) AS pickup_grid,\n",
    "      ST_AsText(\n",
    "          ST_SnapToGrid(ST_GeogPoint(dropoff_longitude, dropoff_latitude), 0.1)\n",
    "      ) AS dropoff_grid,\n",
    "      ST_Distance(\n",
    "          ST_GeogPoint(pickup_longitude, pickup_latitude), \n",
    "          ST_GeogPoint(dropoff_longitude, dropoff_latitude)\n",
    "      ) AS euclidean,\n",
    "      IF((tips/fare >= 0.2), 1, 0) AS tip_bin,\n",
    "      CASE (ABS(MOD(FARM_FINGERPRINT(date),10))) \n",
    "          WHEN 9 THEN 'TEST'\n",
    "          WHEN 8 THEN 'VALIDATE'\n",
    "          ELSE 'TRAIN' END AS data_split\n",
    "    FROM\n",
    "      taxitrips\n",
    "    LIMIT @LIMIT\n",
    ")\n",
    "'''\n",
    "\n",
    "\n",
    "sql_script = sql_script_template.replace(\n",
    "    '@PROJECT', PROJECT_ID).replace(\n",
    "    '@DATASET', BQ_DATASET_NAME).replace(\n",
    "    '@TABLE', BQ_TABLE_NAME).replace(\n",
    "    '@YEAR', str(YEAR)).replace(\n",
    "    '@LIMIT', str(SAMPLE_SIZE))\n",
    "\n",
    "job = client.query(sql_script)\n",
    "job.result()"
   ]
  },
  {
   "cell_type": "markdown",
   "id": "91af6032",
   "metadata": {},
   "source": [
    "### Import features"
   ]
  },
  {
   "cell_type": "code",
   "execution_count": 21,
   "id": "608e578f",
   "metadata": {},
   "outputs": [],
   "source": [
    "entity_id_field = 'trip_id'\n",
    "bq_table = f'bq://{PROJECT_ID}.{BQ_DATASET_NAME}.{BQ_TABLE_NAME}'\n",
    "\n",
    "import_request = featurestore_service_pb2.ImportFeatureValuesRequest(\n",
    "    entity_type=admin_client.entity_type_path(\n",
    "        PROJECT_ID, REGION, FEATURESTORE_ID, ENTITY_TYPE_ID\n",
    "    ),\n",
    "    bigquery_source=io_pb2.BigQuerySource(\n",
    "        input_uri=bq_table\n",
    "    ),\n",
    "    entity_id_field=entity_id_field,\n",
    "    feature_specs=[\n",
    "        featurestore_service_pb2.ImportFeatureValuesRequest.FeatureSpec(id=\"tip_bin\"),\n",
    "        featurestore_service_pb2.ImportFeatureValuesRequest.FeatureSpec(id=\"trip_month\"),\n",
    "        featurestore_service_pb2.ImportFeatureValuesRequest.FeatureSpec(id=\"trip_day\"),\n",
    "        featurestore_service_pb2.ImportFeatureValuesRequest.FeatureSpec(id=\"trip_day_of_week\"),\n",
    "        featurestore_service_pb2.ImportFeatureValuesRequest.FeatureSpec(id=\"trip_hour\"),\n",
    "        featurestore_service_pb2.ImportFeatureValuesRequest.FeatureSpec(id=\"payment_type\"),\n",
    "        featurestore_service_pb2.ImportFeatureValuesRequest.FeatureSpec(id=\"pickup_grid\"),\n",
    "        featurestore_service_pb2.ImportFeatureValuesRequest.FeatureSpec(id=\"dropoff_grid\"),\n",
    "        featurestore_service_pb2.ImportFeatureValuesRequest.FeatureSpec(id=\"euclidean\"),\n",
    "        featurestore_service_pb2.ImportFeatureValuesRequest.FeatureSpec(id=\"trip_seconds\"),\n",
    "        featurestore_service_pb2.ImportFeatureValuesRequest.FeatureSpec(id=\"trip_miles\"),\n",
    "    ],\n",
    "    feature_time_field=\"trip_start_timestamp\",\n",
    "    worker_count=1,\n",
    ")"
   ]
  },
  {
   "cell_type": "code",
   "execution_count": 22,
   "id": "d9dccdec",
   "metadata": {},
   "outputs": [],
   "source": [
    "ingestion_lro = admin_client.import_feature_values(import_request)"
   ]
  },
  {
   "cell_type": "code",
   "execution_count": 26,
   "id": "52f5e6a6",
   "metadata": {},
   "outputs": [
    {
     "data": {
      "text/plain": [
       "imported_entity_count: 500000\n",
       "imported_feature_value_count: 5500000"
      ]
     },
     "execution_count": 26,
     "metadata": {},
     "output_type": "execute_result"
    }
   ],
   "source": [
    "ingestion_lro.result()"
   ]
  },
  {
   "cell_type": "markdown",
   "id": "f62e466c",
   "metadata": {},
   "source": [
    "## Online serving\n",
    "\n",
    "The\n",
    "[Online Serving APIs](https://cloud.google.com/vertex-ai/featurestore/docs/reference/rpc/google.cloud.aiplatform.v1beta1#featurestoreonlineservingservice)\n",
    "lets you serve feature values for small batches of entities. It's designed for latency-sensitive service, such as online model prediction. For example, for a movie service, you might want to quickly shows movies that the current user would most likely watch by using online predictions."
   ]
  },
  {
   "cell_type": "markdown",
   "id": "2ccf1ad9",
   "metadata": {},
   "source": [
    "### Read one entity per request\n",
    "\n",
    "The ReadFeatureValues API is used to read feature values of one entity; hence\n",
    "its custom HTTP verb is `readFeatureValues`. By default, the API will return the  latest value of each feature, meaning the feature values with the most recent  timestamp.\n",
    "\n",
    "To read feature values, specify the entity ID and features to read. The response\n",
    "contains a `header` and an `entity_view`. Each row of data in the `entity_view`\n",
    "contains one feature value, in the same order of features as listed in the response header."
   ]
  },
  {
   "cell_type": "code",
   "execution_count": 39,
   "id": "c664e582",
   "metadata": {},
   "outputs": [
    {
     "data": {
      "text/plain": [
       "header {\n",
       "  entity_type: \"projects/890570890982/locations/us-central1/featurestores/jktest2_featurestore/entityTypes/trips\"\n",
       "  feature_descriptors {\n",
       "    id: \"tip_bin\"\n",
       "  }\n",
       "  feature_descriptors {\n",
       "    id: \"trip_miles\"\n",
       "  }\n",
       "  feature_descriptors {\n",
       "    id: \"trip_day\"\n",
       "  }\n",
       "}\n",
       "entity_view {\n",
       "  entity_id: \"13311b767c033d82e37439228ef23fd1d018d061\"\n",
       "  data {\n",
       "    value {\n",
       "      int64_value: 0\n",
       "      metadata {\n",
       "        generate_time {\n",
       "          seconds: 1592524800\n",
       "        }\n",
       "      }\n",
       "    }\n",
       "  }\n",
       "  data {\n",
       "    value {\n",
       "      double_value: 1.1\n",
       "      metadata {\n",
       "        generate_time {\n",
       "          seconds: 1592524800\n",
       "        }\n",
       "      }\n",
       "    }\n",
       "  }\n",
       "  data {\n",
       "    value {\n",
       "      int64_value: 19\n",
       "      metadata {\n",
       "        generate_time {\n",
       "          seconds: 1592524800\n",
       "        }\n",
       "      }\n",
       "    }\n",
       "  }\n",
       "}"
      ]
     },
     "execution_count": 39,
     "metadata": {},
     "output_type": "execute_result"
    }
   ],
   "source": [
    "feature_selector = FeatureSelector(\n",
    "    id_matcher=IdMatcher(ids=[\"tip_bin\", \"trip_miles\", \"trip_day\"])\n",
    ")\n",
    "\n",
    "features = data_client.read_feature_values(\n",
    "    featurestore_online_service_pb2.ReadFeatureValuesRequest(\n",
    "        # Fetch from the following feature store/entity type\n",
    "        entity_type=admin_client.entity_type_path(\n",
    "            PROJECT_ID, REGION, FEATURESTORE_ID, ENTITY_TYPE_ID\n",
    "        ),\n",
    "        # Fetch the user features whose ID is \"alice\"\n",
    "        entity_id=\"13311b767c033d82e37439228ef23fd1d018d061\",\n",
    "        feature_selector=feature_selector,\n",
    "    )\n",
    ")\n",
    "features"
   ]
  },
  {
   "cell_type": "markdown",
   "id": "89fc2e9a",
   "metadata": {},
   "source": [
    "### Read multiple entities per request"
   ]
  },
  {
   "cell_type": "code",
   "execution_count": 40,
   "id": "0559e0dc",
   "metadata": {},
   "outputs": [],
   "source": [
    "response_stream = data_client.streaming_read_feature_values(\n",
    "    featurestore_online_service_pb2.StreamingReadFeatureValuesRequest(\n",
    "        entity_type=admin_client.entity_type_path(\n",
    "            PROJECT_ID, REGION, FEATURESTORE_ID, ENTITY_TYPE_ID\n",
    "        ),\n",
    "        entity_ids=[\"13311b767c033d82e37439228ef23fd1d018d061\", \"0e9be1edf79c3d88b4da5b9d11c2651538fb33b4\"],\n",
    "        feature_selector=feature_selector,\n",
    "    )\n",
    ")"
   ]
  },
  {
   "cell_type": "code",
   "execution_count": 41,
   "id": "b60b9916",
   "metadata": {},
   "outputs": [
    {
     "name": "stdout",
     "output_type": "stream",
     "text": [
      "header {\n",
      "  entity_type: \"projects/890570890982/locations/us-central1/featurestores/jktest2_featurestore/entityTypes/trips\"\n",
      "  feature_descriptors {\n",
      "    id: \"tip_bin\"\n",
      "  }\n",
      "  feature_descriptors {\n",
      "    id: \"trip_miles\"\n",
      "  }\n",
      "  feature_descriptors {\n",
      "    id: \"trip_day\"\n",
      "  }\n",
      "}\n",
      "\n",
      "entity_view {\n",
      "  entity_id: \"0e9be1edf79c3d88b4da5b9d11c2651538fb33b4\"\n",
      "  data {\n",
      "    value {\n",
      "      int64_value: 0\n",
      "      metadata {\n",
      "        generate_time {\n",
      "          seconds: 1592524800\n",
      "        }\n",
      "      }\n",
      "    }\n",
      "  }\n",
      "  data {\n",
      "    value {\n",
      "      double_value: 0.9\n",
      "      metadata {\n",
      "        generate_time {\n",
      "          seconds: 1592524800\n",
      "        }\n",
      "      }\n",
      "    }\n",
      "  }\n",
      "  data {\n",
      "    value {\n",
      "      int64_value: 19\n",
      "      metadata {\n",
      "        generate_time {\n",
      "          seconds: 1592524800\n",
      "        }\n",
      "      }\n",
      "    }\n",
      "  }\n",
      "}\n",
      "\n",
      "entity_view {\n",
      "  entity_id: \"13311b767c033d82e37439228ef23fd1d018d061\"\n",
      "  data {\n",
      "    value {\n",
      "      int64_value: 0\n",
      "      metadata {\n",
      "        generate_time {\n",
      "          seconds: 1592524800\n",
      "        }\n",
      "      }\n",
      "    }\n",
      "  }\n",
      "  data {\n",
      "    value {\n",
      "      double_value: 1.1\n",
      "      metadata {\n",
      "        generate_time {\n",
      "          seconds: 1592524800\n",
      "        }\n",
      "      }\n",
      "    }\n",
      "  }\n",
      "  data {\n",
      "    value {\n",
      "      int64_value: 19\n",
      "      metadata {\n",
      "        generate_time {\n",
      "          seconds: 1592524800\n",
      "        }\n",
      "      }\n",
      "    }\n",
      "  }\n",
      "}\n",
      "\n"
     ]
    }
   ],
   "source": [
    "for response in response_stream:\n",
    "    print(response)"
   ]
  },
  {
   "cell_type": "markdown",
   "id": "2e7ec2e3",
   "metadata": {},
   "source": [
    "## Batch serving\n",
    "\n",
    "Batch Serving is used to fetch a large batch of feature values for high-throughput, typically for training a model or batch prediction. In this section, you will learn how to prepare for training examples by calling the BatchReadFeatureValues API."
   ]
  },
  {
   "cell_type": "markdown",
   "id": "313afbdf",
   "metadata": {},
   "source": [
    "### Use case\n",
    "\n"
   ]
  },
  {
   "cell_type": "code",
   "execution_count": null,
   "id": "3797d134",
   "metadata": {},
   "outputs": [],
   "source": []
  },
  {
   "cell_type": "code",
   "execution_count": 30,
   "id": "b9292991",
   "metadata": {},
   "outputs": [
    {
     "name": "stderr",
     "output_type": "stream",
     "text": [
      "Query complete after 0.00s: 100%|██████████| 1/1 [00:00<00:00, 522.13query/s]                          \n",
      "Downloading: 100%|██████████| 10/10 [00:01<00:00,  9.52rows/s]\n"
     ]
    },
    {
     "data": {
      "text/html": [
       "<div>\n",
       "<style scoped>\n",
       "    .dataframe tbody tr th:only-of-type {\n",
       "        vertical-align: middle;\n",
       "    }\n",
       "\n",
       "    .dataframe tbody tr th {\n",
       "        vertical-align: top;\n",
       "    }\n",
       "\n",
       "    .dataframe thead th {\n",
       "        text-align: right;\n",
       "    }\n",
       "</style>\n",
       "<table border=\"1\" class=\"dataframe\">\n",
       "  <thead>\n",
       "    <tr style=\"text-align: right;\">\n",
       "      <th></th>\n",
       "      <th>trip_id</th>\n",
       "      <th>trip_start_timestamp</th>\n",
       "      <th>trip_month</th>\n",
       "      <th>trip_day</th>\n",
       "      <th>trip_day_of_week</th>\n",
       "      <th>trip_hour</th>\n",
       "      <th>trip_seconds</th>\n",
       "      <th>trip_miles</th>\n",
       "      <th>payment_type</th>\n",
       "      <th>pickup_grid</th>\n",
       "      <th>dropoff_grid</th>\n",
       "      <th>euclidean</th>\n",
       "      <th>tip_bin</th>\n",
       "      <th>data_split</th>\n",
       "    </tr>\n",
       "  </thead>\n",
       "  <tbody>\n",
       "    <tr>\n",
       "      <th>0</th>\n",
       "      <td>13311b767c033d82e37439228ef23fd1d018d061</td>\n",
       "      <td>2020-06-19 00:00:00+00:00</td>\n",
       "      <td>6</td>\n",
       "      <td>19</td>\n",
       "      <td>6</td>\n",
       "      <td>0</td>\n",
       "      <td>358</td>\n",
       "      <td>1.10</td>\n",
       "      <td>Prcard</td>\n",
       "      <td>POINT(-87.7 42)</td>\n",
       "      <td>POINT(-87.7 42)</td>\n",
       "      <td>0.000000</td>\n",
       "      <td>0</td>\n",
       "      <td>TRAIN</td>\n",
       "    </tr>\n",
       "    <tr>\n",
       "      <th>1</th>\n",
       "      <td>0e9be1edf79c3d88b4da5b9d11c2651538fb33b4</td>\n",
       "      <td>2020-06-19 00:00:00+00:00</td>\n",
       "      <td>6</td>\n",
       "      <td>19</td>\n",
       "      <td>6</td>\n",
       "      <td>0</td>\n",
       "      <td>240</td>\n",
       "      <td>0.90</td>\n",
       "      <td>Cash</td>\n",
       "      <td>POINT(-87.7 42)</td>\n",
       "      <td>POINT(-87.7 42)</td>\n",
       "      <td>2406.040979</td>\n",
       "      <td>0</td>\n",
       "      <td>TRAIN</td>\n",
       "    </tr>\n",
       "    <tr>\n",
       "      <th>2</th>\n",
       "      <td>253a9ed082c397874cb5240c04af596a43ff745b</td>\n",
       "      <td>2020-06-19 00:00:00+00:00</td>\n",
       "      <td>6</td>\n",
       "      <td>19</td>\n",
       "      <td>6</td>\n",
       "      <td>0</td>\n",
       "      <td>383</td>\n",
       "      <td>0.80</td>\n",
       "      <td>Credit Card</td>\n",
       "      <td>POINT(-87.6 41.9)</td>\n",
       "      <td>POINT(-87.6 41.9)</td>\n",
       "      <td>0.000000</td>\n",
       "      <td>0</td>\n",
       "      <td>TRAIN</td>\n",
       "    </tr>\n",
       "    <tr>\n",
       "      <th>3</th>\n",
       "      <td>3c62f8582be02c4f38b6980c554184b8ac4eaea5</td>\n",
       "      <td>2020-02-20 00:00:00+00:00</td>\n",
       "      <td>2</td>\n",
       "      <td>20</td>\n",
       "      <td>5</td>\n",
       "      <td>0</td>\n",
       "      <td>921</td>\n",
       "      <td>6.30</td>\n",
       "      <td>Cash</td>\n",
       "      <td>POINT(-87.8 41.9)</td>\n",
       "      <td>POINT(-87.7 41.9)</td>\n",
       "      <td>10106.030910</td>\n",
       "      <td>0</td>\n",
       "      <td>VALIDATE</td>\n",
       "    </tr>\n",
       "    <tr>\n",
       "      <th>4</th>\n",
       "      <td>6d1fc342d4059112b7dded8987dabb1af79302ee</td>\n",
       "      <td>2020-02-20 00:00:00+00:00</td>\n",
       "      <td>2</td>\n",
       "      <td>20</td>\n",
       "      <td>5</td>\n",
       "      <td>0</td>\n",
       "      <td>305</td>\n",
       "      <td>1.03</td>\n",
       "      <td>Cash</td>\n",
       "      <td>POINT(-87.7 41.9)</td>\n",
       "      <td>POINT(-87.7 42)</td>\n",
       "      <td>2400.207596</td>\n",
       "      <td>0</td>\n",
       "      <td>VALIDATE</td>\n",
       "    </tr>\n",
       "    <tr>\n",
       "      <th>5</th>\n",
       "      <td>f0c56f72fd74d36cff015ea126634d9627cad1f9</td>\n",
       "      <td>2020-02-20 00:00:00+00:00</td>\n",
       "      <td>2</td>\n",
       "      <td>20</td>\n",
       "      <td>5</td>\n",
       "      <td>0</td>\n",
       "      <td>1620</td>\n",
       "      <td>16.80</td>\n",
       "      <td>Cash</td>\n",
       "      <td>POINT(-87.9 42)</td>\n",
       "      <td>POINT(-87.6 41.9)</td>\n",
       "      <td>24859.931760</td>\n",
       "      <td>0</td>\n",
       "      <td>VALIDATE</td>\n",
       "    </tr>\n",
       "    <tr>\n",
       "      <th>6</th>\n",
       "      <td>647dc86ec97d68d299250a46d6070b6727213a2c</td>\n",
       "      <td>2020-02-20 00:00:00+00:00</td>\n",
       "      <td>2</td>\n",
       "      <td>20</td>\n",
       "      <td>5</td>\n",
       "      <td>0</td>\n",
       "      <td>675</td>\n",
       "      <td>1.86</td>\n",
       "      <td>Cash</td>\n",
       "      <td>POINT(-87.7 41.9)</td>\n",
       "      <td>POINT(-87.6 41.9)</td>\n",
       "      <td>3788.783830</td>\n",
       "      <td>0</td>\n",
       "      <td>VALIDATE</td>\n",
       "    </tr>\n",
       "    <tr>\n",
       "      <th>7</th>\n",
       "      <td>282c6baade7670bdcf5b029a6be7b686e6c145f5</td>\n",
       "      <td>2020-02-20 00:00:00+00:00</td>\n",
       "      <td>2</td>\n",
       "      <td>20</td>\n",
       "      <td>5</td>\n",
       "      <td>0</td>\n",
       "      <td>420</td>\n",
       "      <td>1.50</td>\n",
       "      <td>Credit Card</td>\n",
       "      <td>POINT(-87.6 41.9)</td>\n",
       "      <td>POINT(-87.6 41.9)</td>\n",
       "      <td>2078.005254</td>\n",
       "      <td>0</td>\n",
       "      <td>VALIDATE</td>\n",
       "    </tr>\n",
       "    <tr>\n",
       "      <th>8</th>\n",
       "      <td>339cf1db2ccc4e6034fdfb57f9bac4b21efe32f1</td>\n",
       "      <td>2020-02-20 00:00:00+00:00</td>\n",
       "      <td>2</td>\n",
       "      <td>20</td>\n",
       "      <td>5</td>\n",
       "      <td>0</td>\n",
       "      <td>1401</td>\n",
       "      <td>18.47</td>\n",
       "      <td>Cash</td>\n",
       "      <td>POINT(-87.9 42)</td>\n",
       "      <td>POINT(-87.6 41.9)</td>\n",
       "      <td>25467.906912</td>\n",
       "      <td>0</td>\n",
       "      <td>VALIDATE</td>\n",
       "    </tr>\n",
       "    <tr>\n",
       "      <th>9</th>\n",
       "      <td>6ccda2a0c84366b2cc89627619009484c62c019d</td>\n",
       "      <td>2020-02-20 00:00:00+00:00</td>\n",
       "      <td>2</td>\n",
       "      <td>20</td>\n",
       "      <td>5</td>\n",
       "      <td>0</td>\n",
       "      <td>300</td>\n",
       "      <td>1.00</td>\n",
       "      <td>Cash</td>\n",
       "      <td>POINT(-87.6 41.9)</td>\n",
       "      <td>POINT(-87.6 41.9)</td>\n",
       "      <td>1593.255669</td>\n",
       "      <td>0</td>\n",
       "      <td>VALIDATE</td>\n",
       "    </tr>\n",
       "  </tbody>\n",
       "</table>\n",
       "</div>"
      ],
      "text/plain": [
       "                                    trip_id      trip_start_timestamp  \\\n",
       "0  13311b767c033d82e37439228ef23fd1d018d061 2020-06-19 00:00:00+00:00   \n",
       "1  0e9be1edf79c3d88b4da5b9d11c2651538fb33b4 2020-06-19 00:00:00+00:00   \n",
       "2  253a9ed082c397874cb5240c04af596a43ff745b 2020-06-19 00:00:00+00:00   \n",
       "3  3c62f8582be02c4f38b6980c554184b8ac4eaea5 2020-02-20 00:00:00+00:00   \n",
       "4  6d1fc342d4059112b7dded8987dabb1af79302ee 2020-02-20 00:00:00+00:00   \n",
       "5  f0c56f72fd74d36cff015ea126634d9627cad1f9 2020-02-20 00:00:00+00:00   \n",
       "6  647dc86ec97d68d299250a46d6070b6727213a2c 2020-02-20 00:00:00+00:00   \n",
       "7  282c6baade7670bdcf5b029a6be7b686e6c145f5 2020-02-20 00:00:00+00:00   \n",
       "8  339cf1db2ccc4e6034fdfb57f9bac4b21efe32f1 2020-02-20 00:00:00+00:00   \n",
       "9  6ccda2a0c84366b2cc89627619009484c62c019d 2020-02-20 00:00:00+00:00   \n",
       "\n",
       "   trip_month  trip_day  trip_day_of_week  trip_hour  trip_seconds  \\\n",
       "0           6        19                 6          0           358   \n",
       "1           6        19                 6          0           240   \n",
       "2           6        19                 6          0           383   \n",
       "3           2        20                 5          0           921   \n",
       "4           2        20                 5          0           305   \n",
       "5           2        20                 5          0          1620   \n",
       "6           2        20                 5          0           675   \n",
       "7           2        20                 5          0           420   \n",
       "8           2        20                 5          0          1401   \n",
       "9           2        20                 5          0           300   \n",
       "\n",
       "   trip_miles payment_type        pickup_grid       dropoff_grid  \\\n",
       "0        1.10       Prcard    POINT(-87.7 42)    POINT(-87.7 42)   \n",
       "1        0.90         Cash    POINT(-87.7 42)    POINT(-87.7 42)   \n",
       "2        0.80  Credit Card  POINT(-87.6 41.9)  POINT(-87.6 41.9)   \n",
       "3        6.30         Cash  POINT(-87.8 41.9)  POINT(-87.7 41.9)   \n",
       "4        1.03         Cash  POINT(-87.7 41.9)    POINT(-87.7 42)   \n",
       "5       16.80         Cash    POINT(-87.9 42)  POINT(-87.6 41.9)   \n",
       "6        1.86         Cash  POINT(-87.7 41.9)  POINT(-87.6 41.9)   \n",
       "7        1.50  Credit Card  POINT(-87.6 41.9)  POINT(-87.6 41.9)   \n",
       "8       18.47         Cash    POINT(-87.9 42)  POINT(-87.6 41.9)   \n",
       "9        1.00         Cash  POINT(-87.6 41.9)  POINT(-87.6 41.9)   \n",
       "\n",
       "      euclidean  tip_bin data_split  \n",
       "0      0.000000        0      TRAIN  \n",
       "1   2406.040979        0      TRAIN  \n",
       "2      0.000000        0      TRAIN  \n",
       "3  10106.030910        0   VALIDATE  \n",
       "4   2400.207596        0   VALIDATE  \n",
       "5  24859.931760        0   VALIDATE  \n",
       "6   3788.783830        0   VALIDATE  \n",
       "7   2078.005254        0   VALIDATE  \n",
       "8  25467.906912        0   VALIDATE  \n",
       "9   1593.255669        0   VALIDATE  "
      ]
     },
     "execution_count": 30,
     "metadata": {},
     "output_type": "execute_result"
    }
   ],
   "source": [
    "%%bigquery\n",
    "SELECT * \n",
    "FROM\n",
    "`jk-test-1002.jktest2_dataset.feature_staging_table`\n",
    "LIMIT 10"
   ]
  },
  {
   "cell_type": "markdown",
   "id": "2e0230ca",
   "metadata": {},
   "source": [
    "## Clean up"
   ]
  },
  {
   "cell_type": "code",
   "execution_count": null,
   "id": "0ac4a1df",
   "metadata": {},
   "outputs": [],
   "source": [
    "admin_client.delete_featurestore(\n",
    "    featurestore_service_pb2.DeleteFeaturestoreRequest(\n",
    "        name=admin_client.featurestore_path(PROJECT_ID, REGION, FEATURESTORE_ID),\n",
    "        force=True\n",
    "    )\n",
    ")"
   ]
  },
  {
   "cell_type": "code",
   "execution_count": null,
   "id": "962148c5",
   "metadata": {},
   "outputs": [],
   "source": []
  }
 ],
 "metadata": {
  "environment": {
   "name": "tf2-cpu.2-4.m69",
   "type": "gcloud",
   "uri": "gcr.io/deeplearning-platform-release/tf2-cpu.2-4:m69"
  },
  "kernelspec": {
   "display_name": "Python [conda env:root] *",
   "language": "python",
   "name": "conda-root-py"
  },
  "language_info": {
   "codemirror_mode": {
    "name": "ipython",
    "version": 3
   },
   "file_extension": ".py",
   "mimetype": "text/x-python",
   "name": "python",
   "nbconvert_exporter": "python",
   "pygments_lexer": "ipython3",
   "version": "3.7.10"
  }
 },
 "nbformat": 4,
 "nbformat_minor": 5
}
