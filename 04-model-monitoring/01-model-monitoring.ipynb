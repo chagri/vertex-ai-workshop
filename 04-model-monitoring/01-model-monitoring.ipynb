{
 "cells": [
  {
   "cell_type": "markdown",
   "id": "6a05e9ef",
   "metadata": {},
   "source": [
    "# Monitoring deployed models with Vertex Model Monitoring"
   ]
  },
  {
   "cell_type": "code",
   "execution_count": 1,
   "id": "2eaa1e5e",
   "metadata": {},
   "outputs": [],
   "source": [
    "import copy\n",
    "import os\n",
    "import pprint\n",
    "import pandas as pd\n",
    "import tensorflow as tf\n",
    "import time\n",
    "\n",
    "from google.cloud import aiplatform\n",
    "\n",
    "from google.cloud.aiplatform_v1beta1.services.endpoint_service import \\\n",
    "    EndpointServiceClient\n",
    "from google.cloud.aiplatform_v1beta1.services.job_service import \\\n",
    "    JobServiceClient\n",
    "from google.cloud.aiplatform_v1beta1.services.prediction_service import \\\n",
    "    PredictionServiceClient\n",
    "from google.cloud.aiplatform_v1beta1.types.io import BigQuerySource\n",
    "from google.cloud.aiplatform_v1beta1.types.model_deployment_monitoring_job import (\n",
    "    ModelDeploymentMonitoringJob, ModelDeploymentMonitoringObjectiveConfig,\n",
    "    ModelDeploymentMonitoringScheduleConfig)\n",
    "from google.cloud.aiplatform_v1beta1.types.model_monitoring import (\n",
    "    ModelMonitoringAlertConfig, ModelMonitoringObjectiveConfig,\n",
    "    SamplingStrategy, ThresholdConfig)\n",
    "from google.cloud.aiplatform_v1beta1.types.prediction_service import \\\n",
    "    PredictRequest\n",
    "\n",
    "from google.protobuf import json_format\n",
    "from google.protobuf.duration_pb2 import Duration\n",
    "from google.protobuf.struct_pb2 import Value"
   ]
  },
  {
   "cell_type": "markdown",
   "id": "6068d0ac",
   "metadata": {},
   "source": [
    "## Configure lab settings"
   ]
  },
  {
   "cell_type": "code",
   "execution_count": 2,
   "id": "cc84db50",
   "metadata": {},
   "outputs": [],
   "source": [
    "PROJECT_ID = 'jk-vertex-workshop'\n",
    "REGION = 'us-central1'\n",
    "PREFIX = 'jkvw'\n",
    "\n",
    "STAGING_BUCKET = f'gs://{PREFIX}-bucket'\n",
    "VERTEX_SA = f'{PREFIX}-training-sa@{PROJECT_ID}.iam.gserviceaccount.com'\n",
    "\n",
    "API_ENDPOINT = f'{REGION}-aiplatform.googleapis.com'\n",
    "PREDICT_API_ENDPOINT = f'{REGION}-prediction-aiplatform.googleapis.com'\n",
    "\n",
    "ENDPOINT_DISPLAY_NAME = f'{PREFIX} Taxi tip predictor'"
   ]
  },
  {
   "cell_type": "markdown",
   "id": "d0acb6f4",
   "metadata": {},
   "source": [
    "## Test the deployed model"
   ]
  },
  {
   "cell_type": "code",
   "execution_count": 3,
   "id": "63a3ac07",
   "metadata": {},
   "outputs": [
    {
     "name": "stdout",
     "output_type": "stream",
     "text": [
      "<google.cloud.aiplatform.models.Endpoint object at 0x7efd820e0490> \n",
      "resource name: projects/910094146258/locations/us-central1/endpoints/3098810795165745152\n"
     ]
    }
   ],
   "source": [
    "filter = f'display_name=\"{ENDPOINT_DISPLAY_NAME}\"'\n",
    "\n",
    "for endpoint_info in aiplatform.Endpoint.list(filter=filter):\n",
    "    print(endpoint_info)\n",
    "    \n",
    "endpoint = aiplatform.Endpoint(endpoint_info.resource_name)\n",
    "\n",
    "ENDPOINT_ID = endpoint.resource_name"
   ]
  },
  {
   "cell_type": "code",
   "execution_count": 4,
   "id": "61e52630",
   "metadata": {},
   "outputs": [
    {
     "name": "stdout",
     "output_type": "stream",
     "text": [
      "Probability of tip > 20%: [[0.72956824]]\n"
     ]
    }
   ],
   "source": [
    "test_instances = [  \n",
    "    \n",
    "    {\n",
    "        \"dropoff_grid\": [\"POINT(-87.6 41.9)\"],\n",
    "        \"euclidean\": [2064.2696],\n",
    "        \"payment_type\": [\"Credit Card\"],\n",
    "        \"pickup_grid\": [\"POINT(-87.6 41.9)\"],\n",
    "        \"trip_miles\": [1.37],\n",
    "        \"trip_day\": [12],\n",
    "        \"trip_hour\": [16],\n",
    "        \"trip_month\": [2],\n",
    "        \"trip_day_of_week\": [4],\n",
    "        \"trip_seconds\": [555]\n",
    "    }\n",
    "]\n",
    "\n",
    "predictions = endpoint.predict(instances=test_instances)\n",
    "prob = tf.nn.sigmoid(predictions[0])\n",
    "print('Probability of tip > 20%:', prob.numpy())"
   ]
  },
  {
   "cell_type": "markdown",
   "id": "1d2cbce3",
   "metadata": {},
   "source": [
    "## Starting monitoring jobs"
   ]
  },
  {
   "cell_type": "markdown",
   "id": "4b6f96a1",
   "metadata": {},
   "source": [
    "### Define helper functions"
   ]
  },
  {
   "cell_type": "code",
   "execution_count": 5,
   "id": "554fe494",
   "metadata": {},
   "outputs": [],
   "source": [
    "def send_predict_request(endpoint, input):\n",
    "    client_options = {\"api_endpoint\": PREDICT_API_ENDPOINT}\n",
    "    client = PredictionServiceClient(client_options=client_options)\n",
    "    params = {}\n",
    "    params = json_format.ParseDict(params, Value())\n",
    "    request = PredictRequest(endpoint=endpoint, parameters=params)\n",
    "    inputs = [json_format.ParseDict(input, Value())]\n",
    "    request.instances.extend(inputs)\n",
    "    response = client.predict(request)\n",
    "    return response\n",
    "\n",
    "\n",
    "def list_monitoring_jobs():\n",
    "    client_options = dict(api_endpoint=API_ENDPOINT)\n",
    "    parent = f\"projects/{PROJECT_ID}/locations/{REGION}\"\n",
    "    client = JobServiceClient(client_options=client_options)\n",
    "    response = client.list_model_deployment_monitoring_jobs(parent=parent)\n",
    "    return response\n",
    "\n",
    "def get_monitoring_job(job):\n",
    "    client_options = dict(api_endpoint=API_ENDPOINT)\n",
    "    parent = f\"projects/{PROJECT_ID}/locations/{REGION}\"\n",
    "    client = JobServiceClient(client_options=client_options)\n",
    "    response = client.get_model_deployment_monitoring_job(parent=parent)\n",
    "    return response\n",
    "\n",
    "def pause_monitoring_job(job):\n",
    "    client_options = dict(api_endpoint=API_ENDPOINT)\n",
    "    client = JobServiceClient(client_options=client_options)\n",
    "    response = client.pause_model_deployment_monitoring_job(name=job)\n",
    "    print(response)\n",
    "\n",
    "\n",
    "def delete_monitoring_job(job):\n",
    "    client_options = dict(api_endpoint=API_ENDPOINT)\n",
    "    client = JobServiceClient(client_options=client_options)\n",
    "    response = client.delete_model_deployment_monitoring_job(name=job)\n",
    "    print(response)\n"
   ]
  },
  {
   "cell_type": "markdown",
   "id": "a4b44d7e",
   "metadata": {},
   "source": [
    "### Configure the job"
   ]
  },
  {
   "cell_type": "markdown",
   "id": "d2991d68",
   "metadata": {},
   "source": [
    "#### Configure skew and drift thresholds"
   ]
  },
  {
   "cell_type": "code",
   "execution_count": 6,
   "id": "da706157",
   "metadata": {},
   "outputs": [],
   "source": [
    "SKEW_THRESHOLDS = {\n",
    "    'trip_month': 0.3,\n",
    "    'trip_day': 0.3,\n",
    "    'trip_day_of_week': 0.3,\n",
    "    'trip_hour': 0.3,\n",
    "    'trip_seconds': 0.3,\n",
    "    'trip_miles': 0.3,\n",
    "    'payment_type': 0.3,\n",
    "    'pickup_grid': 0.3,\n",
    "    'dropoff_grid': 0.3,\n",
    "    'euclidean': 0.3,  \n",
    "}\n",
    "\n",
    "DIRFT_THRESHOLDS = {\n",
    "    'trip_month': 0.3,\n",
    "    'trip_day': 0.3,\n",
    "    'trip_day_of_week': 0.3,\n",
    "    'trip_hour': 0.3,\n",
    "    'trip_seconds': 0.3,\n",
    "    'trip_miles': 0.3,\n",
    "    'payment_type': 0.3,\n",
    "    'pickup_grid': 0.3,\n",
    "    'dropoff_grid': 0.3,\n",
    "    'euclidean': 0.3, \n",
    "}\n"
   ]
  },
  {
   "cell_type": "code",
   "execution_count": null,
   "id": "d46f92c2",
   "metadata": {},
   "outputs": [],
   "source": [
    "skew_thresholds = {feature: ThresholdConfig(value=float(value)) for feature, value in SKEW_THRESHOLDS.items()}\n",
    "skew_config = ModelMonitoringObjectiveConfig.TrainingPredictionSkewDetectionConfig(\n",
    "    skew_thresholds=skew_thresholds\n",
    ")\n",
    "\n",
    "\n",
    "drift_thresholds = {feature: ThresholdConfig(value=float(value)) for feature, value in DIRFT_THRESHOLDS.items()}\n",
    "drift_config = ModelMonitoringObjectiveConfig.PredictionDriftDetectionConfig(\n",
    "    drift_thresholds=drift_thresholds\n",
    ")"
   ]
  },
  {
   "cell_type": "markdown",
   "id": "0e7600cb",
   "metadata": {},
   "source": [
    "#### Configure training dataset source location\n",
    "This is used for schema generation"
   ]
  },
  {
   "cell_type": "code",
   "execution_count": null,
   "id": "c27f33c0",
   "metadata": {},
   "outputs": [],
   "source": [
    "BQ_DATASET_NAME = f'{PREFIX}_dataset' \n",
    "BQ_TRAIN_SPLIT_NAME = 'training'\n",
    "BQ_VALID_SPLIT_NAME = 'validation'\n",
    "BQ_TEST_SPLIT_NAME = 'testing'\n",
    "BQ_LOCATION = 'US'\n",
    "\n",
    "TARGET = 'tip_bin'\n",
    "BQ_TRAINING_DATA = f'bq://{PROJECT_ID}.{BQ_DATASET_NAME}.{BQ_TRAIN_SPLIT_NAME}'\n",
    "\n",
    "training_dataset = ModelMonitoringObjectiveConfig.TrainingDataset(target_field=TARGET)\n",
    "training_dataset.bigquery_source = BigQuerySource(input_uri=BQ_TRAINING_DATA)"
   ]
  },
  {
   "cell_type": "markdown",
   "id": "944e158b",
   "metadata": {},
   "source": [
    "#### Configure model monitoring object"
   ]
  },
  {
   "cell_type": "code",
   "execution_count": null,
   "id": "083c18a9",
   "metadata": {},
   "outputs": [],
   "source": [
    "objective_config = ModelMonitoringObjectiveConfig(\n",
    "    training_dataset=training_dataset,\n",
    "    training_prediction_skew_detection_config=skew_config,\n",
    "    prediction_drift_detection_config=drift_config,\n",
    ")\n",
    "objective_template = ModelDeploymentMonitoringObjectiveConfig(\n",
    "    objective_config=objective_config\n",
    ")"
   ]
  },
  {
   "cell_type": "markdown",
   "id": "3fdf066a",
   "metadata": {},
   "source": [
    "#### Get all deployed model ids on the monitored endpoint"
   ]
  },
  {
   "cell_type": "code",
   "execution_count": null,
   "id": "a6767708",
   "metadata": {},
   "outputs": [],
   "source": [
    "client = EndpointServiceClient(client_options=dict(api_endpoint=API_ENDPOINT))\n",
    "response = client.get_endpoint(name=ENDPOINT_ID)\n",
    "model_ids = []\n",
    "for model in response.deployed_models:\n",
    "    model_ids.append(model.id)\n",
    "model_ids"
   ]
  },
  {
   "cell_type": "markdown",
   "id": "1cdebea2",
   "metadata": {},
   "source": [
    "#### Set objectives for each deployed model"
   ]
  },
  {
   "cell_type": "code",
   "execution_count": null,
   "id": "a6d905f8",
   "metadata": {},
   "outputs": [],
   "source": [
    "objective_configs = []\n",
    "for model_id in model_ids:\n",
    "    objective_config = copy.deepcopy(objective_template)\n",
    "    objective_config.deployed_model_id = model_id\n",
    "    objective_configs.append(objective_config)"
   ]
  },
  {
   "cell_type": "markdown",
   "id": "468ec6e8",
   "metadata": {},
   "source": [
    "#### Configure sampling strategy"
   ]
  },
  {
   "cell_type": "code",
   "execution_count": null,
   "id": "36aeae21",
   "metadata": {},
   "outputs": [],
   "source": [
    "LOG_SAMPLE_RATE = 0.8\n",
    "\n",
    "random_sampling = SamplingStrategy.RandomSampleConfig(sample_rate=LOG_SAMPLE_RATE)\n",
    "sampling_config = SamplingStrategy(random_sample_config=random_sampling)"
   ]
  },
  {
   "cell_type": "markdown",
   "id": "e958c5a7",
   "metadata": {},
   "source": [
    "#### Configure monitoring schedule"
   ]
  },
  {
   "cell_type": "code",
   "execution_count": null,
   "id": "914f9ebf",
   "metadata": {},
   "outputs": [],
   "source": [
    "MONITOR_INTERVAL = 3600\n",
    "\n",
    "duration = Duration(seconds=MONITOR_INTERVAL)\n",
    "schedule_config = ModelDeploymentMonitoringScheduleConfig(monitor_interval=duration)"
   ]
  },
  {
   "cell_type": "markdown",
   "id": "3c820133",
   "metadata": {},
   "source": [
    "#### Configure alerting"
   ]
  },
  {
   "cell_type": "code",
   "execution_count": null,
   "id": "173fcac9",
   "metadata": {},
   "outputs": [],
   "source": [
    "NOTIFY_EMAIL = \"jarekk@gcp.solutions\"\n",
    "emails = [NOTIFY_EMAIL]\n",
    "\n",
    "email_config = ModelMonitoringAlertConfig.EmailAlertConfig(user_emails=emails)\n",
    "alerting_config = ModelMonitoringAlertConfig(email_alert_config=email_config)"
   ]
  },
  {
   "cell_type": "markdown",
   "id": "03baa2ef",
   "metadata": {},
   "source": [
    "#### Create a monitoring job"
   ]
  },
  {
   "cell_type": "code",
   "execution_count": null,
   "id": "82fbd049",
   "metadata": {},
   "outputs": [],
   "source": [
    "job_name = \"TAXI_MONITORING_{}\".format(time.strftime(\"%Y%m%d_%H%M%S\"))\n",
    "\n",
    "predict_schema = \"\"\n",
    "analysis_schema = \"\"\n",
    "    \n",
    "job = ModelDeploymentMonitoringJob(\n",
    "    display_name=job_name,\n",
    "    endpoint=ENDPOINT_ID,\n",
    "    model_deployment_monitoring_objective_configs=objective_configs,\n",
    "    logging_sampling_strategy=sampling_config,\n",
    "    model_deployment_monitoring_schedule_config=schedule_config,\n",
    "    model_monitoring_alert_config=alerting_config,\n",
    "    predict_instance_schema_uri=predict_schema,\n",
    "    analysis_instance_schema_uri=analysis_schema,\n",
    ")\n",
    "    \n",
    "options = dict(api_endpoint=API_ENDPOINT)\n",
    "client = JobServiceClient(client_options=options)\n",
    "\n",
    "parent = f\"projects/{PROJECT_ID}/locations/{REGION}\"\n",
    "response = client.create_model_deployment_monitoring_job(\n",
    "    parent=parent, model_deployment_monitoring_job=job\n",
    ")\n",
    "    \n",
    "print(\"Created monitoring job:\")\n",
    "print(response.name)\n",
    "print(response.state)\n",
    "job_id = response.name"
   ]
  },
  {
   "cell_type": "markdown",
   "id": "a70ef7e0",
   "metadata": {},
   "source": [
    "#### List monitoring jobs"
   ]
  },
  {
   "cell_type": "code",
   "execution_count": 7,
   "id": "00d0db32",
   "metadata": {},
   "outputs": [
    {
     "name": "stdout",
     "output_type": "stream",
     "text": [
      "projects/910094146258/locations/us-central1/modelDeploymentMonitoringJobs/7446917488136159232 JobState.JOB_STATE_PENDING\n",
      "projects/910094146258/locations/us-central1/modelDeploymentMonitoringJobs/2892652364957745152 JobState.JOB_STATE_FAILED\n"
     ]
    }
   ],
   "source": [
    "for job in list_monitoring_jobs():\n",
    "    print(job.name, job.state)"
   ]
  },
  {
   "cell_type": "code",
   "execution_count": null,
   "id": "33f053e8",
   "metadata": {},
   "outputs": [],
   "source": []
  }
 ],
 "metadata": {
  "environment": {
   "name": "tf2-gpu.2-4.m69",
   "type": "gcloud",
   "uri": "gcr.io/deeplearning-platform-release/tf2-gpu.2-4:m69"
  },
  "kernelspec": {
   "display_name": "Python [conda env:root] *",
   "language": "python",
   "name": "conda-root-py"
  },
  "language_info": {
   "codemirror_mode": {
    "name": "ipython",
    "version": 3
   },
   "file_extension": ".py",
   "mimetype": "text/x-python",
   "name": "python",
   "nbconvert_exporter": "python",
   "pygments_lexer": "ipython3",
   "version": "3.7.10"
  }
 },
 "nbformat": 4,
 "nbformat_minor": 5
}
