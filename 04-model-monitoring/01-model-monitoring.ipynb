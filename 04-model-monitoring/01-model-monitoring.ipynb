{
 "cells": [
  {
   "cell_type": "markdown",
   "id": "877582d0",
   "metadata": {},
   "source": [
    "# Monitoring deployed models with Vertex Model Monitoring"
   ]
  },
  {
   "cell_type": "code",
   "execution_count": 111,
   "id": "b99dbb88",
   "metadata": {},
   "outputs": [],
   "source": [
    "import copy\n",
    "import numpy as np\n",
    "import os\n",
    "import pprint\n",
    "import pandas as pd\n",
    "import random\n",
    "import tensorflow as tf\n",
    "import time\n",
    "\n",
    "from google.cloud import aiplatform\n",
    "from google.cloud import bigquery_datatransfer\n",
    "from google.cloud import bigquery\n",
    "\n",
    "from google.cloud.aiplatform_v1beta1.services.endpoint_service import \\\n",
    "    EndpointServiceClient\n",
    "from google.cloud.aiplatform_v1beta1.services.job_service import \\\n",
    "    JobServiceClient\n",
    "from google.cloud.aiplatform_v1beta1.services.prediction_service import \\\n",
    "    PredictionServiceClient\n",
    "from google.cloud.aiplatform_v1beta1.types.io import BigQuerySource\n",
    "from google.cloud.aiplatform_v1beta1.types.model_deployment_monitoring_job import (\n",
    "    ModelDeploymentMonitoringJob, ModelDeploymentMonitoringObjectiveConfig,\n",
    "    ModelDeploymentMonitoringScheduleConfig)\n",
    "from google.cloud.aiplatform_v1beta1.types.model_monitoring import (\n",
    "    ModelMonitoringAlertConfig, ModelMonitoringObjectiveConfig,\n",
    "    SamplingStrategy, ThresholdConfig)\n",
    "from google.cloud.aiplatform_v1beta1.types.prediction_service import \\\n",
    "    PredictRequest\n",
    "\n",
    "from google.protobuf import json_format\n",
    "from google.protobuf.duration_pb2 import Duration\n",
    "from google.protobuf.struct_pb2 import Value"
   ]
  },
  {
   "cell_type": "markdown",
   "id": "b3f2c764",
   "metadata": {},
   "source": [
    "## Configure lab settings"
   ]
  },
  {
   "cell_type": "code",
   "execution_count": 63,
   "id": "1b3354b5",
   "metadata": {},
   "outputs": [],
   "source": [
    "PROJECT_ID = 'jk-vertex-workshop'\n",
    "REGION = 'us-central1'\n",
    "PREFIX = 'jkvw'\n",
    "\n",
    "STAGING_BUCKET = f'gs://{PREFIX}-bucket'\n",
    "VERTEX_SA = f'{PREFIX}-training-sa@{PROJECT_ID}.iam.gserviceaccount.com'\n",
    "\n",
    "API_ENDPOINT = f'{REGION}-aiplatform.googleapis.com'\n",
    "PREDICT_API_ENDPOINT = f'{REGION}-prediction-aiplatform.googleapis.com'\n",
    "\n",
    "ENDPOINT_DISPLAY_NAME = f'{PREFIX} Taxi tip predictor'\n",
    "\n",
    "BQ_DATASET_NAME = f'{PREFIX}_dataset' \n",
    "BQ_TRAIN_SPLIT_NAME = 'training'\n",
    "BQ_VALID_SPLIT_NAME = 'validation'\n",
    "BQ_TEST_SPLIT_NAME = 'testing'\n",
    "BQ_LOCATION = 'US'"
   ]
  },
  {
   "cell_type": "markdown",
   "id": "e2f5e334",
   "metadata": {},
   "source": [
    "## Copy the training dataset to the lab region\n",
    "\n",
    "This is to address an issue with Model Monitoring. Use SQL Workspace to copy the dataset "
   ]
  },
  {
   "cell_type": "code",
   "execution_count": 64,
   "id": "c77820b5",
   "metadata": {},
   "outputs": [
    {
     "data": {
      "text/plain": [
       "'jkvw_dataset_regional'"
      ]
     },
     "execution_count": 64,
     "metadata": {},
     "output_type": "execute_result"
    }
   ],
   "source": [
    "BQ_DATASET_NAME = f'{PREFIX}_dataset_regional'\n",
    "BQ_DATASET_NAME"
   ]
  },
  {
   "cell_type": "markdown",
   "id": "004f005d",
   "metadata": {},
   "source": [
    "## Test the deployed model"
   ]
  },
  {
   "cell_type": "code",
   "execution_count": 65,
   "id": "9be1f574",
   "metadata": {},
   "outputs": [
    {
     "name": "stdout",
     "output_type": "stream",
     "text": [
      "<google.cloud.aiplatform.models.Endpoint object at 0x7fba4c1b8e90> \n",
      "resource name: projects/910094146258/locations/us-central1/endpoints/3098810795165745152\n"
     ]
    }
   ],
   "source": [
    "filter = f'display_name=\"{ENDPOINT_DISPLAY_NAME}\"'\n",
    "\n",
    "for endpoint_info in aiplatform.Endpoint.list(filter=filter):\n",
    "    print(endpoint_info)\n",
    "    \n",
    "endpoint = aiplatform.Endpoint(endpoint_info.resource_name)\n",
    "\n",
    "ENDPOINT_ID = endpoint.resource_name"
   ]
  },
  {
   "cell_type": "code",
   "execution_count": 66,
   "id": "7ce4f861",
   "metadata": {},
   "outputs": [
    {
     "name": "stdout",
     "output_type": "stream",
     "text": [
      "Probability of tip > 20%: [[0.72956824]]\n"
     ]
    }
   ],
   "source": [
    "test_instances = [  \n",
    "    \n",
    "    {\n",
    "        \"dropoff_grid\": [\"POINT(-87.6 41.9)\"],\n",
    "        \"euclidean\": [2064.2696],\n",
    "        \"payment_type\": [\"Credit Card\"],\n",
    "        \"pickup_grid\": [\"POINT(-87.6 41.9)\"],\n",
    "        \"trip_miles\": [1.37],\n",
    "        \"trip_day\": [12],\n",
    "        \"trip_hour\": [16],\n",
    "        \"trip_month\": [2],\n",
    "        \"trip_day_of_week\": [4],\n",
    "        \"trip_seconds\": [555]\n",
    "    }\n",
    "]\n",
    "\n",
    "predictions = endpoint.predict(instances=test_instances)\n",
    "prob = tf.nn.sigmoid(predictions[0])\n",
    "print('Probability of tip > 20%:', prob.numpy())"
   ]
  },
  {
   "cell_type": "markdown",
   "id": "774bcb23",
   "metadata": {},
   "source": [
    "## Starting monitoring jobs"
   ]
  },
  {
   "cell_type": "markdown",
   "id": "3461d136",
   "metadata": {},
   "source": [
    "### Define helper functions"
   ]
  },
  {
   "cell_type": "code",
   "execution_count": 34,
   "id": "b2136781",
   "metadata": {},
   "outputs": [],
   "source": [
    "def list_monitoring_jobs():\n",
    "    client_options = dict(api_endpoint=API_ENDPOINT)\n",
    "    parent = f\"projects/{PROJECT_ID}/locations/{REGION}\"\n",
    "    client = JobServiceClient(client_options=client_options)\n",
    "    response = client.list_model_deployment_monitoring_jobs(parent=parent)\n",
    "    return response\n",
    "\n",
    "def get_monitoring_job(job):\n",
    "    client_options = dict(api_endpoint=API_ENDPOINT)\n",
    "    parent = f\"projects/{PROJECT_ID}/locations/{REGION}\"\n",
    "    client = JobServiceClient(client_options=client_options)\n",
    "    response = client.get_model_deployment_monitoring_job(parent=parent)\n",
    "    return response\n",
    "\n",
    "def pause_monitoring_job(job):\n",
    "    client_options = dict(api_endpoint=API_ENDPOINT)\n",
    "    client = JobServiceClient(client_options=client_options)\n",
    "    response = client.pause_model_deployment_monitoring_job(name=job)\n",
    "    print(response)\n",
    "\n",
    "def delete_monitoring_job(job):\n",
    "    client_options = dict(api_endpoint=API_ENDPOINT)\n",
    "    client = JobServiceClient(client_options=client_options)\n",
    "    response = client.delete_model_deployment_monitoring_job(name=job)\n",
    "    print(response)\n"
   ]
  },
  {
   "cell_type": "markdown",
   "id": "c15f0071",
   "metadata": {},
   "source": [
    "### Configure the job"
   ]
  },
  {
   "cell_type": "markdown",
   "id": "37bf9e23",
   "metadata": {},
   "source": [
    "#### Configure skew and drift thresholds"
   ]
  },
  {
   "cell_type": "code",
   "execution_count": 35,
   "id": "c7b48fce",
   "metadata": {},
   "outputs": [],
   "source": [
    "SKEW_THRESHOLDS = {\n",
    "    'trip_month': 0.3,\n",
    "    'trip_day': 0.3,\n",
    "    'trip_day_of_week': 0.3,\n",
    "    'trip_hour': 0.3,\n",
    "    'trip_seconds': 0.3,\n",
    "    'trip_miles': 0.3,\n",
    "    'payment_type': 0.3,\n",
    "    'pickup_grid': 0.3,\n",
    "    'dropoff_grid': 0.3,\n",
    "    'euclidean': 0.3,  \n",
    "}\n",
    "\n",
    "DIRFT_THRESHOLDS = {\n",
    "    'trip_month': 0.3,\n",
    "    'trip_day': 0.3,\n",
    "    'trip_day_of_week': 0.3,\n",
    "    'trip_hour': 0.3,\n",
    "    'trip_seconds': 0.3,\n",
    "    'trip_miles': 0.3,\n",
    "    'payment_type': 0.3,\n",
    "    'pickup_grid': 0.3,\n",
    "    'dropoff_grid': 0.3,\n",
    "    'euclidean': 0.3, \n",
    "}\n"
   ]
  },
  {
   "cell_type": "code",
   "execution_count": 36,
   "id": "d3731509",
   "metadata": {},
   "outputs": [],
   "source": [
    "skew_thresholds = {feature: ThresholdConfig(value=float(value)) for feature, value in SKEW_THRESHOLDS.items()}\n",
    "skew_config = ModelMonitoringObjectiveConfig.TrainingPredictionSkewDetectionConfig(\n",
    "    skew_thresholds=skew_thresholds\n",
    ")\n",
    "\n",
    "\n",
    "drift_thresholds = {feature: ThresholdConfig(value=float(value)) for feature, value in DIRFT_THRESHOLDS.items()}\n",
    "drift_config = ModelMonitoringObjectiveConfig.PredictionDriftDetectionConfig(\n",
    "    drift_thresholds=drift_thresholds\n",
    ")"
   ]
  },
  {
   "cell_type": "markdown",
   "id": "64b0ed91",
   "metadata": {},
   "source": [
    "#### Configure training dataset source location\n",
    "This is used for schema generation"
   ]
  },
  {
   "cell_type": "code",
   "execution_count": 37,
   "id": "38a6d593",
   "metadata": {},
   "outputs": [],
   "source": [
    "TARGET = 'tip_bin'\n",
    "BQ_TRAINING_DATA = f'bq://{PROJECT_ID}.{BQ_DATASET_NAME}.{BQ_TRAIN_SPLIT_NAME}'\n",
    "\n",
    "training_dataset = ModelMonitoringObjectiveConfig.TrainingDataset(target_field=TARGET)\n",
    "training_dataset.bigquery_source = BigQuerySource(input_uri=BQ_TRAINING_DATA)"
   ]
  },
  {
   "cell_type": "markdown",
   "id": "f69cee3b",
   "metadata": {},
   "source": [
    "#### Configure model monitoring object"
   ]
  },
  {
   "cell_type": "code",
   "execution_count": 38,
   "id": "0289685b",
   "metadata": {},
   "outputs": [],
   "source": [
    "objective_config = ModelMonitoringObjectiveConfig(\n",
    "    training_dataset=training_dataset,\n",
    "    training_prediction_skew_detection_config=skew_config,\n",
    "    prediction_drift_detection_config=drift_config,\n",
    ")\n",
    "objective_template = ModelDeploymentMonitoringObjectiveConfig(\n",
    "    objective_config=objective_config\n",
    ")"
   ]
  },
  {
   "cell_type": "markdown",
   "id": "40674f05",
   "metadata": {},
   "source": [
    "#### Get all deployed model ids on the monitored endpoint"
   ]
  },
  {
   "cell_type": "code",
   "execution_count": 39,
   "id": "ba19d7ee",
   "metadata": {},
   "outputs": [
    {
     "data": {
      "text/plain": [
       "['3328564744905818112']"
      ]
     },
     "execution_count": 39,
     "metadata": {},
     "output_type": "execute_result"
    }
   ],
   "source": [
    "client = EndpointServiceClient(client_options=dict(api_endpoint=API_ENDPOINT))\n",
    "response = client.get_endpoint(name=ENDPOINT_ID)\n",
    "model_ids = []\n",
    "for model in response.deployed_models:\n",
    "    model_ids.append(model.id)\n",
    "model_ids"
   ]
  },
  {
   "cell_type": "markdown",
   "id": "9ac399a4",
   "metadata": {},
   "source": [
    "#### Set objectives for each deployed model"
   ]
  },
  {
   "cell_type": "code",
   "execution_count": 40,
   "id": "8b82fdec",
   "metadata": {},
   "outputs": [],
   "source": [
    "objective_configs = []\n",
    "for model_id in model_ids:\n",
    "    objective_config = copy.deepcopy(objective_template)\n",
    "    objective_config.deployed_model_id = model_id\n",
    "    objective_configs.append(objective_config)"
   ]
  },
  {
   "cell_type": "markdown",
   "id": "3659671f",
   "metadata": {},
   "source": [
    "#### Configure sampling strategy"
   ]
  },
  {
   "cell_type": "code",
   "execution_count": 41,
   "id": "49d5199d",
   "metadata": {},
   "outputs": [],
   "source": [
    "LOG_SAMPLE_RATE = 0.8\n",
    "\n",
    "random_sampling = SamplingStrategy.RandomSampleConfig(sample_rate=LOG_SAMPLE_RATE)\n",
    "sampling_config = SamplingStrategy(random_sample_config=random_sampling)"
   ]
  },
  {
   "cell_type": "markdown",
   "id": "d633c561",
   "metadata": {},
   "source": [
    "#### Configure monitoring schedule"
   ]
  },
  {
   "cell_type": "code",
   "execution_count": 42,
   "id": "37b9bcc8",
   "metadata": {},
   "outputs": [],
   "source": [
    "MONITOR_INTERVAL = 3600\n",
    "\n",
    "duration = Duration(seconds=MONITOR_INTERVAL)\n",
    "schedule_config = ModelDeploymentMonitoringScheduleConfig(monitor_interval=duration)"
   ]
  },
  {
   "cell_type": "markdown",
   "id": "f4352cb3",
   "metadata": {},
   "source": [
    "#### Configure alerting"
   ]
  },
  {
   "cell_type": "code",
   "execution_count": 43,
   "id": "c8a70e34",
   "metadata": {},
   "outputs": [],
   "source": [
    "NOTIFY_EMAIL = \"jarekk@gcp.solutions\"\n",
    "emails = [NOTIFY_EMAIL]\n",
    "\n",
    "email_config = ModelMonitoringAlertConfig.EmailAlertConfig(user_emails=emails)\n",
    "alerting_config = ModelMonitoringAlertConfig(email_alert_config=email_config)"
   ]
  },
  {
   "cell_type": "markdown",
   "id": "40a13cf0",
   "metadata": {},
   "source": [
    "#### Create a monitoring job"
   ]
  },
  {
   "cell_type": "code",
   "execution_count": 47,
   "id": "2a6ce8fc",
   "metadata": {},
   "outputs": [
    {
     "name": "stdout",
     "output_type": "stream",
     "text": [
      "Created monitoring job:\n",
      "projects/910094146258/locations/us-central1/modelDeploymentMonitoringJobs/8870054970385235968\n",
      "JobState.JOB_STATE_PENDING\n"
     ]
    }
   ],
   "source": [
    "job_name = \"TAXI_MONITORING_{}\".format(time.strftime(\"%Y%m%d_%H%M%S\"))\n",
    "\n",
    "predict_schema = \"\"\n",
    "analysis_schema = \"\"\n",
    "    \n",
    "job = ModelDeploymentMonitoringJob(\n",
    "    display_name=job_name,\n",
    "    endpoint=ENDPOINT_ID,\n",
    "    model_deployment_monitoring_objective_configs=objective_configs,\n",
    "    logging_sampling_strategy=sampling_config,\n",
    "    model_deployment_monitoring_schedule_config=schedule_config,\n",
    "    model_monitoring_alert_config=alerting_config,\n",
    "    predict_instance_schema_uri=predict_schema,\n",
    "    analysis_instance_schema_uri=analysis_schema,\n",
    ")\n",
    "    \n",
    "options = dict(api_endpoint=API_ENDPOINT)\n",
    "client = JobServiceClient(client_options=options)\n",
    "\n",
    "parent = f\"projects/{PROJECT_ID}/locations/{REGION}\"\n",
    "response = client.create_model_deployment_monitoring_job(\n",
    "    parent=parent, model_deployment_monitoring_job=job\n",
    ")\n",
    "    \n",
    "print(\"Created monitoring job:\")\n",
    "print(response.name)\n",
    "print(response.state)\n",
    "job_id = response.name"
   ]
  },
  {
   "cell_type": "markdown",
   "id": "058f8437",
   "metadata": {},
   "source": [
    "#### List monitoring jobs"
   ]
  },
  {
   "cell_type": "code",
   "execution_count": 55,
   "id": "ad6e0e57",
   "metadata": {},
   "outputs": [
    {
     "name": "stdout",
     "output_type": "stream",
     "text": [
      "projects/910094146258/locations/us-central1/modelDeploymentMonitoringJobs/8870054970385235968 JobState.JOB_STATE_RUNNING\n",
      "projects/910094146258/locations/us-central1/modelDeploymentMonitoringJobs/298578979592339456 JobState.JOB_STATE_FAILED\n",
      "projects/910094146258/locations/us-central1/modelDeploymentMonitoringJobs/160093291050696704 JobState.JOB_STATE_FAILED\n",
      "projects/910094146258/locations/us-central1/modelDeploymentMonitoringJobs/7446917488136159232 JobState.JOB_STATE_FAILED\n",
      "projects/910094146258/locations/us-central1/modelDeploymentMonitoringJobs/2892652364957745152 JobState.JOB_STATE_FAILED\n"
     ]
    }
   ],
   "source": [
    "for job in list_monitoring_jobs():\n",
    "    print(job.name, job.state)"
   ]
  },
  {
   "cell_type": "markdown",
   "id": "cdf430f7",
   "metadata": {},
   "source": [
    "## Generate simulated workload"
   ]
  },
  {
   "cell_type": "code",
   "execution_count": 90,
   "id": "48d3e6cd",
   "metadata": {},
   "outputs": [
    {
     "data": {
      "text/html": [
       "<div>\n",
       "<style scoped>\n",
       "    .dataframe tbody tr th:only-of-type {\n",
       "        vertical-align: middle;\n",
       "    }\n",
       "\n",
       "    .dataframe tbody tr th {\n",
       "        vertical-align: top;\n",
       "    }\n",
       "\n",
       "    .dataframe thead th {\n",
       "        text-align: right;\n",
       "    }\n",
       "</style>\n",
       "<table border=\"1\" class=\"dataframe\">\n",
       "  <thead>\n",
       "    <tr style=\"text-align: right;\">\n",
       "      <th></th>\n",
       "      <th>trip_month</th>\n",
       "      <th>trip_day</th>\n",
       "      <th>trip_day_of_week</th>\n",
       "      <th>trip_hour</th>\n",
       "      <th>trip_seconds</th>\n",
       "      <th>trip_miles</th>\n",
       "      <th>payment_type</th>\n",
       "      <th>pickup_grid</th>\n",
       "      <th>dropoff_grid</th>\n",
       "      <th>euclidean</th>\n",
       "      <th>tip_bin</th>\n",
       "    </tr>\n",
       "  </thead>\n",
       "  <tbody>\n",
       "    <tr>\n",
       "      <th>0</th>\n",
       "      <td>2</td>\n",
       "      <td>1</td>\n",
       "      <td>7</td>\n",
       "      <td>21</td>\n",
       "      <td>39</td>\n",
       "      <td>0.01</td>\n",
       "      <td>Cash</td>\n",
       "      <td>POINT(-87.7 41.9)</td>\n",
       "      <td>POINT(-87.7 41.9)</td>\n",
       "      <td>0.0</td>\n",
       "      <td>0</td>\n",
       "    </tr>\n",
       "    <tr>\n",
       "      <th>1</th>\n",
       "      <td>6</td>\n",
       "      <td>1</td>\n",
       "      <td>2</td>\n",
       "      <td>6</td>\n",
       "      <td>25</td>\n",
       "      <td>0.06</td>\n",
       "      <td>Cash</td>\n",
       "      <td>POINT(-87.7 41.9)</td>\n",
       "      <td>POINT(-87.7 41.9)</td>\n",
       "      <td>0.0</td>\n",
       "      <td>0</td>\n",
       "    </tr>\n",
       "    <tr>\n",
       "      <th>2</th>\n",
       "      <td>2</td>\n",
       "      <td>1</td>\n",
       "      <td>7</td>\n",
       "      <td>10</td>\n",
       "      <td>329</td>\n",
       "      <td>0.70</td>\n",
       "      <td>Cash</td>\n",
       "      <td>POINT(-87.6 41.9)</td>\n",
       "      <td>POINT(-87.6 41.9)</td>\n",
       "      <td>0.0</td>\n",
       "      <td>0</td>\n",
       "    </tr>\n",
       "    <tr>\n",
       "      <th>3</th>\n",
       "      <td>2</td>\n",
       "      <td>1</td>\n",
       "      <td>7</td>\n",
       "      <td>10</td>\n",
       "      <td>134</td>\n",
       "      <td>0.36</td>\n",
       "      <td>Cash</td>\n",
       "      <td>POINT(-87.6 41.9)</td>\n",
       "      <td>POINT(-87.6 41.9)</td>\n",
       "      <td>0.0</td>\n",
       "      <td>0</td>\n",
       "    </tr>\n",
       "    <tr>\n",
       "      <th>4</th>\n",
       "      <td>6</td>\n",
       "      <td>1</td>\n",
       "      <td>2</td>\n",
       "      <td>11</td>\n",
       "      <td>481</td>\n",
       "      <td>0.43</td>\n",
       "      <td>Cash</td>\n",
       "      <td>POINT(-87.7 42)</td>\n",
       "      <td>POINT(-87.7 42)</td>\n",
       "      <td>0.0</td>\n",
       "      <td>0</td>\n",
       "    </tr>\n",
       "  </tbody>\n",
       "</table>\n",
       "</div>"
      ],
      "text/plain": [
       "   trip_month  trip_day  trip_day_of_week  trip_hour  trip_seconds  \\\n",
       "0           2         1                 7         21            39   \n",
       "1           6         1                 2          6            25   \n",
       "2           2         1                 7         10           329   \n",
       "3           2         1                 7         10           134   \n",
       "4           6         1                 2         11           481   \n",
       "\n",
       "   trip_miles payment_type        pickup_grid       dropoff_grid  euclidean  \\\n",
       "0        0.01         Cash  POINT(-87.7 41.9)  POINT(-87.7 41.9)        0.0   \n",
       "1        0.06         Cash  POINT(-87.7 41.9)  POINT(-87.7 41.9)        0.0   \n",
       "2        0.70         Cash  POINT(-87.6 41.9)  POINT(-87.6 41.9)        0.0   \n",
       "3        0.36         Cash  POINT(-87.6 41.9)  POINT(-87.6 41.9)        0.0   \n",
       "4        0.43         Cash    POINT(-87.7 42)    POINT(-87.7 42)        0.0   \n",
       "\n",
       "   tip_bin  \n",
       "0        0  \n",
       "1        0  \n",
       "2        0  \n",
       "3        0  \n",
       "4        0  "
      ]
     },
     "execution_count": 90,
     "metadata": {},
     "output_type": "execute_result"
    }
   ],
   "source": [
    "sql_script = f'''\n",
    "SELECT * \n",
    "FROM {PROJECT_ID}.{BQ_DATASET_NAME}.{BQ_TRAIN_SPLIT_NAME}\n",
    "'''\n",
    "\n",
    "client = bigquery.Client()\n",
    "data = client.query(sql_script).to_dataframe()\n",
    "\n",
    "data.head()"
   ]
  },
  {
   "cell_type": "code",
   "execution_count": 216,
   "id": "39422bf3",
   "metadata": {},
   "outputs": [],
   "source": [
    "CATEGORICAL_FEATURES = {\n",
    "    'trip_month': [int(val) for val in data['trip_month'].unique()],\n",
    "    'trip_day': [int(val) for val in data['trip_day'].unique()],\n",
    "    'trip_hour': [int(val) for val in data['trip_hour'].unique()],\n",
    "    'trip_day_of_week': [int(val) for val in data['trip_day_of_week'].unique()],\n",
    "    'payment_type': [str(val) for val in data['payment_type'].unique()],\n",
    "    'pickup_grid': [str(val) for val in data['pickup_grid'].unique()],\n",
    "    'dropoff_grid': [str(val) for val in data['dropoff_grid'].unique()],\n",
    "}\n",
    "\n",
    "NUMERIC_FEATURES = {\n",
    "    'trip_miles': (data['trip_miles'].mean(), data['trip_miles'].std()),\n",
    "    'trip_seconds': (data['trip_seconds'].mean(), data['trip_seconds'].std()),\n",
    "    'euclidean': (data['euclidean'].mean(), data['euclidean'].std()),\n",
    "}\n",
    "\n",
    "\n",
    "def monitoring_test(endpoint, count=1, seconds=3, perturb_num={}, perturb_cat={}):\n",
    "    \n",
    "    for i in range(0, count):\n",
    "        instance = {}\n",
    "        for key, dict in CATEGORICAL_FEATURES.items():\n",
    "            new_dict = dict\n",
    "            if key in perturb_cat.keys():\n",
    "                new_dict = dict + perturb_cat[key]\n",
    "            instance[key] = random.choices(new_dict)\n",
    "    \n",
    "        for key, stats in NUMERIC_FEATURES.items():\n",
    "            mean = stats[0]\n",
    "            std = stats[1]\n",
    "            if key in perturb_num.keys():\n",
    "                mean = perturb_num[key][0](mean)\n",
    "                std = perturb_num[key][1](mean)\n",
    "            \n",
    "            value = float(np.random.normal(mean, std, 1))\n",
    "            value = max(value, 0)\n",
    "            if key == 'trip_seconds':\n",
    "                value = max(int(value), 60)\n",
    "            instance[key] = [value]\n",
    "            \n",
    "        predictions = endpoint.predict(instances=[instance])\n",
    "        print(predictions)\n",
    "        time.sleep(seconds)\n",
    "        \n",
    "    "
   ]
  },
  {
   "cell_type": "code",
   "execution_count": null,
   "id": "b488307d",
   "metadata": {},
   "outputs": [
    {
     "name": "stdout",
     "output_type": "stream",
     "text": [
      "Prediction(predictions=[[-6.67701435]], deployed_model_id='3328564744905818112', explanations=None)\n",
      "Prediction(predictions=[[-7.177073]], deployed_model_id='3328564744905818112', explanations=None)\n",
      "Prediction(predictions=[[-11.1680908]], deployed_model_id='3328564744905818112', explanations=None)\n"
     ]
    }
   ],
   "source": [
    "instances = monitoring_test(endpoint, count=100, seconds=3)"
   ]
  }
 ],
 "metadata": {
  "environment": {
   "name": "tf2-gpu.2-4.m69",
   "type": "gcloud",
   "uri": "gcr.io/deeplearning-platform-release/tf2-gpu.2-4:m69"
  },
  "kernelspec": {
   "display_name": "Python [conda env:root] *",
   "language": "python",
   "name": "conda-root-py"
  },
  "language_info": {
   "codemirror_mode": {
    "name": "ipython",
    "version": 3
   },
   "file_extension": ".py",
   "mimetype": "text/x-python",
   "name": "python",
   "nbconvert_exporter": "python",
   "pygments_lexer": "ipython3",
   "version": "3.7.10"
  }
 },
 "nbformat": 4,
 "nbformat_minor": 5
}
