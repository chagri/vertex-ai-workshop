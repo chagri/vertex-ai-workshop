{
 "cells": [
  {
   "cell_type": "markdown",
   "id": "d1b1c86c",
   "metadata": {},
   "source": [
    "# Monitoring deployed models with Vertex Model Monitoring"
   ]
  },
  {
   "cell_type": "code",
   "execution_count": 1,
   "id": "91756b05",
   "metadata": {},
   "outputs": [],
   "source": [
    "import copy\n",
    "import os\n",
    "import pprint\n",
    "import pandas as pd\n",
    "import tensorflow as tf\n",
    "import time\n",
    "\n",
    "from google.cloud import aiplatform\n",
    "\n",
    "from google.cloud.aiplatform_v1beta1.services.endpoint_service import \\\n",
    "    EndpointServiceClient\n",
    "from google.cloud.aiplatform_v1beta1.services.job_service import \\\n",
    "    JobServiceClient\n",
    "from google.cloud.aiplatform_v1beta1.services.prediction_service import \\\n",
    "    PredictionServiceClient\n",
    "from google.cloud.aiplatform_v1beta1.types.io import BigQuerySource\n",
    "from google.cloud.aiplatform_v1beta1.types.model_deployment_monitoring_job import (\n",
    "    ModelDeploymentMonitoringJob, ModelDeploymentMonitoringObjectiveConfig,\n",
    "    ModelDeploymentMonitoringScheduleConfig)\n",
    "from google.cloud.aiplatform_v1beta1.types.model_monitoring import (\n",
    "    ModelMonitoringAlertConfig, ModelMonitoringObjectiveConfig,\n",
    "    SamplingStrategy, ThresholdConfig)\n",
    "from google.cloud.aiplatform_v1beta1.types.prediction_service import \\\n",
    "    PredictRequest\n",
    "\n",
    "from google.protobuf import json_format\n",
    "from google.protobuf.duration_pb2 import Duration\n",
    "from google.protobuf.struct_pb2 import Value"
   ]
  },
  {
   "cell_type": "markdown",
   "id": "1f29181b",
   "metadata": {},
   "source": [
    "## Configure lab settings"
   ]
  },
  {
   "cell_type": "code",
   "execution_count": 2,
   "id": "bde5d3fc",
   "metadata": {},
   "outputs": [],
   "source": [
    "PROJECT_ID = 'jk-vertex-workshop'\n",
    "REGION = 'us-central1'\n",
    "PREFIX = 'jkvw'\n",
    "\n",
    "STAGING_BUCKET = f'gs://{PREFIX}-bucket'\n",
    "VERTEX_SA = f'{PREFIX}-training-sa@{PROJECT_ID}.iam.gserviceaccount.com'\n",
    "\n",
    "API_ENDPOINT = f'{REGION}-aiplatform.googleapis.com'\n",
    "PREDICT_API_ENDPOINT = f'{REGION}-prediction-aiplatform.googleapis.com'\n",
    "\n",
    "ENDPOINT_DISPLAY_NAME = f'{PREFIX} Taxi tip predictor'"
   ]
  },
  {
   "cell_type": "markdown",
   "id": "cc59fb93",
   "metadata": {},
   "source": [
    "## Test the deployed model"
   ]
  },
  {
   "cell_type": "code",
   "execution_count": 22,
   "id": "73e87d18",
   "metadata": {},
   "outputs": [
    {
     "name": "stdout",
     "output_type": "stream",
     "text": [
      "<google.cloud.aiplatform.models.Endpoint object at 0x7f5b8e62a4d0> \n",
      "resource name: projects/910094146258/locations/us-central1/endpoints/3098810795165745152\n"
     ]
    }
   ],
   "source": [
    "filter = f'display_name=\"{ENDPOINT_DISPLAY_NAME}\"'\n",
    "\n",
    "for endpoint_info in aiplatform.Endpoint.list(filter=filter):\n",
    "    print(endpoint_info)\n",
    "    \n",
    "endpoint = aiplatform.Endpoint(endpoint_info.resource_name)\n",
    "\n",
    "ENDPOINT_ID = endpoint.resource_name"
   ]
  },
  {
   "cell_type": "code",
   "execution_count": 16,
   "id": "3c1796ce",
   "metadata": {},
   "outputs": [
    {
     "name": "stdout",
     "output_type": "stream",
     "text": [
      "Probability of tip > 20%: [[0.72956824]]\n"
     ]
    }
   ],
   "source": [
    "test_instances = [  \n",
    "    \n",
    "    {\n",
    "        \"dropoff_grid\": [\"POINT(-87.6 41.9)\"],\n",
    "        \"euclidean\": [2064.2696],\n",
    "        \"payment_type\": [\"Credit Card\"],\n",
    "        \"pickup_grid\": [\"POINT(-87.6 41.9)\"],\n",
    "        \"trip_miles\": [1.37],\n",
    "        \"trip_day\": [12],\n",
    "        \"trip_hour\": [16],\n",
    "        \"trip_month\": [2],\n",
    "        \"trip_day_of_week\": [4],\n",
    "        \"trip_seconds\": [555]\n",
    "    }\n",
    "]\n",
    "\n",
    "predictions = endpoint.predict(instances=test_instances)\n",
    "prob = tf.nn.sigmoid(predictions[0])\n",
    "print('Probability of tip > 20%:', prob.numpy())"
   ]
  },
  {
   "cell_type": "markdown",
   "id": "c0818a09",
   "metadata": {},
   "source": [
    "## Starting monitoring jobs"
   ]
  },
  {
   "cell_type": "markdown",
   "id": "284f9afb",
   "metadata": {},
   "source": [
    "### Define helper functions"
   ]
  },
  {
   "cell_type": "code",
   "execution_count": 17,
   "id": "2308112c",
   "metadata": {},
   "outputs": [],
   "source": [
    "def send_predict_request(endpoint, input):\n",
    "    client_options = {\"api_endpoint\": PREDICT_API_ENDPOINT}\n",
    "    client = PredictionServiceClient(client_options=client_options)\n",
    "    params = {}\n",
    "    params = json_format.ParseDict(params, Value())\n",
    "    request = PredictRequest(endpoint=endpoint, parameters=params)\n",
    "    inputs = [json_format.ParseDict(input, Value())]\n",
    "    request.instances.extend(inputs)\n",
    "    response = client.predict(request)\n",
    "    return response\n",
    "\n",
    "\n",
    "def list_monitoring_jobs():\n",
    "    client_options = dict(api_endpoint=API_ENDPOINT)\n",
    "    parent = f\"projects/{PROJECT_ID}/locations/us-central1\"\n",
    "    client = JobServiceClient(client_options=client_options)\n",
    "    response = client.list_model_deployment_monitoring_jobs(parent=parent)\n",
    "    print(response)\n",
    "\n",
    "\n",
    "def pause_monitoring_job(job):\n",
    "    client_options = dict(api_endpoint=API_ENDPOINT)\n",
    "    client = JobServiceClient(client_options=client_options)\n",
    "    response = client.pause_model_deployment_monitoring_job(name=job)\n",
    "    print(response)\n",
    "\n",
    "\n",
    "def delete_monitoring_job(job):\n",
    "    client_options = dict(api_endpoint=API_ENDPOINT)\n",
    "    client = JobServiceClient(client_options=client_options)\n",
    "    response = client.delete_model_deployment_monitoring_job(name=job)\n",
    "    print(response)\n"
   ]
  },
  {
   "cell_type": "markdown",
   "id": "e9c504c3",
   "metadata": {},
   "source": [
    "### Configure the job"
   ]
  },
  {
   "cell_type": "markdown",
   "id": "a1c2267b",
   "metadata": {},
   "source": [
    "#### Configure skew and drift thresholds"
   ]
  },
  {
   "cell_type": "code",
   "execution_count": 18,
   "id": "ee4dc3eb",
   "metadata": {},
   "outputs": [],
   "source": [
    "SKEW_THRESHOLDS = {\n",
    "    'trip_month': 0.3,\n",
    "    'trip_day': 0.3,\n",
    "    'trip_day_of_week': 0.3,\n",
    "    'trip_hour': 0.3,\n",
    "    'trip_seconds': 0.3,\n",
    "    'trip_miles': 0.3,\n",
    "    'payment_type': 0.3,\n",
    "    'pickup_grid': 0.3,\n",
    "    'dropoff_grid': 0.3,\n",
    "    'euclidean': 0.3,  \n",
    "}\n",
    "\n",
    "DIRFT_THRESHOLDS = {\n",
    "    'trip_month': 0.3,\n",
    "    'trip_day': 0.3,\n",
    "    'trip_day_of_week': 0.3,\n",
    "    'trip_hour': 0.3,\n",
    "    'trip_seconds': 0.3,\n",
    "    'trip_miles': 0.3,\n",
    "    'payment_type': 0.3,\n",
    "    'pickup_grid': 0.3,\n",
    "    'dropoff_grid': 0.3,\n",
    "    'euclidean': 0.3, \n",
    "}\n"
   ]
  },
  {
   "cell_type": "code",
   "execution_count": 19,
   "id": "36e7bb5d",
   "metadata": {},
   "outputs": [],
   "source": [
    "skew_thresholds = {feature: ThresholdConfig(value=float(value)) for feature, value in SKEW_THRESHOLDS.items()}\n",
    "skew_config = ModelMonitoringObjectiveConfig.TrainingPredictionSkewDetectionConfig(\n",
    "    skew_thresholds=skew_thresholds\n",
    ")\n",
    "\n",
    "\n",
    "drift_thresholds = {feature: ThresholdConfig(value=float(value)) for feature, value in DIRFT_THRESHOLDS.items()}\n",
    "drift_config = ModelMonitoringObjectiveConfig.PredictionDriftDetectionConfig(\n",
    "    drift_thresholds=drift_thresholds\n",
    ")"
   ]
  },
  {
   "cell_type": "markdown",
   "id": "54b8e9c8",
   "metadata": {},
   "source": [
    "#### Configure training dataset source location\n",
    "This is used for schema generation"
   ]
  },
  {
   "cell_type": "code",
   "execution_count": 20,
   "id": "2d0086a6",
   "metadata": {},
   "outputs": [],
   "source": [
    "BQ_DATASET_NAME = f'{PREFIX}_dataset' \n",
    "BQ_TRAIN_SPLIT_NAME = 'training'\n",
    "BQ_VALID_SPLIT_NAME = 'validation'\n",
    "BQ_TEST_SPLIT_NAME = 'testing'\n",
    "BQ_LOCATION = 'US'\n",
    "\n",
    "TARGET = 'tip_bin'\n",
    "BQ_TRAINING_DATA = f'{PROJECT_ID}.{BQ_DATASET_NAME}.{BQ_TRAIN_SPLIT_NAME}'\n",
    "\n",
    "training_dataset = ModelMonitoringObjectiveConfig.TrainingDataset(target_field=TARGET)\n",
    "training_dataset.bigquery_source = BigQuerySource(input_uri=BQ_TRAINING_DATA)"
   ]
  },
  {
   "cell_type": "markdown",
   "id": "6ccf5f09",
   "metadata": {},
   "source": [
    "#### Configure model monitoring object"
   ]
  },
  {
   "cell_type": "code",
   "execution_count": 21,
   "id": "e71c63f1",
   "metadata": {},
   "outputs": [],
   "source": [
    "objective_config = ModelMonitoringObjectiveConfig(\n",
    "    training_dataset=training_dataset,\n",
    "    training_prediction_skew_detection_config=skew_config,\n",
    "    prediction_drift_detection_config=drift_config,\n",
    ")\n",
    "objective_template = ModelDeploymentMonitoringObjectiveConfig(\n",
    "    objective_config=objective_config\n",
    ")"
   ]
  },
  {
   "cell_type": "markdown",
   "id": "e447945f",
   "metadata": {},
   "source": [
    "#### Get all deployed model ids on the monitored endpoint"
   ]
  },
  {
   "cell_type": "code",
   "execution_count": 23,
   "id": "938359b5",
   "metadata": {},
   "outputs": [
    {
     "data": {
      "text/plain": [
       "['3328564744905818112']"
      ]
     },
     "execution_count": 23,
     "metadata": {},
     "output_type": "execute_result"
    }
   ],
   "source": [
    "client = EndpointServiceClient(client_options=dict(api_endpoint=API_ENDPOINT))\n",
    "response = client.get_endpoint(name=ENDPOINT_ID)\n",
    "model_ids = []\n",
    "for model in response.deployed_models:\n",
    "    model_ids.append(model.id)\n",
    "model_ids"
   ]
  },
  {
   "cell_type": "markdown",
   "id": "c040dc7f",
   "metadata": {},
   "source": [
    "#### Set objectives for each deployed model"
   ]
  },
  {
   "cell_type": "code",
   "execution_count": 24,
   "id": "4ac61a3f",
   "metadata": {},
   "outputs": [],
   "source": [
    "objective_configs = []\n",
    "for model_id in model_ids:\n",
    "    objective_config = copy.deepcopy(objective_template)\n",
    "    objective_config.deployed_model_id = model_id\n",
    "    objective_configs.append(objective_config)"
   ]
  },
  {
   "cell_type": "markdown",
   "id": "75cb5463",
   "metadata": {},
   "source": [
    "#### Configure sampling strategy"
   ]
  },
  {
   "cell_type": "code",
   "execution_count": 25,
   "id": "d8e097f3",
   "metadata": {},
   "outputs": [],
   "source": [
    "LOG_SAMPLE_RATE = 0.8\n",
    "\n",
    "random_sampling = SamplingStrategy.RandomSampleConfig(sample_rate=LOG_SAMPLE_RATE)\n",
    "sampling_config = SamplingStrategy(random_sample_config=random_sampling)"
   ]
  },
  {
   "cell_type": "markdown",
   "id": "dd230d91",
   "metadata": {},
   "source": [
    "#### Configure monitoring schedule"
   ]
  },
  {
   "cell_type": "code",
   "execution_count": 26,
   "id": "e973f5b5",
   "metadata": {},
   "outputs": [],
   "source": [
    "MONITOR_INTERVAL = 3600\n",
    "\n",
    "duration = Duration(seconds=MONITOR_INTERVAL)\n",
    "schedule_config = ModelDeploymentMonitoringScheduleConfig(monitor_interval=duration)"
   ]
  },
  {
   "cell_type": "markdown",
   "id": "78c254b2",
   "metadata": {},
   "source": [
    "#### Configure alerting"
   ]
  },
  {
   "cell_type": "code",
   "execution_count": 27,
   "id": "ed9aff78",
   "metadata": {},
   "outputs": [],
   "source": [
    "NOTIFY_EMAIL = \"jarekk@gcp.solutions\"\n",
    "emails = [NOTIFY_EMAIL]\n",
    "\n",
    "email_config = ModelMonitoringAlertConfig.EmailAlertConfig(user_emails=emails)\n",
    "alerting_config = ModelMonitoringAlertConfig(email_alert_config=email_config)"
   ]
  },
  {
   "cell_type": "markdown",
   "id": "0a42b981",
   "metadata": {},
   "source": [
    "#### Create a monitoring job"
   ]
  },
  {
   "cell_type": "code",
   "execution_count": 29,
   "id": "4bbc962a",
   "metadata": {},
   "outputs": [
    {
     "name": "stdout",
     "output_type": "stream",
     "text": [
      "Created monitoring job:\n",
      "name: \"projects/910094146258/locations/us-central1/modelDeploymentMonitoringJobs/2892652364957745152\"\n",
      "display_name: \"TAXI_MONITORING_20210613_175849\"\n",
      "endpoint: \"projects/910094146258/locations/us-central1/endpoints/3098810795165745152\"\n",
      "state: JOB_STATE_PENDING\n",
      "schedule_state: OFFLINE\n",
      "model_deployment_monitoring_objective_configs {\n",
      "  deployed_model_id: \"3328564744905818112\"\n",
      "  objective_config {\n",
      "    training_dataset {\n",
      "      bigquery_source {\n",
      "        input_uri: \"jk-vertex-workshop.jkvw_dataset.training\"\n",
      "      }\n",
      "      target_field: \"tip_bin\"\n",
      "    }\n",
      "    training_prediction_skew_detection_config {\n",
      "      skew_thresholds {\n",
      "        key: \"dropoff_grid\"\n",
      "        value {\n",
      "          value: 0.3\n",
      "        }\n",
      "      }\n",
      "      skew_thresholds {\n",
      "        key: \"euclidean\"\n",
      "        value {\n",
      "          value: 0.3\n",
      "        }\n",
      "      }\n",
      "      skew_thresholds {\n",
      "        key: \"payment_type\"\n",
      "        value {\n",
      "          value: 0.3\n",
      "        }\n",
      "      }\n",
      "      skew_thresholds {\n",
      "        key: \"pickup_grid\"\n",
      "        value {\n",
      "          value: 0.3\n",
      "        }\n",
      "      }\n",
      "      skew_thresholds {\n",
      "        key: \"trip_day\"\n",
      "        value {\n",
      "          value: 0.3\n",
      "        }\n",
      "      }\n",
      "      skew_thresholds {\n",
      "        key: \"trip_day_of_week\"\n",
      "        value {\n",
      "          value: 0.3\n",
      "        }\n",
      "      }\n",
      "      skew_thresholds {\n",
      "        key: \"trip_hour\"\n",
      "        value {\n",
      "          value: 0.3\n",
      "        }\n",
      "      }\n",
      "      skew_thresholds {\n",
      "        key: \"trip_miles\"\n",
      "        value {\n",
      "          value: 0.3\n",
      "        }\n",
      "      }\n",
      "      skew_thresholds {\n",
      "        key: \"trip_month\"\n",
      "        value {\n",
      "          value: 0.3\n",
      "        }\n",
      "      }\n",
      "      skew_thresholds {\n",
      "        key: \"trip_seconds\"\n",
      "        value {\n",
      "          value: 0.3\n",
      "        }\n",
      "      }\n",
      "    }\n",
      "    prediction_drift_detection_config {\n",
      "      drift_thresholds {\n",
      "        key: \"dropoff_grid\"\n",
      "        value {\n",
      "          value: 0.3\n",
      "        }\n",
      "      }\n",
      "      drift_thresholds {\n",
      "        key: \"euclidean\"\n",
      "        value {\n",
      "          value: 0.3\n",
      "        }\n",
      "      }\n",
      "      drift_thresholds {\n",
      "        key: \"payment_type\"\n",
      "        value {\n",
      "          value: 0.3\n",
      "        }\n",
      "      }\n",
      "      drift_thresholds {\n",
      "        key: \"pickup_grid\"\n",
      "        value {\n",
      "          value: 0.3\n",
      "        }\n",
      "      }\n",
      "      drift_thresholds {\n",
      "        key: \"trip_day\"\n",
      "        value {\n",
      "          value: 0.3\n",
      "        }\n",
      "      }\n",
      "      drift_thresholds {\n",
      "        key: \"trip_day_of_week\"\n",
      "        value {\n",
      "          value: 0.3\n",
      "        }\n",
      "      }\n",
      "      drift_thresholds {\n",
      "        key: \"trip_hour\"\n",
      "        value {\n",
      "          value: 0.3\n",
      "        }\n",
      "      }\n",
      "      drift_thresholds {\n",
      "        key: \"trip_miles\"\n",
      "        value {\n",
      "          value: 0.3\n",
      "        }\n",
      "      }\n",
      "      drift_thresholds {\n",
      "        key: \"trip_month\"\n",
      "        value {\n",
      "          value: 0.3\n",
      "        }\n",
      "      }\n",
      "      drift_thresholds {\n",
      "        key: \"trip_seconds\"\n",
      "        value {\n",
      "          value: 0.3\n",
      "        }\n",
      "      }\n",
      "    }\n",
      "  }\n",
      "}\n",
      "model_deployment_monitoring_schedule_config {\n",
      "  monitor_interval {\n",
      "    seconds: 3600\n",
      "  }\n",
      "}\n",
      "logging_sampling_strategy {\n",
      "  random_sample_config {\n",
      "    sample_rate: 0.8\n",
      "  }\n",
      "}\n",
      "bigquery_tables {\n",
      "  log_source: SERVING\n",
      "  log_type: PREDICT\n",
      "  bigquery_table_path: \"bq://jk-vertex-workshop.model_deployment_monitoring_3098810795165745152.serving_predict\"\n",
      "}\n",
      "create_time {\n",
      "  seconds: 1623607129\n",
      "  nanos: 388619000\n",
      "}\n",
      "update_time {\n",
      "  seconds: 1623607129\n",
      "  nanos: 388619000\n",
      "}\n",
      "next_schedule_time {\n",
      "}\n",
      "model_monitoring_alert_config {\n",
      "  email_alert_config {\n",
      "    user_emails: \"jarekk@gcp.solutions\"\n",
      "  }\n",
      "}\n",
      "log_ttl {\n",
      "}\n",
      "\n"
     ]
    }
   ],
   "source": [
    "job_name = \"TAXI_MONITORING_{}\".format(time.strftime(\"%Y%m%d_%H%M%S\"))\n",
    "\n",
    "predict_schema = \"\"\n",
    "analysis_schema = \"\"\n",
    "    \n",
    "job = ModelDeploymentMonitoringJob(\n",
    "    display_name=job_name,\n",
    "    endpoint=ENDPOINT_ID,\n",
    "    model_deployment_monitoring_objective_configs=objective_configs,\n",
    "    logging_sampling_strategy=sampling_config,\n",
    "    model_deployment_monitoring_schedule_config=schedule_config,\n",
    "    model_monitoring_alert_config=alerting_config,\n",
    "    predict_instance_schema_uri=predict_schema,\n",
    "    analysis_instance_schema_uri=analysis_schema,\n",
    ")\n",
    "    \n",
    "options = dict(api_endpoint=API_ENDPOINT)\n",
    "client = JobServiceClient(client_options=options)\n",
    "\n",
    "parent = f\"projects/{PROJECT_ID}/locations/{REGION}\"\n",
    "response = client.create_model_deployment_monitoring_job(\n",
    "    parent=parent, model_deployment_monitoring_job=job\n",
    ")\n",
    "    \n",
    "print(\"Created monitoring job:\")\n",
    "print(response)\n",
    "   "
   ]
  },
  {
   "cell_type": "code",
   "execution_count": null,
   "id": "525725a1",
   "metadata": {},
   "outputs": [],
   "source": []
  }
 ],
 "metadata": {
  "environment": {
   "name": "tf2-gpu.2-4.m69",
   "type": "gcloud",
   "uri": "gcr.io/deeplearning-platform-release/tf2-gpu.2-4:m69"
  },
  "kernelspec": {
   "display_name": "Python [conda env:root] *",
   "language": "python",
   "name": "conda-root-py"
  },
  "language_info": {
   "codemirror_mode": {
    "name": "ipython",
    "version": 3
   },
   "file_extension": ".py",
   "mimetype": "text/x-python",
   "name": "python",
   "nbconvert_exporter": "python",
   "pygments_lexer": "ipython3",
   "version": "3.7.10"
  }
 },
 "nbformat": 4,
 "nbformat_minor": 5
}
