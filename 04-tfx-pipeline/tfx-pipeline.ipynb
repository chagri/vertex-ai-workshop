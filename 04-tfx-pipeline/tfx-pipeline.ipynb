{
 "cells": [
  {
   "cell_type": "markdown",
   "metadata": {},
   "source": [
    "# Developing Vertex AI pipelines with the TFX SDK\n",
    "\n"
   ]
  },
  {
   "cell_type": "code",
   "execution_count": 1,
   "metadata": {},
   "outputs": [
    {
     "name": "stderr",
     "output_type": "stream",
     "text": [
      "WARNING:absl:RuntimeParameter is only supported on Cloud-based DAG runner currently.\n"
     ]
    }
   ],
   "source": [
    "import os\n",
    "import sys\n",
    "import kfp\n",
    "import tensorflow as tf\n",
    "import tfx\n",
    "\n",
    "from kfp.v2.google.client import AIPlatformClient\n",
    "\n",
    "from tfx.dsl.components.base import executor_spec\n",
    "from tfx.components.trainer import executor as trainer_executor\n",
    "from tfx.extensions.google_cloud_ai_platform.trainer import executor as ai_platform_trainer_executor\n",
    "from tfx.orchestration import data_types\n",
    "from tfx.orchestration.kubeflow.v2 import kubeflow_v2_dag_runner\n",
    "from tfx.orchestration.local.local_dag_runner import LocalDagRunner\n",
    "from tfx.orchestration.metadata import sqlite_metadata_connection_config\n",
    "from tfx.proto import trainer_pb2\n"
   ]
  },
  {
   "cell_type": "code",
   "execution_count": 2,
   "metadata": {},
   "outputs": [
    {
     "data": {
      "text/plain": [
       "'0.30.0'"
      ]
     },
     "execution_count": 2,
     "metadata": {},
     "output_type": "execute_result"
    }
   ],
   "source": [
    "tfx.__version__"
   ]
  },
  {
   "cell_type": "code",
   "execution_count": 3,
   "metadata": {},
   "outputs": [],
   "source": [
    "%load_ext autoreload\n",
    "%autoreload 2"
   ]
  },
  {
   "cell_type": "markdown",
   "metadata": {},
   "source": [
    "## Configure lab settings"
   ]
  },
  {
   "cell_type": "code",
   "execution_count": 4,
   "metadata": {},
   "outputs": [],
   "source": [
    "PROJECT = 'jk-vertexai-ws'\n",
    "REGION = 'us-central1'\n",
    "PREFIX = 'jk'\n",
    "\n",
    "STAGING_BUCKET = f'gs://{PREFIX}-bucket'\n",
    "VERTEX_SA = f'training-sa@{PROJECT}.iam.gserviceaccount.com'\n",
    "PIPELINES_SA = f'pipelines-sa@{PROJECT}.iam.gserviceaccount.com'\n",
    "\n",
    "DATA_ROOT_URI = 'gs://workshop-datasets/covertype/small'\n",
    "SCHEMA_FOLDER = f'{STAGING_BUCKET}/tfx/schema'\n",
    "TFX_IMAGE = f'gcr.io/{PROJECT}/tfxcovertype'"
   ]
  },
  {
   "cell_type": "code",
   "execution_count": null,
   "metadata": {},
   "outputs": [],
   "source": [
    "!gsutil cp pipeline/schema/schema.pbtxt {SCHEMA_FOLDER}/schema.pbtxt"
   ]
  },
  {
   "cell_type": "markdown",
   "metadata": {},
   "source": [
    "## Review the pipeline design"
   ]
  },
  {
   "cell_type": "markdown",
   "metadata": {},
   "source": [
    "## Compile the pipeline"
   ]
  },
  {
   "cell_type": "code",
   "execution_count": null,
   "metadata": {},
   "outputs": [],
   "source": [
    "from pipeline import pipeline\n",
    "\n",
    "pipeline_name = 'covertype-continuous-training'\n",
    "\n",
    "trainer_custom_config = None\n",
    "trainer_custom_executor_spec=executor_spec.ExecutorClassSpec(\n",
    "    trainer_executor.GenericExecutor)\n",
    "\n",
    "beam_pipeline_args = [\n",
    "    '--direct_running_mode=multi_processing',\n",
    "    '--direct_num_workers=0' \n",
    "] \n",
    "\n",
    "pipeline_def = pipeline.create_pipeline(\n",
    "    pipeline_name=pipeline_name,\n",
    "    pipeline_root=f'{STAGING_BUCKET}/pipelines/{pipeline_name}',\n",
    "    serving_model_uri=f'{STAGING_BUCKET}/models/Covertype',\n",
    "    data_root_uri=data_types.RuntimeParameter(\n",
    "        name='data_root_uri',\n",
    "        ptype=str,\n",
    "        default=DATA_ROOT_URI\n",
    "    ),\n",
    "    schema_folder_uri=SCHEMA_FOLDER,\n",
    "    train_steps = 1000,\n",
    "    eval_steps = 500,\n",
    "    trainer_custom_executor_spec=trainer_custom_executor_spec,\n",
    "    trainer_custom_config=trainer_custom_config,\n",
    "    beam_pipeline_args=beam_pipeline_args,\n",
    ")"
   ]
  },
  {
   "cell_type": "code",
   "execution_count": null,
   "metadata": {},
   "outputs": [],
   "source": [
    "pipeline_definition_file = 'covertype.json'\n",
    "\n",
    "runner = kubeflow_v2_dag_runner.KubeflowV2DagRunner(\n",
    "    config=kubeflow_v2_dag_runner.KubeflowV2DagRunnerConfig(\n",
    "        default_image=TFX_IMAGE\n",
    "    ),\n",
    "    output_filename=pipeline_definition_file,\n",
    ")\n",
    "\n",
    "pipeline_json = runner.run(pipeline_def)"
   ]
  },
  {
   "cell_type": "markdown",
   "metadata": {},
   "source": [
    "## Prepare a TFX container"
   ]
  },
  {
   "cell_type": "code",
   "execution_count": null,
   "metadata": {},
   "outputs": [],
   "source": [
    "!gcloud builds submit --tag {TFX_IMAGE} pipeline"
   ]
  },
  {
   "cell_type": "markdown",
   "metadata": {},
   "source": [
    "## Submitting pipeline runs"
   ]
  },
  {
   "cell_type": "code",
   "execution_count": null,
   "metadata": {},
   "outputs": [],
   "source": [
    "pipeline_client = AIPlatformClient(\n",
    "    project_id=PROJECT,\n",
    "    region=REGION,\n",
    ")"
   ]
  },
  {
   "cell_type": "code",
   "execution_count": null,
   "metadata": {},
   "outputs": [],
   "source": [
    "parameter_values = {\n",
    "    'data_root_uri': DATA_ROOT_URI,\n",
    "}\n",
    "\n",
    "pipeline_client.create_run_from_job_spec(\n",
    "    job_spec_path=pipeline_definition_file,\n",
    "    parameter_values=parameter_values,\n",
    "    enable_caching=False,\n",
    "    service_account=PIPELINES_SA\n",
    ")"
   ]
  },
  {
   "cell_type": "code",
   "execution_count": null,
   "metadata": {},
   "outputs": [],
   "source": []
  }
 ],
 "metadata": {
  "environment": {
   "name": "tf2-cpu.2-4.m69",
   "type": "gcloud",
   "uri": "gcr.io/deeplearning-platform-release/tf2-cpu.2-4:m69"
  },
  "file_extension": ".py",
  "kernelspec": {
   "display_name": "Python [conda env:root] *",
   "language": "python",
   "name": "conda-root-py"
  },
  "language_info": {
   "codemirror_mode": {
    "name": "ipython",
    "version": 3
   },
   "file_extension": ".py",
   "mimetype": "text/x-python",
   "name": "python",
   "nbconvert_exporter": "python",
   "pygments_lexer": "ipython3",
   "version": "3.7.10"
  },
  "mimetype": "text/x-python",
  "name": "python",
  "npconvert_exporter": "python",
  "pygments_lexer": "ipython3",
  "version": 3
 },
 "nbformat": 4,
 "nbformat_minor": 4
}
