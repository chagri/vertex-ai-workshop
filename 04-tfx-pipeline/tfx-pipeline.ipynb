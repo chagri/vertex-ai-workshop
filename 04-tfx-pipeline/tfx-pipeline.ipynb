{
 "cells": [
  {
   "cell_type": "markdown",
   "metadata": {},
   "source": [
    "# Developing Vertex AI pipelines with the TFX SDK\n",
    "\n"
   ]
  },
  {
   "cell_type": "code",
   "execution_count": 1,
   "metadata": {},
   "outputs": [
    {
     "name": "stderr",
     "output_type": "stream",
     "text": [
      "WARNING:absl:RuntimeParameter is only supported on Cloud-based DAG runner currently.\n"
     ]
    }
   ],
   "source": [
    "import os\n",
    "import sys\n",
    "import kfp\n",
    "import tensorflow as tf\n",
    "import tfx\n",
    "\n",
    "from kfp.v2.google.client import AIPlatformClient\n",
    "\n",
    "from tfx.dsl.components.base import executor_spec\n",
    "from tfx.components.trainer import executor as trainer_executor\n",
    "from tfx.extensions.google_cloud_ai_platform.trainer import executor as ai_platform_trainer_executor\n",
    "from tfx.orchestration import data_types\n",
    "from tfx.orchestration.kubeflow.v2 import kubeflow_v2_dag_runner\n",
    "from tfx.orchestration.local.local_dag_runner import LocalDagRunner\n",
    "from tfx.orchestration.metadata import sqlite_metadata_connection_config\n",
    "from tfx.proto import trainer_pb2\n"
   ]
  },
  {
   "cell_type": "code",
   "execution_count": 2,
   "metadata": {},
   "outputs": [
    {
     "data": {
      "text/plain": [
       "'0.30.0'"
      ]
     },
     "execution_count": 2,
     "metadata": {},
     "output_type": "execute_result"
    }
   ],
   "source": [
    "tfx.__version__"
   ]
  },
  {
   "cell_type": "code",
   "execution_count": 3,
   "metadata": {},
   "outputs": [],
   "source": [
    "%load_ext autoreload\n",
    "%autoreload 2"
   ]
  },
  {
   "cell_type": "markdown",
   "metadata": {},
   "source": [
    "## Configure lab settings"
   ]
  },
  {
   "cell_type": "code",
   "execution_count": 21,
   "metadata": {},
   "outputs": [],
   "source": [
    "PROJECT = 'jk-vertex-workshop'\n",
    "REGION = 'us-central1'\n",
    "PREFIX = 'jkvw'\n",
    "\n",
    "STAGING_BUCKET = f'gs://{PREFIX}-bucket'\n",
    "VERTEX_SA = f'training-sa@{PROJECT}.iam.gserviceaccount.com'\n",
    "PIPELINES_SA = f'pipelines-sa@{PROJECT}.iam.gserviceaccount.com'\n",
    "\n",
    "DATA_ROOT_URI = 'gs://workshop-datasets/covertype/small'\n",
    "SCHEMA_FOLDER = f'{STAGING_BUCKET}/schema'\n",
    "TFX_IMAGE = f'gcr.io/{PROJECT}/tfxcovertype'"
   ]
  },
  {
   "cell_type": "code",
   "execution_count": 22,
   "metadata": {},
   "outputs": [
    {
     "name": "stdout",
     "output_type": "stream",
     "text": [
      "Copying file://pipeline/schema/schema.pbtxt [Content-Type=application/octet-stream]...\n",
      "/ [1 files][  2.9 KiB/  2.9 KiB]                                                \n",
      "Operation completed over 1 objects/2.9 KiB.                                      \n"
     ]
    }
   ],
   "source": [
    "!gsutil cp pipeline/schema/schema.pbtxt {SCHEMA_FOLDER}/schema.pbtxt"
   ]
  },
  {
   "cell_type": "markdown",
   "metadata": {},
   "source": [
    "## Review the pipeline design"
   ]
  },
  {
   "cell_type": "markdown",
   "metadata": {},
   "source": [
    "## Compile the pipeline"
   ]
  },
  {
   "cell_type": "code",
   "execution_count": 23,
   "metadata": {},
   "outputs": [
    {
     "name": "stderr",
     "output_type": "stream",
     "text": [
      "WARNING:absl:RuntimeParameter is only supported on Cloud-based DAG runner currently.\n",
      "WARNING:absl:RuntimeParameter is only supported on Cloud-based DAG runner currently.\n",
      "WARNING:absl:RuntimeParameter is only supported on Cloud-based DAG runner currently.\n",
      "WARNING:absl:RuntimeParameter is only supported on Cloud-based DAG runner currently.\n",
      "WARNING:absl:`custom_executor_spec` is going to be deprecated.\n"
     ]
    }
   ],
   "source": [
    "from pipeline import pipeline\n",
    "\n",
    "pipeline_name = 'covertype-continuous-training'\n",
    "\n",
    "trainer_custom_config = None\n",
    "trainer_custom_executor_spec=executor_spec.ExecutorClassSpec(\n",
    "    trainer_executor.GenericExecutor)\n",
    "\n",
    "beam_pipeline_args = [\n",
    "    '--direct_running_mode=multi_processing',\n",
    "    '--direct_num_workers=0' \n",
    "] \n",
    "\n",
    "pipeline_def = pipeline.create_pipeline(\n",
    "    pipeline_name=pipeline_name,\n",
    "    pipeline_root=f'{STAGING_BUCKET}/pipelines/{pipeline_name}',\n",
    "    serving_model_uri=f'{STAGING_BUCKET}/models/Covertype',\n",
    "    data_root_uri=data_types.RuntimeParameter(\n",
    "        name='data-root-uri',\n",
    "        ptype=str,\n",
    "        default=DATA_ROOT_URI\n",
    "    ),\n",
    "    schema_folder_uri = data_types.RuntimeParameter(\n",
    "        name='schema-folder-uri',\n",
    "        ptype=str,\n",
    "        default=SCHEMA_FOLDER\n",
    "    ),\n",
    "    train_steps = data_types.RuntimeParameter(\n",
    "        name='train-steps',\n",
    "        ptype=int,\n",
    "        default=1000\n",
    "    ),\n",
    "    eval_steps = data_types.RuntimeParameter(\n",
    "        name='eval-steps',\n",
    "        ptype=int,\n",
    "        default=500\n",
    "    ),\n",
    "    trainer_custom_executor_spec=trainer_custom_executor_spec,\n",
    "    trainer_custom_config=trainer_custom_config,\n",
    "    beam_pipeline_args=beam_pipeline_args,\n",
    ")"
   ]
  },
  {
   "cell_type": "code",
   "execution_count": 24,
   "metadata": {},
   "outputs": [],
   "source": [
    "pipeline_definition_file = 'covertype.json'\n",
    "\n",
    "runner = kubeflow_v2_dag_runner.KubeflowV2DagRunner(\n",
    "    config=kubeflow_v2_dag_runner.KubeflowV2DagRunnerConfig(\n",
    "        default_image=TFX_IMAGE\n",
    "    ),\n",
    "    output_filename=pipeline_definition_file,\n",
    ")\n",
    "\n",
    "pipeline_json = runner.run(pipeline_def)"
   ]
  },
  {
   "cell_type": "markdown",
   "metadata": {},
   "source": [
    "## Prepare a TFX container"
   ]
  },
  {
   "cell_type": "code",
   "execution_count": null,
   "metadata": {},
   "outputs": [
    {
     "name": "stdout",
     "output_type": "stream",
     "text": [
      "Creating temporary tarball archive of 16 file(s) totalling 85.9 KiB before compression.\n",
      "Uploading tarball of [pipeline] to [gs://jk-vertex-workshop_cloudbuild/source/1623788537.875119-f1776ee9a84a46b490506d6e4c5d1472.tgz]\n",
      "Created [https://cloudbuild.googleapis.com/v1/projects/jk-vertex-workshop/locations/global/builds/41fc9971-3429-4faf-a02f-da1287834329].\n",
      "Logs are available at [https://console.cloud.google.com/cloud-build/builds/41fc9971-3429-4faf-a02f-da1287834329?project=910094146258].\n",
      "----------------------------- REMOTE BUILD OUTPUT ------------------------------\n",
      "starting build \"41fc9971-3429-4faf-a02f-da1287834329\"\n",
      "\n",
      "FETCHSOURCE\n",
      "Fetching storage object: gs://jk-vertex-workshop_cloudbuild/source/1623788537.875119-f1776ee9a84a46b490506d6e4c5d1472.tgz#1623788538134801\n",
      "Copying gs://jk-vertex-workshop_cloudbuild/source/1623788537.875119-f1776ee9a84a46b490506d6e4c5d1472.tgz#1623788538134801...\n",
      "/ [1 files][ 19.0 KiB/ 19.0 KiB]                                                \n",
      "Operation completed over 1 objects/19.0 KiB.\n",
      "BUILD\n",
      "Already have image (with digest): gcr.io/cloud-builders/docker\n",
      "Sending build context to Docker daemon  102.9kB\n",
      "Step 1/4 : FROM gcr.io/tfx-oss-public/tfx:0.30.0\n",
      "0.30.0: Pulling from tfx-oss-public/tfx\n",
      "6e0aa5e7af40: Pulling fs layer\n",
      "d47239a868b3: Pulling fs layer\n",
      "49cbb10cca85: Pulling fs layer\n",
      "4450dd082e0f: Pulling fs layer\n",
      "2c645f69b1d6: Pulling fs layer\n",
      "c51f99ae46a1: Pulling fs layer\n",
      "ece22f1f3a5c: Pulling fs layer\n",
      "0ecbf0b7bbf8: Pulling fs layer\n",
      "5848f1cb3b81: Pulling fs layer\n",
      "2f54b1f16acd: Pulling fs layer\n",
      "16e84ce81d85: Pulling fs layer\n",
      "c8e5550a4fa4: Pulling fs layer\n",
      "424e7c9d5d89: Pulling fs layer\n",
      "8c4a122297af: Pulling fs layer\n",
      "0a3be6fbb919: Pulling fs layer\n",
      "bd37ff43c32f: Pulling fs layer\n",
      "1200922938c4: Pulling fs layer\n",
      "c9544d041b64: Pulling fs layer\n",
      "3ba6aa913af7: Pulling fs layer\n",
      "14f071df3ff5: Pulling fs layer\n",
      "a70527b0d158: Pulling fs layer\n",
      "e83a95442471: Pulling fs layer\n",
      "8fbe78107b3d: Pulling fs layer\n",
      "eee173fc570a: Pulling fs layer\n",
      "9334ecc802d5: Pulling fs layer\n",
      "c631c38965fd: Pulling fs layer\n",
      "83550171dabb: Pulling fs layer\n",
      "e7357577046f: Pulling fs layer\n",
      "e39246da14f5: Pulling fs layer\n",
      "792c46c3aca1: Pulling fs layer\n",
      "86b48621d244: Pulling fs layer\n",
      "b7db915d224a: Pulling fs layer\n",
      "15be7077a27f: Pulling fs layer\n",
      "5291a275ab91: Pulling fs layer\n",
      "5defcd32b48a: Pulling fs layer\n",
      "cca8db2402df: Pulling fs layer\n",
      "6e763bd687d6: Pulling fs layer\n",
      "a7f315d6ed8c: Pulling fs layer\n",
      "01fde12f54d8: Pulling fs layer\n",
      "14f071df3ff5: Waiting\n",
      "a70527b0d158: Waiting\n",
      "e83a95442471: Waiting\n",
      "8fbe78107b3d: Waiting\n",
      "eee173fc570a: Waiting\n",
      "9334ecc802d5: Waiting\n",
      "c631c38965fd: Waiting\n",
      "83550171dabb: Waiting\n",
      "e7357577046f: Waiting\n",
      "e39246da14f5: Waiting\n",
      "792c46c3aca1: Waiting\n",
      "86b48621d244: Waiting\n",
      "b7db915d224a: Waiting\n",
      "15be7077a27f: Waiting\n",
      "5291a275ab91: Waiting\n",
      "5defcd32b48a: Waiting\n",
      "cca8db2402df: Waiting\n",
      "6e763bd687d6: Waiting\n",
      "a7f315d6ed8c: Waiting\n",
      "01fde12f54d8: Waiting\n",
      "4450dd082e0f: Waiting\n",
      "2c645f69b1d6: Waiting\n",
      "c51f99ae46a1: Waiting\n",
      "ece22f1f3a5c: Waiting\n",
      "0ecbf0b7bbf8: Waiting\n",
      "5848f1cb3b81: Waiting\n",
      "2f54b1f16acd: Waiting\n",
      "16e84ce81d85: Waiting\n",
      "c8e5550a4fa4: Waiting\n",
      "424e7c9d5d89: Waiting\n",
      "8c4a122297af: Waiting\n",
      "0a3be6fbb919: Waiting\n",
      "bd37ff43c32f: Waiting\n",
      "1200922938c4: Waiting\n",
      "c9544d041b64: Waiting\n",
      "3ba6aa913af7: Waiting\n",
      "d47239a868b3: Verifying Checksum\n",
      "d47239a868b3: Download complete\n",
      "49cbb10cca85: Verifying Checksum\n",
      "49cbb10cca85: Download complete\n",
      "4450dd082e0f: Verifying Checksum\n",
      "4450dd082e0f: Download complete\n",
      "6e0aa5e7af40: Verifying Checksum\n",
      "6e0aa5e7af40: Download complete\n",
      "c51f99ae46a1: Verifying Checksum\n",
      "c51f99ae46a1: Download complete\n",
      "2c645f69b1d6: Download complete\n",
      "ece22f1f3a5c: Verifying Checksum\n",
      "ece22f1f3a5c: Download complete\n",
      "5848f1cb3b81: Verifying Checksum\n",
      "5848f1cb3b81: Download complete\n",
      "16e84ce81d85: Verifying Checksum\n",
      "16e84ce81d85: Download complete\n",
      "6e0aa5e7af40: Pull complete\n",
      "d47239a868b3: Pull complete\n",
      "49cbb10cca85: Pull complete\n",
      "4450dd082e0f: Pull complete\n",
      "2f54b1f16acd: Verifying Checksum\n",
      "2f54b1f16acd: Download complete\n",
      "424e7c9d5d89: Verifying Checksum\n",
      "424e7c9d5d89: Download complete\n",
      "2c645f69b1d6: Pull complete\n",
      "c8e5550a4fa4: Verifying Checksum\n",
      "c8e5550a4fa4: Download complete\n",
      "0ecbf0b7bbf8: Verifying Checksum\n",
      "0ecbf0b7bbf8: Download complete\n",
      "0a3be6fbb919: Verifying Checksum\n",
      "0a3be6fbb919: Download complete\n",
      "bd37ff43c32f: Verifying Checksum\n",
      "bd37ff43c32f: Download complete\n",
      "1200922938c4: Verifying Checksum\n",
      "1200922938c4: Download complete\n",
      "3ba6aa913af7: Verifying Checksum\n",
      "3ba6aa913af7: Download complete\n",
      "c51f99ae46a1: Pull complete\n",
      "8c4a122297af: Download complete\n",
      "14f071df3ff5: Verifying Checksum\n",
      "14f071df3ff5: Download complete\n",
      "a70527b0d158: Verifying Checksum\n",
      "a70527b0d158: Download complete\n",
      "e83a95442471: Download complete\n",
      "eee173fc570a: Verifying Checksum\n",
      "eee173fc570a: Download complete\n",
      "8fbe78107b3d: Verifying Checksum\n",
      "8fbe78107b3d: Download complete\n",
      "9334ecc802d5: Verifying Checksum\n",
      "9334ecc802d5: Download complete\n",
      "c631c38965fd: Verifying Checksum\n",
      "c631c38965fd: Download complete\n",
      "ece22f1f3a5c: Pull complete\n",
      "c9544d041b64: Verifying Checksum\n",
      "c9544d041b64: Download complete\n",
      "83550171dabb: Verifying Checksum\n",
      "83550171dabb: Download complete\n",
      "e39246da14f5: Verifying Checksum\n",
      "e39246da14f5: Download complete\n",
      "86b48621d244: Verifying Checksum\n",
      "86b48621d244: Download complete\n",
      "b7db915d224a: Verifying Checksum\n",
      "b7db915d224a: Download complete\n",
      "15be7077a27f: Verifying Checksum\n",
      "15be7077a27f: Download complete\n",
      "5291a275ab91: Verifying Checksum\n",
      "5291a275ab91: Download complete\n",
      "5defcd32b48a: Verifying Checksum\n",
      "5defcd32b48a: Download complete\n",
      "cca8db2402df: Verifying Checksum\n",
      "cca8db2402df: Download complete\n",
      "6e763bd687d6: Verifying Checksum\n",
      "6e763bd687d6: Download complete\n",
      "a7f315d6ed8c: Verifying Checksum\n",
      "a7f315d6ed8c: Download complete\n",
      "01fde12f54d8: Download complete\n",
      "792c46c3aca1: Verifying Checksum\n",
      "792c46c3aca1: Download complete\n"
     ]
    }
   ],
   "source": [
    "!gcloud builds submit --tag {TFX_IMAGE} pipeline"
   ]
  },
  {
   "cell_type": "markdown",
   "metadata": {},
   "source": [
    "## Submitting pipeline runs"
   ]
  },
  {
   "cell_type": "code",
   "execution_count": 20,
   "metadata": {},
   "outputs": [],
   "source": [
    "pipeline_client = AIPlatformClient(\n",
    "    project_id=PROJECT,\n",
    "    region=REGION,\n",
    ")"
   ]
  },
  {
   "cell_type": "code",
   "execution_count": null,
   "metadata": {},
   "outputs": [],
   "source": [
    "parameter_values = {\n",
    "    'data_root_uri': DATA_ROOT_URI,\n",
    "    'train_steps': 1000,\n",
    "    'eval_steps': 500\n",
    "}\n",
    "\n",
    "pipeline_client.create_run_from_job_spec{\n",
    "    job_spec_path=pipeline_definition_file,\n",
    "    parameter_values=parameter_values\n",
    "}"
   ]
  }
 ],
 "metadata": {
  "environment": {
   "name": "tf2-gpu.2-4.m69",
   "type": "gcloud",
   "uri": "gcr.io/deeplearning-platform-release/tf2-gpu.2-4:m69"
  },
  "file_extension": ".py",
  "kernelspec": {
   "display_name": "Python [conda env:root] *",
   "language": "python",
   "name": "conda-root-py"
  },
  "language_info": {
   "codemirror_mode": {
    "name": "ipython",
    "version": 3
   },
   "file_extension": ".py",
   "mimetype": "text/x-python",
   "name": "python",
   "nbconvert_exporter": "python",
   "pygments_lexer": "ipython3",
   "version": "3.7.10"
  },
  "mimetype": "text/x-python",
  "name": "python",
  "npconvert_exporter": "python",
  "pygments_lexer": "ipython3",
  "version": 3
 },
 "nbformat": 4,
 "nbformat_minor": 4
}
