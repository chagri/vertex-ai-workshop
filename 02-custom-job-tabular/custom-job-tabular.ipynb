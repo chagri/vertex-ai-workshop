{
 "cells": [
  {
   "cell_type": "markdown",
   "id": "478fda4b",
   "metadata": {},
   "source": [
    "# Training and deploying a tabular model using Vertex custom training job\n",
    "\n",
    "![Training pipeline](../images/custom-tabular.png)"
   ]
  },
  {
   "cell_type": "markdown",
   "id": "6c024dc9",
   "metadata": {},
   "source": [
    "## Import the required packages"
   ]
  },
  {
   "cell_type": "code",
   "execution_count": 1,
   "id": "926c92c8",
   "metadata": {},
   "outputs": [],
   "source": [
    "import os\n",
    "import pandas as pd\n",
    "import tensorflow as tf\n",
    "\n",
    "import matplotlib.pyplot as plt\n",
    "\n",
    "from google.cloud import aiplatform as vertex_ai\n",
    "from google.cloud.aiplatform_v1beta1 import types\n",
    "from google.cloud import bigquery\n",
    "from google.cloud import exceptions\n",
    "\n",
    "from tensorflow.keras import layers\n",
    "from tensorflow.keras.layers.experimental import preprocessing\n",
    "\n",
    "from tensorflow_io import bigquery as tfio_bq\n"
   ]
  },
  {
   "cell_type": "markdown",
   "id": "78166edb",
   "metadata": {},
   "source": [
    "## Configure GCP settings\n",
    "\n",
    "*Before running the notebook make sure to follow the repo's README file to install the pre-requisites and configure GCP authentication.*"
   ]
  },
  {
   "cell_type": "code",
   "execution_count": 2,
   "id": "5822c763",
   "metadata": {},
   "outputs": [],
   "source": [
    "PROJECT = 'jk-mlops-dev'\n",
    "REGION = 'us-central1'\n",
    "STAGING_BUCKET = 'gs://jk-vertex-workshop-bucket'\n",
    "VERTEX_SA = 'vertex-sa@jk-mlops-dev.iam.gserviceaccount.com'"
   ]
  },
  {
   "cell_type": "markdown",
   "id": "583f4937",
   "metadata": {},
   "source": [
    "## Initialize Vertex AI SDK"
   ]
  },
  {
   "cell_type": "code",
   "execution_count": 3,
   "id": "77a5912a",
   "metadata": {},
   "outputs": [],
   "source": [
    "vertex_ai.init(\n",
    "    project=PROJECT,\n",
    "    location=REGION,\n",
    "    staging_bucket=STAGING_BUCKET\n",
    ")"
   ]
  },
  {
   "cell_type": "markdown",
   "id": "d713627a",
   "metadata": {},
   "source": [
    "## Create or set Tensorboard"
   ]
  },
  {
   "cell_type": "code",
   "execution_count": 4,
   "id": "b56821dd",
   "metadata": {},
   "outputs": [
    {
     "name": "stdout",
     "output_type": "stream",
     "text": [
      "Using existing Tensorboard: projects/895222332033/locations/us-central1/tensorboards/7964545572260544512\n"
     ]
    }
   ],
   "source": [
    "tb_client = api_client = vertex_ai.initializer.global_config.create_client(\n",
    "        client_class=vertex_ai.utils.TensorboardClientWithOverride, location_override=REGION\n",
    ")\n",
    "parent = f'projects/{PROJECT}/locations/{REGION}'\n",
    "\n",
    "tensorboard_display_name = 'Workshop Tensorboard'\n",
    "tensorboard_ref = None\n",
    "\n",
    "for tensorboard in tb_client.list_tensorboards(parent=parent):\n",
    "    if tensorboard.display_name == tensorboard_display_name:\n",
    "        tensorboard_ref = tensorboard\n",
    "        \n",
    "if not tensorboard_ref:\n",
    "    print('Creating new Tensorboard')\n",
    "    tb_specs = types.Tensorboard(\n",
    "        display_name=tensorboard_display_name,\n",
    "        description=tensorboard_display_name\n",
    "    )\n",
    "    operation = tb_client.create_tensorboard(parent=parent, tensorboard=tb_specs)\n",
    "    tensorboard_ref = operation.result()\n",
    "else:\n",
    "    print('Using existing Tensorboard:', tensorboard_ref.name)"
   ]
  },
  {
   "cell_type": "markdown",
   "id": "472fa8ef",
   "metadata": {},
   "source": [
    "## Preparing training data in BigQuery"
   ]
  },
  {
   "cell_type": "markdown",
   "id": "0f7eb0c7",
   "metadata": {},
   "source": [
    "### Explore Chicago Taxi dataset"
   ]
  },
  {
   "cell_type": "code",
   "execution_count": 9,
   "id": "30256294",
   "metadata": {},
   "outputs": [
    {
     "name": "stderr",
     "output_type": "stream",
     "text": [
      "Query complete after 0.00s: 100%|██████████| 2/2 [00:00<00:00, 1411.99query/s]                        \n",
      "Downloading: 100%|██████████| 3/3 [00:00<00:00,  3.06rows/s]\n"
     ]
    }
   ],
   "source": [
    "%%bigquery data\n",
    "\n",
    "SELECT \n",
    "    *\n",
    "FROM `bigquery-public-data.chicago_taxi_trips.taxi_trips`\n",
    "LIMIT 3"
   ]
  },
  {
   "cell_type": "code",
   "execution_count": 10,
   "id": "2ccbcb36",
   "metadata": {},
   "outputs": [
    {
     "data": {
      "text/html": [
       "<div>\n",
       "<style scoped>\n",
       "    .dataframe tbody tr th:only-of-type {\n",
       "        vertical-align: middle;\n",
       "    }\n",
       "\n",
       "    .dataframe tbody tr th {\n",
       "        vertical-align: top;\n",
       "    }\n",
       "\n",
       "    .dataframe thead th {\n",
       "        text-align: right;\n",
       "    }\n",
       "</style>\n",
       "<table border=\"1\" class=\"dataframe\">\n",
       "  <thead>\n",
       "    <tr style=\"text-align: right;\">\n",
       "      <th></th>\n",
       "      <th>0</th>\n",
       "      <th>1</th>\n",
       "      <th>2</th>\n",
       "    </tr>\n",
       "  </thead>\n",
       "  <tbody>\n",
       "    <tr>\n",
       "      <th>unique_key</th>\n",
       "      <td>d1c0e6541df70f7d76c58bd443cf911f038b7412</td>\n",
       "      <td>4155e838b1eecbc2a6634a90d1b639505ed9e19b</td>\n",
       "      <td>40228f36afe0c48983689c949d7e279ca8e8e9c7</td>\n",
       "    </tr>\n",
       "    <tr>\n",
       "      <th>taxi_id</th>\n",
       "      <td>fca0a720a85dda59406a7cb83b958b77c587e03c503c41...</td>\n",
       "      <td>487b08bac958b7e35025681d6ab2f21cd1e380f995fee0...</td>\n",
       "      <td>6fddf42c6f6cf22bcced14d3520b8218488737fe3d6212...</td>\n",
       "    </tr>\n",
       "    <tr>\n",
       "      <th>trip_start_timestamp</th>\n",
       "      <td>2014-10-31 06:45:00+00:00</td>\n",
       "      <td>2019-12-22 08:45:00+00:00</td>\n",
       "      <td>2019-12-01 20:00:00+00:00</td>\n",
       "    </tr>\n",
       "    <tr>\n",
       "      <th>trip_end_timestamp</th>\n",
       "      <td>2014-10-31 07:00:00+00:00</td>\n",
       "      <td>2019-12-22 09:00:00+00:00</td>\n",
       "      <td>2019-12-01 20:00:00+00:00</td>\n",
       "    </tr>\n",
       "    <tr>\n",
       "      <th>trip_seconds</th>\n",
       "      <td>780</td>\n",
       "      <td>1343</td>\n",
       "      <td>420</td>\n",
       "    </tr>\n",
       "    <tr>\n",
       "      <th>trip_miles</th>\n",
       "      <td>3.4</td>\n",
       "      <td>17.61</td>\n",
       "      <td>1.2</td>\n",
       "    </tr>\n",
       "    <tr>\n",
       "      <th>pickup_census_tract</th>\n",
       "      <td>NaN</td>\n",
       "      <td>NaN</td>\n",
       "      <td>NaN</td>\n",
       "    </tr>\n",
       "    <tr>\n",
       "      <th>dropoff_census_tract</th>\n",
       "      <td>NaN</td>\n",
       "      <td>NaN</td>\n",
       "      <td>NaN</td>\n",
       "    </tr>\n",
       "    <tr>\n",
       "      <th>pickup_community_area</th>\n",
       "      <td>NaN</td>\n",
       "      <td>NaN</td>\n",
       "      <td>NaN</td>\n",
       "    </tr>\n",
       "    <tr>\n",
       "      <th>dropoff_community_area</th>\n",
       "      <td>NaN</td>\n",
       "      <td>NaN</td>\n",
       "      <td>NaN</td>\n",
       "    </tr>\n",
       "    <tr>\n",
       "      <th>fare</th>\n",
       "      <td>10.65</td>\n",
       "      <td>43.5</td>\n",
       "      <td>6.75</td>\n",
       "    </tr>\n",
       "    <tr>\n",
       "      <th>tips</th>\n",
       "      <td>2.0</td>\n",
       "      <td>0.0</td>\n",
       "      <td>0.0</td>\n",
       "    </tr>\n",
       "    <tr>\n",
       "      <th>tolls</th>\n",
       "      <td>0.0</td>\n",
       "      <td>0.0</td>\n",
       "      <td>0.0</td>\n",
       "    </tr>\n",
       "    <tr>\n",
       "      <th>extras</th>\n",
       "      <td>0.0</td>\n",
       "      <td>0.0</td>\n",
       "      <td>0.0</td>\n",
       "    </tr>\n",
       "    <tr>\n",
       "      <th>trip_total</th>\n",
       "      <td>12.65</td>\n",
       "      <td>43.5</td>\n",
       "      <td>6.75</td>\n",
       "    </tr>\n",
       "    <tr>\n",
       "      <th>payment_type</th>\n",
       "      <td>Credit Card</td>\n",
       "      <td>Cash</td>\n",
       "      <td>Cash</td>\n",
       "    </tr>\n",
       "    <tr>\n",
       "      <th>company</th>\n",
       "      <td>None</td>\n",
       "      <td>Flash Cab</td>\n",
       "      <td>U Taxicab</td>\n",
       "    </tr>\n",
       "    <tr>\n",
       "      <th>pickup_latitude</th>\n",
       "      <td>NaN</td>\n",
       "      <td>NaN</td>\n",
       "      <td>NaN</td>\n",
       "    </tr>\n",
       "    <tr>\n",
       "      <th>pickup_longitude</th>\n",
       "      <td>NaN</td>\n",
       "      <td>NaN</td>\n",
       "      <td>NaN</td>\n",
       "    </tr>\n",
       "    <tr>\n",
       "      <th>pickup_location</th>\n",
       "      <td>None</td>\n",
       "      <td>None</td>\n",
       "      <td>None</td>\n",
       "    </tr>\n",
       "    <tr>\n",
       "      <th>dropoff_latitude</th>\n",
       "      <td>NaN</td>\n",
       "      <td>NaN</td>\n",
       "      <td>NaN</td>\n",
       "    </tr>\n",
       "    <tr>\n",
       "      <th>dropoff_longitude</th>\n",
       "      <td>NaN</td>\n",
       "      <td>NaN</td>\n",
       "      <td>NaN</td>\n",
       "    </tr>\n",
       "    <tr>\n",
       "      <th>dropoff_location</th>\n",
       "      <td>None</td>\n",
       "      <td>None</td>\n",
       "      <td>None</td>\n",
       "    </tr>\n",
       "  </tbody>\n",
       "</table>\n",
       "</div>"
      ],
      "text/plain": [
       "                                                                        0  \\\n",
       "unique_key                       d1c0e6541df70f7d76c58bd443cf911f038b7412   \n",
       "taxi_id                 fca0a720a85dda59406a7cb83b958b77c587e03c503c41...   \n",
       "trip_start_timestamp                            2014-10-31 06:45:00+00:00   \n",
       "trip_end_timestamp                              2014-10-31 07:00:00+00:00   \n",
       "trip_seconds                                                          780   \n",
       "trip_miles                                                            3.4   \n",
       "pickup_census_tract                                                   NaN   \n",
       "dropoff_census_tract                                                  NaN   \n",
       "pickup_community_area                                                 NaN   \n",
       "dropoff_community_area                                                NaN   \n",
       "fare                                                                10.65   \n",
       "tips                                                                  2.0   \n",
       "tolls                                                                 0.0   \n",
       "extras                                                                0.0   \n",
       "trip_total                                                          12.65   \n",
       "payment_type                                                  Credit Card   \n",
       "company                                                              None   \n",
       "pickup_latitude                                                       NaN   \n",
       "pickup_longitude                                                      NaN   \n",
       "pickup_location                                                      None   \n",
       "dropoff_latitude                                                      NaN   \n",
       "dropoff_longitude                                                     NaN   \n",
       "dropoff_location                                                     None   \n",
       "\n",
       "                                                                        1  \\\n",
       "unique_key                       4155e838b1eecbc2a6634a90d1b639505ed9e19b   \n",
       "taxi_id                 487b08bac958b7e35025681d6ab2f21cd1e380f995fee0...   \n",
       "trip_start_timestamp                            2019-12-22 08:45:00+00:00   \n",
       "trip_end_timestamp                              2019-12-22 09:00:00+00:00   \n",
       "trip_seconds                                                         1343   \n",
       "trip_miles                                                          17.61   \n",
       "pickup_census_tract                                                   NaN   \n",
       "dropoff_census_tract                                                  NaN   \n",
       "pickup_community_area                                                 NaN   \n",
       "dropoff_community_area                                                NaN   \n",
       "fare                                                                 43.5   \n",
       "tips                                                                  0.0   \n",
       "tolls                                                                 0.0   \n",
       "extras                                                                0.0   \n",
       "trip_total                                                           43.5   \n",
       "payment_type                                                         Cash   \n",
       "company                                                         Flash Cab   \n",
       "pickup_latitude                                                       NaN   \n",
       "pickup_longitude                                                      NaN   \n",
       "pickup_location                                                      None   \n",
       "dropoff_latitude                                                      NaN   \n",
       "dropoff_longitude                                                     NaN   \n",
       "dropoff_location                                                     None   \n",
       "\n",
       "                                                                        2  \n",
       "unique_key                       40228f36afe0c48983689c949d7e279ca8e8e9c7  \n",
       "taxi_id                 6fddf42c6f6cf22bcced14d3520b8218488737fe3d6212...  \n",
       "trip_start_timestamp                            2019-12-01 20:00:00+00:00  \n",
       "trip_end_timestamp                              2019-12-01 20:00:00+00:00  \n",
       "trip_seconds                                                          420  \n",
       "trip_miles                                                            1.2  \n",
       "pickup_census_tract                                                   NaN  \n",
       "dropoff_census_tract                                                  NaN  \n",
       "pickup_community_area                                                 NaN  \n",
       "dropoff_community_area                                                NaN  \n",
       "fare                                                                 6.75  \n",
       "tips                                                                  0.0  \n",
       "tolls                                                                 0.0  \n",
       "extras                                                                0.0  \n",
       "trip_total                                                           6.75  \n",
       "payment_type                                                         Cash  \n",
       "company                                                         U Taxicab  \n",
       "pickup_latitude                                                       NaN  \n",
       "pickup_longitude                                                      NaN  \n",
       "pickup_location                                                      None  \n",
       "dropoff_latitude                                                      NaN  \n",
       "dropoff_longitude                                                     NaN  \n",
       "dropoff_location                                                     None  "
      ]
     },
     "execution_count": 10,
     "metadata": {},
     "output_type": "execute_result"
    }
   ],
   "source": [
    "data.head().T"
   ]
  },
  {
   "cell_type": "code",
   "execution_count": 11,
   "id": "fc40c920",
   "metadata": {},
   "outputs": [
    {
     "name": "stderr",
     "output_type": "stream",
     "text": [
      "Query complete after 0.00s: 100%|██████████| 1/1 [00:00<00:00, 1041.29query/s]\n",
      "Downloading: 100%|██████████| 7/7 [00:01<00:00,  6.96rows/s]\n"
     ]
    }
   ],
   "source": [
    "%%bigquery data\n",
    "\n",
    "SELECT \n",
    "    CAST(EXTRACT(DAYOFWEEK FROM trip_start_timestamp) AS string) AS trip_dayofweek, \n",
    "    FORMAT_DATE('%A',cast(trip_start_timestamp as date)) AS trip_dayname,\n",
    "    COUNT(*) as trip_count,\n",
    "FROM `bigquery-public-data.chicago_taxi_trips.taxi_trips`\n",
    "WHERE\n",
    "    EXTRACT(YEAR FROM trip_start_timestamp) = 2015 \n",
    "GROUP BY\n",
    "    trip_dayofweek,\n",
    "    trip_dayname\n",
    "ORDER BY\n",
    "    trip_dayofweek"
   ]
  },
  {
   "cell_type": "code",
   "execution_count": 12,
   "id": "ebd24f7c",
   "metadata": {},
   "outputs": [
    {
     "data": {
      "text/html": [
       "<div>\n",
       "<style scoped>\n",
       "    .dataframe tbody tr th:only-of-type {\n",
       "        vertical-align: middle;\n",
       "    }\n",
       "\n",
       "    .dataframe tbody tr th {\n",
       "        vertical-align: top;\n",
       "    }\n",
       "\n",
       "    .dataframe thead th {\n",
       "        text-align: right;\n",
       "    }\n",
       "</style>\n",
       "<table border=\"1\" class=\"dataframe\">\n",
       "  <thead>\n",
       "    <tr style=\"text-align: right;\">\n",
       "      <th></th>\n",
       "      <th>trip_dayofweek</th>\n",
       "      <th>trip_dayname</th>\n",
       "      <th>trip_count</th>\n",
       "    </tr>\n",
       "  </thead>\n",
       "  <tbody>\n",
       "    <tr>\n",
       "      <th>0</th>\n",
       "      <td>1</td>\n",
       "      <td>Sunday</td>\n",
       "      <td>4141154</td>\n",
       "    </tr>\n",
       "    <tr>\n",
       "      <th>1</th>\n",
       "      <td>2</td>\n",
       "      <td>Monday</td>\n",
       "      <td>4105900</td>\n",
       "    </tr>\n",
       "    <tr>\n",
       "      <th>2</th>\n",
       "      <td>3</td>\n",
       "      <td>Tuesday</td>\n",
       "      <td>4378805</td>\n",
       "    </tr>\n",
       "    <tr>\n",
       "      <th>3</th>\n",
       "      <td>4</td>\n",
       "      <td>Wednesday</td>\n",
       "      <td>4542810</td>\n",
       "    </tr>\n",
       "    <tr>\n",
       "      <th>4</th>\n",
       "      <td>5</td>\n",
       "      <td>Thursday</td>\n",
       "      <td>4918190</td>\n",
       "    </tr>\n",
       "    <tr>\n",
       "      <th>5</th>\n",
       "      <td>6</td>\n",
       "      <td>Friday</td>\n",
       "      <td>5289830</td>\n",
       "    </tr>\n",
       "    <tr>\n",
       "      <th>6</th>\n",
       "      <td>7</td>\n",
       "      <td>Saturday</td>\n",
       "      <td>5009186</td>\n",
       "    </tr>\n",
       "  </tbody>\n",
       "</table>\n",
       "</div>"
      ],
      "text/plain": [
       "  trip_dayofweek trip_dayname  trip_count\n",
       "0              1       Sunday     4141154\n",
       "1              2       Monday     4105900\n",
       "2              3      Tuesday     4378805\n",
       "3              4    Wednesday     4542810\n",
       "4              5     Thursday     4918190\n",
       "5              6       Friday     5289830\n",
       "6              7     Saturday     5009186"
      ]
     },
     "execution_count": 12,
     "metadata": {},
     "output_type": "execute_result"
    }
   ],
   "source": [
    "data"
   ]
  },
  {
   "cell_type": "code",
   "execution_count": 13,
   "id": "bf7b5d20",
   "metadata": {},
   "outputs": [
    {
     "data": {
      "text/plain": [
       "<AxesSubplot:xlabel='trip_dayname'>"
      ]
     },
     "execution_count": 13,
     "metadata": {},
     "output_type": "execute_result"
    },
    {
     "data": {
      "image/png": "[encoded data removed]",
      "text/plain": [
       "<Figure size 432x288 with 1 Axes>"
      ]
     },
     "metadata": {
      "needs_background": "light"
     },
     "output_type": "display_data"
    }
   ],
   "source": [
    "data.plot(kind='bar', x='trip_dayname', y='trip_count')"
   ]
  },
  {
   "cell_type": "markdown",
   "id": "3e1c3746",
   "metadata": {},
   "source": [
    "### Create training and validation splits"
   ]
  },
  {
   "cell_type": "code",
   "execution_count": 14,
   "id": "05a35eb5",
   "metadata": {},
   "outputs": [],
   "source": [
    "BQ_DATASET_NAME = 'chicago_taxi_training' # Change to your BQ datasent name.\n",
    "BQ_TABLE_NAME = 'chicago_trips'\n",
    "BQ_LOCATION = 'US'"
   ]
  },
  {
   "cell_type": "markdown",
   "id": "863ad59c",
   "metadata": {},
   "source": [
    "#### Create a training dataset"
   ]
  },
  {
   "cell_type": "code",
   "execution_count": 15,
   "id": "d37ccf55",
   "metadata": {},
   "outputs": [
    {
     "name": "stdout",
     "output_type": "stream",
     "text": [
      "Created dataset:  jk-mlops-dev.chicago_taxi_training\n"
     ]
    }
   ],
   "source": [
    "client = bigquery.Client()\n",
    "\n",
    "dataset_id = f'{PROJECT}.{BQ_DATASET_NAME}'\n",
    "dataset = bigquery.Dataset(dataset_id)\n",
    "dataset.location = BQ_LOCATION\n",
    "\n",
    "try:\n",
    "    dataset = client.create_dataset(dataset, timeout=30)\n",
    "    print('Created dataset: ', dataset_id)\n",
    "except exceptions.Conflict:\n",
    "    print('Dataset {} already exists'.format(dataset_id))"
   ]
  },
  {
   "cell_type": "markdown",
   "id": "e7ddfb48",
   "metadata": {},
   "source": [
    "#### Clean the data and create training features"
   ]
  },
  {
   "cell_type": "code",
   "execution_count": 17,
   "id": "fc84d8ea",
   "metadata": {},
   "outputs": [
    {
     "data": {
      "text/plain": [
       "<google.cloud.bigquery.table._EmptyRowIterator at 0x7f2ff6a815d0>"
      ]
     },
     "execution_count": 17,
     "metadata": {},
     "output_type": "execute_result"
    }
   ],
   "source": [
    "sample_size = 1000000\n",
    "year = 2020\n",
    "\n",
    "sql_script_template = '''\n",
    "CREATE OR REPLACE TABLE `@PROJECT.@DATASET.@TABLE` \n",
    "AS (\n",
    "    WITH\n",
    "      taxitrips AS (\n",
    "      SELECT\n",
    "        FORMAT_DATETIME('%Y-%d-%m', trip_start_timestamp) AS date,\n",
    "        trip_start_timestamp,\n",
    "        trip_seconds,\n",
    "        trip_miles,\n",
    "        payment_type,\n",
    "        pickup_longitude,\n",
    "        pickup_latitude,\n",
    "        dropoff_longitude,\n",
    "        dropoff_latitude,\n",
    "        tips,\n",
    "        fare\n",
    "      FROM\n",
    "        `bigquery-public-data.chicago_taxi_trips.taxi_trips`\n",
    "      WHERE 1=1 \n",
    "      AND pickup_longitude IS NOT NULL\n",
    "      AND pickup_latitude IS NOT NULL\n",
    "      AND dropoff_longitude IS NOT NULL\n",
    "      AND dropoff_latitude IS NOT NULL\n",
    "      AND trip_miles > 0\n",
    "      AND trip_seconds > 0\n",
    "      AND fare > 0\n",
    "      AND EXTRACT(YEAR FROM trip_start_timestamp) = @YEAR\n",
    "    )\n",
    "\n",
    "    SELECT\n",
    "      trip_start_timestamp,\n",
    "      EXTRACT(MONTH from trip_start_timestamp) as trip_month,\n",
    "      EXTRACT(DAY from trip_start_timestamp) as trip_day,\n",
    "      EXTRACT(DAYOFWEEK from trip_start_timestamp) as trip_day_of_week,\n",
    "      EXTRACT(HOUR from trip_start_timestamp) as trip_hour,\n",
    "      trip_seconds,\n",
    "      trip_miles,\n",
    "      payment_type,\n",
    "      ST_AsText(\n",
    "          ST_SnapToGrid(ST_GeogPoint(pickup_longitude, pickup_latitude), 0.1)\n",
    "      ) AS pickup_grid,\n",
    "      ST_AsText(\n",
    "          ST_SnapToGrid(ST_GeogPoint(dropoff_longitude, dropoff_latitude), 0.1)\n",
    "      ) AS dropoff_grid,\n",
    "      ST_Distance(\n",
    "          ST_GeogPoint(pickup_longitude, pickup_latitude), \n",
    "          ST_GeogPoint(dropoff_longitude, dropoff_latitude)\n",
    "      ) AS euclidean,\n",
    "      IF((tips/fare >= 0.2), 1, 0) AS tip_bin,\n",
    "      CASE (ABS(MOD(FARM_FINGERPRINT(date),10))) \n",
    "          WHEN 9 THEN 'testing'\n",
    "          WHEN 8 THEN 'validation'\n",
    "          ELSE 'training' END AS data_split\n",
    "    FROM\n",
    "      taxitrips\n",
    "    LIMIT @LIMIT\n",
    ")\n",
    "'''\n",
    "\n",
    "sql_script = sql_script_template.replace(\n",
    "    '@PROJECT', PROJECT).replace(\n",
    "    '@DATASET', BQ_DATASET_NAME).replace(\n",
    "    '@TABLE', BQ_TABLE_NAME).replace(\n",
    "    '@YEAR', str(year)).replace(\n",
    "    '@LIMIT', str(sample_size))\n",
    "\n",
    "job = client.query(sql_script)\n",
    "job.result()"
   ]
  },
  {
   "cell_type": "markdown",
   "id": "73b1354d",
   "metadata": {},
   "source": [
    "#### Review the feature table"
   ]
  },
  {
   "cell_type": "code",
   "execution_count": 18,
   "id": "1fef62f4",
   "metadata": {},
   "outputs": [],
   "source": [
    "sql_script = f'''\n",
    "SELECT * EXCEPT (trip_start_timestamp)\n",
    "FROM {PROJECT}.{BQ_DATASET_NAME}.{BQ_TABLE_NAME} \n",
    "'''\n",
    "df = client.query(sql_script).result().to_dataframe()"
   ]
  },
  {
   "cell_type": "code",
   "execution_count": 19,
   "id": "44aca59a",
   "metadata": {},
   "outputs": [
    {
     "data": {
      "text/html": [
       "<div>\n",
       "<style scoped>\n",
       "    .dataframe tbody tr th:only-of-type {\n",
       "        vertical-align: middle;\n",
       "    }\n",
       "\n",
       "    .dataframe tbody tr th {\n",
       "        vertical-align: top;\n",
       "    }\n",
       "\n",
       "    .dataframe thead th {\n",
       "        text-align: right;\n",
       "    }\n",
       "</style>\n",
       "<table border=\"1\" class=\"dataframe\">\n",
       "  <thead>\n",
       "    <tr style=\"text-align: right;\">\n",
       "      <th></th>\n",
       "      <th>0</th>\n",
       "      <th>1</th>\n",
       "      <th>2</th>\n",
       "      <th>3</th>\n",
       "      <th>4</th>\n",
       "    </tr>\n",
       "  </thead>\n",
       "  <tbody>\n",
       "    <tr>\n",
       "      <th>trip_month</th>\n",
       "      <td>6</td>\n",
       "      <td>6</td>\n",
       "      <td>6</td>\n",
       "      <td>6</td>\n",
       "      <td>6</td>\n",
       "    </tr>\n",
       "    <tr>\n",
       "      <th>trip_day</th>\n",
       "      <td>19</td>\n",
       "      <td>19</td>\n",
       "      <td>19</td>\n",
       "      <td>19</td>\n",
       "      <td>19</td>\n",
       "    </tr>\n",
       "    <tr>\n",
       "      <th>trip_day_of_week</th>\n",
       "      <td>6</td>\n",
       "      <td>6</td>\n",
       "      <td>6</td>\n",
       "      <td>6</td>\n",
       "      <td>6</td>\n",
       "    </tr>\n",
       "    <tr>\n",
       "      <th>trip_hour</th>\n",
       "      <td>0</td>\n",
       "      <td>0</td>\n",
       "      <td>0</td>\n",
       "      <td>0</td>\n",
       "      <td>0</td>\n",
       "    </tr>\n",
       "    <tr>\n",
       "      <th>trip_seconds</th>\n",
       "      <td>1200</td>\n",
       "      <td>900</td>\n",
       "      <td>619</td>\n",
       "      <td>383</td>\n",
       "      <td>240</td>\n",
       "    </tr>\n",
       "    <tr>\n",
       "      <th>trip_miles</th>\n",
       "      <td>4.1</td>\n",
       "      <td>0.4</td>\n",
       "      <td>0.78</td>\n",
       "      <td>0.8</td>\n",
       "      <td>0.9</td>\n",
       "    </tr>\n",
       "    <tr>\n",
       "      <th>payment_type</th>\n",
       "      <td>Cash</td>\n",
       "      <td>Unknown</td>\n",
       "      <td>Cash</td>\n",
       "      <td>Credit Card</td>\n",
       "      <td>Cash</td>\n",
       "    </tr>\n",
       "    <tr>\n",
       "      <th>pickup_grid</th>\n",
       "      <td>POINT(-87.6 41.8)</td>\n",
       "      <td>POINT(-87.7 41.9)</td>\n",
       "      <td>POINT(-87.7 42)</td>\n",
       "      <td>POINT(-87.6 41.9)</td>\n",
       "      <td>POINT(-87.7 42)</td>\n",
       "    </tr>\n",
       "    <tr>\n",
       "      <th>dropoff_grid</th>\n",
       "      <td>POINT(-87.7 41.9)</td>\n",
       "      <td>POINT(-87.6 41.8)</td>\n",
       "      <td>POINT(-87.7 42)</td>\n",
       "      <td>POINT(-87.6 41.9)</td>\n",
       "      <td>POINT(-87.7 42)</td>\n",
       "    </tr>\n",
       "    <tr>\n",
       "      <th>euclidean</th>\n",
       "      <td>2210.049904</td>\n",
       "      <td>10666.168995</td>\n",
       "      <td>3000.241665</td>\n",
       "      <td>0.0</td>\n",
       "      <td>2406.040979</td>\n",
       "    </tr>\n",
       "    <tr>\n",
       "      <th>tip_bin</th>\n",
       "      <td>0</td>\n",
       "      <td>0</td>\n",
       "      <td>0</td>\n",
       "      <td>0</td>\n",
       "      <td>0</td>\n",
       "    </tr>\n",
       "    <tr>\n",
       "      <th>data_split</th>\n",
       "      <td>training</td>\n",
       "      <td>training</td>\n",
       "      <td>training</td>\n",
       "      <td>training</td>\n",
       "      <td>training</td>\n",
       "    </tr>\n",
       "  </tbody>\n",
       "</table>\n",
       "</div>"
      ],
      "text/plain": [
       "                                  0                  1                2  \\\n",
       "trip_month                        6                  6                6   \n",
       "trip_day                         19                 19               19   \n",
       "trip_day_of_week                  6                  6                6   \n",
       "trip_hour                         0                  0                0   \n",
       "trip_seconds                   1200                900              619   \n",
       "trip_miles                      4.1                0.4             0.78   \n",
       "payment_type                   Cash            Unknown             Cash   \n",
       "pickup_grid       POINT(-87.6 41.8)  POINT(-87.7 41.9)  POINT(-87.7 42)   \n",
       "dropoff_grid      POINT(-87.7 41.9)  POINT(-87.6 41.8)  POINT(-87.7 42)   \n",
       "euclidean               2210.049904       10666.168995      3000.241665   \n",
       "tip_bin                           0                  0                0   \n",
       "data_split                 training           training         training   \n",
       "\n",
       "                                  3                4  \n",
       "trip_month                        6                6  \n",
       "trip_day                         19               19  \n",
       "trip_day_of_week                  6                6  \n",
       "trip_hour                         0                0  \n",
       "trip_seconds                    383              240  \n",
       "trip_miles                      0.8              0.9  \n",
       "payment_type            Credit Card             Cash  \n",
       "pickup_grid       POINT(-87.6 41.9)  POINT(-87.7 42)  \n",
       "dropoff_grid      POINT(-87.6 41.9)  POINT(-87.7 42)  \n",
       "euclidean                       0.0      2406.040979  \n",
       "tip_bin                           0                0  \n",
       "data_split                 training         training  "
      ]
     },
     "execution_count": 19,
     "metadata": {},
     "output_type": "execute_result"
    }
   ],
   "source": [
    "df.head().T"
   ]
  },
  {
   "cell_type": "code",
   "execution_count": 20,
   "id": "3923aec6",
   "metadata": {},
   "outputs": [
    {
     "data": {
      "text/plain": [
       "0    638303\n",
       "1    361697\n",
       "Name: tip_bin, dtype: int64"
      ]
     },
     "execution_count": 20,
     "metadata": {},
     "output_type": "execute_result"
    }
   ],
   "source": [
    "df.tip_bin.value_counts()"
   ]
  },
  {
   "cell_type": "code",
   "execution_count": 21,
   "id": "edbbbeef",
   "metadata": {},
   "outputs": [
    {
     "data": {
      "text/plain": [
       "training      705690\n",
       "validation    180941\n",
       "testing       113369\n",
       "Name: data_split, dtype: int64"
      ]
     },
     "execution_count": 21,
     "metadata": {},
     "output_type": "execute_result"
    }
   ],
   "source": [
    "df.data_split.value_counts()"
   ]
  },
  {
   "cell_type": "markdown",
   "id": "40b2869f",
   "metadata": {},
   "source": [
    "### Create training, validation, and test splits"
   ]
  },
  {
   "cell_type": "code",
   "execution_count": 35,
   "id": "858780c2",
   "metadata": {},
   "outputs": [],
   "source": [
    "splits = ['training', 'validation', 'testing']\n",
    "\n",
    "sql_script_template = f'''\n",
    "CREATE OR REPLACE TABLE `@PROJECT.@DATASET.@VIEW`\n",
    "AS\n",
    "SELECT * EXCEPT (trip_start_timestamp, data_split)\n",
    "FROM `@PROJECT.@DATASET.@TABLE`\n",
    "WHERE data_split=\"@SPLIT\"\n",
    "'''\n",
    "\n",
    "for split in splits:\n",
    "    view_name = split + '_split'\n",
    "    sql_script = sql_script_template.replace(\n",
    "        '@PROJECT', PROJECT).replace(\n",
    "        '@DATASET', BQ_DATASET_NAME).replace(\n",
    "        '@TABLE', BQ_TABLE_NAME).replace(\n",
    "        '@VIEW', view_name).replace(\n",
    "        '@SPLIT', split)\n",
    "    job = client.query(sql_script)\n",
    "    job.result()"
   ]
  },
  {
   "cell_type": "markdown",
   "id": "159d880e",
   "metadata": {},
   "source": [
    "## Prepare the model"
   ]
  },
  {
   "cell_type": "code",
   "execution_count": 36,
   "id": "3df11ebe",
   "metadata": {},
   "outputs": [],
   "source": [
    "FEATURES = {\n",
    "    \"tip_bin\": (\"categorical\", tf.int64),\n",
    "    \"trip_month\": (\"categorical\", tf.int64),\n",
    "    \"trip_day\": (\"categorical\", tf.int64),\n",
    "    \"trip_day_of_week\": (\"categorical\", tf.int64),\n",
    "    \"trip_hour\": (\"categorical\", tf.int64),\n",
    "    \"payment_type\": (\"categorical\", tf.string),\n",
    "    \"pickup_grid\": (\"categorical\", tf.string),\n",
    "    \"dropoff_grid\": (\"categorical\", tf.string),\n",
    "    \"euclidean\": (\"numeric\", tf.double),\n",
    "    \"trip_seconds\": (\"numeric\", tf.int64),\n",
    "    \"trip_miles\": (\"numeric\", tf.double),\n",
    "}\n",
    "\n",
    "TARGET_FEATURE_NAME = \"tip_bin\"\n",
    "\n",
    "TARGET_LABELS = [\"tip<20%\", \"tip>=20%\"]"
   ]
  },
  {
   "cell_type": "code",
   "execution_count": 37,
   "id": "99050d27",
   "metadata": {},
   "outputs": [],
   "source": [
    "def get_bq_dataset(project_id, dataset_id, table_id, selected_fields, batch_size):\n",
    "\n",
    "    client = tfio_bq.BigQueryClient()\n",
    "    parent = f'projects/{project_id}'\n",
    "\n",
    "    read_session = client.read_session(\n",
    "        parent=parent,\n",
    "        project_id=project_id,\n",
    "        table_id=table_id,\n",
    "        dataset_id=dataset_id,\n",
    "        selected_fields=selected_fields,\n",
    "    )\n",
    "\n",
    "    dataset = read_session.parallel_read_rows().batch(batch_size)\n",
    "    \n",
    "    return dataset\n",
    "\n",
    "\n",
    "def get_category_encoding_layer(name, dataset, dtype):\n",
    "    \"\"\"Creates a CategoryEncoding layer for a given feature.\"\"\"\n",
    "\n",
    "    if dtype == tf.string:\n",
    "      index = preprocessing.StringLookup()\n",
    "    else:\n",
    "      index = preprocessing.IntegerLookup()\n",
    "\n",
    "    feature_ds = dataset.map(lambda x: x[name])\n",
    "    index.adapt(feature_ds)\n",
    "    \n",
    "    print(index.get_vocabulary())\n",
    "    encoder = preprocessing.CategoryEncoding(max_tokens=index.vocab_size())\n",
    "\n",
    "    return lambda feature: encoder(index(feature))\n",
    "\n",
    "\n",
    "def get_normalization_layer(name, dataset):\n",
    "  \"\"\"\"Creates a Normalization layer for a given feature.\"\"\"\n",
    "  normalizer = preprocessing.Normalization()\n",
    "\n",
    "  feature_ds = dataset.map(lambda x: x[name])\n",
    "  normalizer.adapt(feature_ds)\n",
    "\n",
    "  return normalizer\n",
    "\n",
    "\n",
    "def create_model(dataset, units, dropout_ratio):\n",
    "    \"\"\"Creates a binary classifier for Chicago Taxi tip prediction task.\"\"\"\n",
    "    \n",
    "    all_inputs = []\n",
    "    encoded_features = []\n",
    "    for feature_name, feature_info in FEATURES.items():\n",
    "        col = tf.keras.Input(shape=(1,), name=feature_name, dtype=feature_info[1])\n",
    "        if feature_info[0] == 'categorical':\n",
    "            \n",
    "            encoding_layer = get_category_encoding_layer(feature_name, \n",
    "                                                         dataset,\n",
    "                                                         feature_info[1])\n",
    "        else:\n",
    "            encoding_layer = get_normalization_layer(feature_name,\n",
    "                                                     dataset) \n",
    "        encoded_col = encoding_layer(col)\n",
    "        all_inputs.append(col)\n",
    "        encoded_features.append(encoded_col)\n",
    "        \n",
    "    all_features = tf.keras.layers.concatenate(encoded_features)\n",
    "    \n",
    "    x = tf.keras.layers.Dense(units, activation=\"relu\")(all_features)\n",
    "    x = tf.keras.layers.Dropout(dropout_ratio)(x)\n",
    "    output = tf.keras.layers.Dense(1)(x)\n",
    "    model = tf.keras.Model(all_inputs, output)\n",
    "    \n",
    "    return model\n",
    "            "
   ]
  },
  {
   "cell_type": "code",
   "execution_count": 47,
   "id": "95aa68e2",
   "metadata": {},
   "outputs": [
    {
     "data": {
      "text/plain": [
       "<BatchDataset shapes: OrderedDict([(dropoff_grid, (None,)), (euclidean, (None,)), (payment_type, (None,)), (pickup_grid, (None,)), (tip_bin, (None,)), (trip_day, (None,)), (trip_day_of_week, (None,)), (trip_hour, (None,)), (trip_miles, (None,)), (trip_month, (None,)), (trip_seconds, (None,))]), types: OrderedDict([(dropoff_grid, tf.string), (euclidean, tf.float64), (payment_type, tf.string), (pickup_grid, tf.string), (tip_bin, tf.int64), (trip_day, tf.int64), (trip_day_of_week, tf.int64), (trip_hour, tf.int64), (trip_miles, tf.float64), (trip_month, tf.int64), (trip_seconds, tf.int64)])>"
      ]
     },
     "execution_count": 47,
     "metadata": {},
     "output_type": "execute_result"
    }
   ],
   "source": [
    "selected_fields = {key: {'output_type': value[1]} for key, value in FEATURES.items()}\n",
    "batch_size = 32\n",
    "table_name = 'training_split'\n",
    "\n",
    "training_ds = get_bq_dataset(PROJECT, BQ_DATASET_NAME, table_name, selected_fields, batch_size)\n",
    "training_ds"
   ]
  },
  {
   "cell_type": "code",
   "execution_count": 48,
   "id": "9862a591",
   "metadata": {},
   "outputs": [],
   "source": [
    "iterator = iter(training_ds)"
   ]
  },
  {
   "cell_type": "code",
   "execution_count": 49,
   "id": "4fe89f60",
   "metadata": {},
   "outputs": [
    {
     "data": {
      "text/plain": [
       "OrderedDict([('dropoff_grid',\n",
       "              <tf.Tensor: shape=(32,), dtype=string, numpy=\n",
       "              array([b'POINT(-87.6 41.9)', b'POINT(-87.6 41.9)', b'POINT(-87.7 41.9)',\n",
       "                     b'POINT(-87.7 42)', b'POINT(-87.7 41.9)', b'POINT(-87.6 41.9)',\n",
       "                     b'POINT(-87.7 41.9)', b'POINT(-87.7 41.9)', b'POINT(-87.6 41.9)',\n",
       "                     b'POINT(-87.6 41.9)', b'POINT(-87.7 42)', b'POINT(-87.6 41.9)',\n",
       "                     b'POINT(-87.6 41.9)', b'POINT(-87.6 41.9)', b'POINT(-87.7 41.9)',\n",
       "                     b'POINT(-87.7 41.9)', b'POINT(-87.6 41.9)', b'POINT(-87.9 42)',\n",
       "                     b'POINT(-87.7 41.9)', b'POINT(-87.6 41.9)', b'POINT(-87.9 42)',\n",
       "                     b'POINT(-87.6 41.9)', b'POINT(-87.6 41.9)', b'POINT(-87.6 41.9)',\n",
       "                     b'POINT(-87.7 42)', b'POINT(-87.6 41.9)', b'POINT(-87.6 41.9)',\n",
       "                     b'POINT(-87.9 42)', b'POINT(-87.7 42)', b'POINT(-87.6 41.9)',\n",
       "                     b'POINT(-87.7 41.9)', b'POINT(-87.7 41.9)'], dtype=object)>),\n",
       "             ('euclidean',\n",
       "              <tf.Tensor: shape=(32,), dtype=float64, numpy=\n",
       "              array([0., 0., 0., 0., 0., 0., 0., 0., 0., 0., 0., 0., 0., 0., 0., 0., 0.,\n",
       "                     0., 0., 0., 0., 0., 0., 0., 0., 0., 0., 0., 0., 0., 0., 0.])>),\n",
       "             ('payment_type',\n",
       "              <tf.Tensor: shape=(32,), dtype=string, numpy=\n",
       "              array([b'Cash', b'Cash', b'Cash', b'Cash', b'Cash', b'Cash',\n",
       "                     b'Credit Card', b'Cash', b'Cash', b'Prcard', b'Cash', b'Cash',\n",
       "                     b'Cash', b'Cash', b'Cash', b'Credit Card', b'Cash', b'Cash',\n",
       "                     b'Prcard', b'Cash', b'Cash', b'Cash', b'Credit Card', b'Cash',\n",
       "                     b'Cash', b'Cash', b'Prcard', b'Cash', b'Cash', b'Cash', b'Cash',\n",
       "                     b'Cash'], dtype=object)>),\n",
       "             ('pickup_grid',\n",
       "              <tf.Tensor: shape=(32,), dtype=string, numpy=\n",
       "              array([b'POINT(-87.6 41.9)', b'POINT(-87.6 41.9)', b'POINT(-87.7 41.9)',\n",
       "                     b'POINT(-87.7 42)', b'POINT(-87.7 41.9)', b'POINT(-87.6 41.9)',\n",
       "                     b'POINT(-87.7 41.9)', b'POINT(-87.7 41.9)', b'POINT(-87.6 41.9)',\n",
       "                     b'POINT(-87.6 41.9)', b'POINT(-87.7 42)', b'POINT(-87.6 41.9)',\n",
       "                     b'POINT(-87.6 41.9)', b'POINT(-87.6 41.9)', b'POINT(-87.7 41.9)',\n",
       "                     b'POINT(-87.7 41.9)', b'POINT(-87.6 41.9)', b'POINT(-87.9 42)',\n",
       "                     b'POINT(-87.7 41.9)', b'POINT(-87.6 41.9)', b'POINT(-87.9 42)',\n",
       "                     b'POINT(-87.6 41.9)', b'POINT(-87.6 41.9)', b'POINT(-87.6 41.9)',\n",
       "                     b'POINT(-87.7 42)', b'POINT(-87.6 41.9)', b'POINT(-87.6 41.9)',\n",
       "                     b'POINT(-87.9 42)', b'POINT(-87.7 42)', b'POINT(-87.6 41.9)',\n",
       "                     b'POINT(-87.7 41.9)', b'POINT(-87.7 41.9)'], dtype=object)>),\n",
       "             ('tip_bin',\n",
       "              <tf.Tensor: shape=(32,), dtype=int64, numpy=\n",
       "              array([0, 0, 0, 0, 0, 0, 0, 0, 0, 0, 0, 0, 0, 0, 0, 0, 0, 0, 0, 0, 0, 0,\n",
       "                     0, 0, 0, 0, 0, 0, 0, 0, 0, 0])>),\n",
       "             ('trip_day',\n",
       "              <tf.Tensor: shape=(32,), dtype=int64, numpy=\n",
       "              array([1, 1, 1, 1, 1, 1, 1, 1, 1, 1, 1, 1, 1, 1, 1, 1, 1, 1, 1, 1, 1, 1,\n",
       "                     1, 1, 1, 1, 1, 1, 1, 1, 1, 1])>),\n",
       "             ('trip_day_of_week',\n",
       "              <tf.Tensor: shape=(32,), dtype=int64, numpy=\n",
       "              array([7, 7, 7, 2, 7, 7, 7, 7, 7, 2, 7, 7, 7, 7, 2, 7, 7, 7, 2, 7, 2, 7,\n",
       "                     7, 7, 7, 7, 7, 7, 2, 7, 7, 7])>),\n",
       "             ('trip_hour',\n",
       "              <tf.Tensor: shape=(32,), dtype=int64, numpy=\n",
       "              array([10, 16, 16,  3,  7, 18, 21,  4,  4,  8,  1, 12, 15, 18, 16,  1,  1,\n",
       "                     15, 16, 20, 19, 23, 23,  3,  6,  9, 12, 18, 15, 20,  0, 23])>),\n",
       "             ('trip_miles',\n",
       "              <tf.Tensor: shape=(32,), dtype=float64, numpy=\n",
       "              array([4.00e-01, 1.00e+00, 6.70e-01, 7.00e-01, 1.43e+00, 5.00e-01,\n",
       "                     2.87e+00, 1.60e+00, 4.60e-01, 1.15e+00, 6.00e-01, 1.10e+00,\n",
       "                     1.37e+00, 1.26e+00, 1.60e+00, 1.42e+00, 2.30e-01, 3.17e+00,\n",
       "                     5.70e-01, 4.62e+00, 8.60e+00, 1.10e+00, 3.00e-01, 8.40e-01,\n",
       "                     1.30e-01, 7.30e-01, 1.69e+00, 3.25e+01, 1.00e-02, 1.95e+00,\n",
       "                     3.20e-01, 1.27e+00])>),\n",
       "             ('trip_month',\n",
       "              <tf.Tensor: shape=(32,), dtype=int64, numpy=\n",
       "              array([2, 2, 2, 6, 2, 2, 2, 2, 2, 6, 2, 2, 2, 2, 6, 2, 2, 2, 6, 2, 6, 2,\n",
       "                     2, 2, 2, 2, 2, 8, 6, 2, 2, 2])>),\n",
       "             ('trip_seconds',\n",
       "              <tf.Tensor: shape=(32,), dtype=int64, numpy=\n",
       "              array([ 226,  360,  376,  235,  336,  240,  503,  180,  449,  280,  180,\n",
       "                      300, 1664,  507,  660,  437,  165,  603,  448,  855, 2937,  240,\n",
       "                      120,  172,   93,  236,  584, 2340,   37,  682,  162,  539])>)])"
      ]
     },
     "execution_count": 49,
     "metadata": {},
     "output_type": "execute_result"
    }
   ],
   "source": [
    "next(iterator)"
   ]
  },
  {
   "cell_type": "code",
   "execution_count": null,
   "id": "79e31242",
   "metadata": {},
   "outputs": [],
   "source": [
    "model = create_model(dataset, 32, 0.5)\n",
    "tf.keras.utils.plot_model(model, show_shapes=True, rankdir=\"LR\")"
   ]
  },
  {
   "cell_type": "code",
   "execution_count": null,
   "id": "5d8f81f1",
   "metadata": {},
   "outputs": [],
   "source": []
  },
  {
   "cell_type": "code",
   "execution_count": null,
   "id": "df78a0ba",
   "metadata": {},
   "outputs": [],
   "source": []
  },
  {
   "cell_type": "code",
   "execution_count": null,
   "id": "c49524fd",
   "metadata": {},
   "outputs": [],
   "source": []
  },
  {
   "cell_type": "code",
   "execution_count": null,
   "id": "d7d09ce3",
   "metadata": {},
   "outputs": [],
   "source": []
  },
  {
   "cell_type": "code",
   "execution_count": null,
   "id": "4491c91b",
   "metadata": {},
   "outputs": [],
   "source": []
  },
  {
   "cell_type": "markdown",
   "id": "9a93971d",
   "metadata": {},
   "source": [
    "## Create a Vertex managed tabular dataset"
   ]
  },
  {
   "cell_type": "markdown",
   "id": "80715643",
   "metadata": {},
   "source": [
    "### List existing tabular datasets"
   ]
  },
  {
   "cell_type": "code",
   "execution_count": null,
   "id": "c842c188",
   "metadata": {},
   "outputs": [],
   "source": [
    "display_name = 'Chicago Taxi Tips'\n",
    "filter = 'display_name=\"{}\"'.format(display_name)\n",
    "\n",
    "for dataset in vertex_ai.TabularDataset.list(filter=filter):\n",
    "    print(dataset.display_name, ' : ', dataset.resource_name)"
   ]
  },
  {
   "cell_type": "markdown",
   "id": "b9939053",
   "metadata": {},
   "source": [
    "### Create a new tabular dataset based on the BigQuery table"
   ]
  },
  {
   "cell_type": "code",
   "execution_count": null,
   "id": "adf1eefe",
   "metadata": {},
   "outputs": [],
   "source": [
    "bq_source = f'bq://{PROJECT}.{BQ_DATASET_NAME}.{BQ_TABLE_NAME}'\n",
    "\n",
    "\n",
    "dataset = vertex_ai.TabularDataset.create(\n",
    "    display_name=display_name, bq_source=bq_source\n",
    ")"
   ]
  },
  {
   "cell_type": "markdown",
   "id": "b3d9cbe5",
   "metadata": {},
   "source": [
    "## Prepare a training script"
   ]
  },
  {
   "cell_type": "code",
   "execution_count": null,
   "id": "0a649db5",
   "metadata": {},
   "outputs": [],
   "source": [
    "folder = 'trainer'\n",
    "if tf.io.gfile.exists(folder):\n",
    "    tf.io.gfile.rmtree(folder)\n",
    "tf.io.gfile.mkdir(folder)\n",
    "file_path = os.path.join(folder, 'train.py')"
   ]
  },
  {
   "cell_type": "code",
   "execution_count": null,
   "id": "751536a6",
   "metadata": {},
   "outputs": [],
   "source": [
    "%%writefile {file_path}\n",
    "\n",
    "\n",
    "# Copyright 2021 Google Inc. All Rights Reserved.\n",
    "#\n",
    "# Licensed under the Apache License, Version 2.0 (the \"License\");\n",
    "# you may not use this file except in compliance with the License.\n",
    "# You may obtain a copy of the License at\n",
    "#\n",
    "#            http://www.apache.org/licenses/LICENSE-2.0\n",
    "#\n",
    "# Unless required by applicable law or agreed to in writing, software\n",
    "# distributed under the License is distributed on an \"AS IS\" BASIS,\n",
    "# WITHOUT WARRANTIES OR CONDITIONS OF ANY KIND, either express or implied.\n",
    "# See the License for the specific language governing permissions and\n",
    "\n",
    "import tensorflow as tf\n",
    "from tensorflow import keras\n",
    "\n",
    "from absl import app\n",
    "from absl import flags\n",
    "from absl import logging\n",
    "\n",
    "FEATURE_NAMES = [\n",
    "    \"trip_month\",\n",
    "    \"trip_day\",\n",
    "    \"trip_day_of_week\",\n",
    "    \"trip_hour\",\n",
    "    \"trip_seconds\",\n",
    "    \"trip_miles\",\n",
    "    \"payment_type\",\n",
    "    \"pickup_grid\",\n",
    "    \"dropoff_grid\",\n",
    "    \"euclidean\",\n",
    "    \"loc_cross\",\n",
    "]\n",
    "\n",
    "TARGET_FEATURE_NAME = \"tip_bin\"\n",
    "\n",
    "TARGET_LABELS = [\"tip<20%\", \"tip>=20%\"]\n",
    "\n",
    "NUMERICAL_FEATURE_NAMES = [\n",
    "    \"trip_seconds\",\n",
    "    \"trip_miles\",\n",
    "    \"euclidean\",\n",
    "]\n",
    "\n",
    "EMBEDDING_CATEGORICAL_FEATURES = {\n",
    "    \"trip_month\": 2,\n",
    "    \"trip_day\": 4,\n",
    "    \"trip_hour\": 3,\n",
    "    \"pickup_grid\": 3,\n",
    "    \"dropoff_grid\": 3,\n",
    "    \"loc_cross\": 10,\n",
    "}\n",
    "\n",
    "ONEHOT_CATEGORICAL_FEATURE_NAMES = [\"payment_type\", \"trip_day_of_week\"]\n",
    "\n",
    "def create_model_inputs():\n",
    "    inputs = {}\n",
    "    for name in NUMERICAL_FEATURE_NAMES:\n",
    "        inputs[name] = keras.layers.Input(name=name, shape=[], dtype=tf.float32)\n",
    "    for name in list(EMBEDDING_CATEGORICAL_FEATURES.keys()) + ONEHOT_CATEGORICAL_FEATURE_NAMES:\n",
    "        inputs[name] = keras.layers.Input(name=name, shape=[], dtype=tf.int64)\n",
    "    return inputs\n",
    "\n",
    "\n",
    "def create_binary_classifier(feature_vocab_sizes, hyperparams):\n",
    "    input_layers = create_model_inputs()\n",
    "\n",
    "    layers = []\n",
    "    for feature_name in input_layers.keys:\n",
    "        if feature_name in EMBEDDING_CATEGORICAL_FEATURES:\n",
    "            vocab_size = feature_vocab_sizes[feature_name]\n",
    "            embedding_size = EMBEDDING_CATEGORICAL_FEATURES[feature_name]\n",
    "            embedding_output = keras.layers.Embedding(\n",
    "                input_dim=vocab_size + 1,\n",
    "                output_dim=embedding_size,\n",
    "                name=f\"{feature_name}_embedding\",\n",
    "            )(input_layers[feature_name])\n",
    "            layers.append(embedding_output)\n",
    "        elif feature_name in ONEHOT_CATEGORICAL_FEATURE_NAMES:\n",
    "            vocab_size = feature_vocab_sizes[feature_name]\n",
    "            onehot_layer = keras.layers.experimental.preprocessing.CategoryEncoding(\n",
    "                max_tokens=vocab_size,\n",
    "                output_mode=\"binary\",\n",
    "                name=f\"{feature_name}_onehot\",\n",
    "            )(input_layers[feature_name])\n",
    "            layers.append(onehot_layer)\n",
    "        elif feature_name in NUMERICAL_FEATURE_NAMES:\n",
    "            numeric_layer = tf.expand_dims(input_layers[feature_name], -1)\n",
    "            layers.append(numeric_layer)\n",
    "        else:\n",
    "            pass\n",
    "\n",
    "    joined = keras.layers.Concatenate(name=\"combines_inputs\")(layers)\n",
    "    feedforward_output = keras.Sequential(\n",
    "        [\n",
    "            keras.layers.Dense(units, activation=\"relu\")\n",
    "            for units in hyperparams[\"hidden_units\"]\n",
    "        ],\n",
    "        name=\"feedforward_network\",\n",
    "    )(joined)\n",
    "    logits = keras.layers.Dense(units=1, name=\"logits\")(feedforward_output)\n",
    "\n",
    "    model = keras.Model(inputs=input_layers, outputs=[logits])\n",
    "    return model\n",
    "\n",
    "\n",
    "def main(argv):\n",
    "    del argv\n",
    "    \n",
    "    inputs = create_model_inputs()\n",
    "    print(inputs)\n",
    "\n",
    "if __name__ == '__main__':\n",
    "    logging.set_verbosity(logging.INFO)\n",
    "    app.run(main)"
   ]
  },
  {
   "cell_type": "code",
   "execution_count": null,
   "id": "ccd07726",
   "metadata": {},
   "outputs": [],
   "source": []
  }
 ],
 "metadata": {
  "environment": {
   "name": "tf2-gpu.2-4.m69",
   "type": "gcloud",
   "uri": "gcr.io/deeplearning-platform-release/tf2-gpu.2-4:m69"
  },
  "kernelspec": {
   "display_name": "Python [conda env:root] *",
   "language": "python",
   "name": "conda-root-py"
  },
  "language_info": {
   "codemirror_mode": {
    "name": "ipython",
    "version": 3
   },
   "file_extension": ".py",
   "mimetype": "text/x-python",
   "name": "python",
   "nbconvert_exporter": "python",
   "pygments_lexer": "ipython3",
   "version": "3.7.10"
  }
 },
 "nbformat": 4,
 "nbformat_minor": 5
}
