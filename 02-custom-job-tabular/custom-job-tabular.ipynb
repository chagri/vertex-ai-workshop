{
 "cells": [
  {
   "cell_type": "markdown",
   "id": "ffb35fc1",
   "metadata": {},
   "source": [
    "# Training and deploying a tabular model using Vertex custom training job\n",
    "\n",
    "![Training pipeline](../images/custom-tabular.png)"
   ]
  },
  {
   "cell_type": "markdown",
   "id": "ed6d492c",
   "metadata": {},
   "source": [
    "## Import the required packages"
   ]
  },
  {
   "cell_type": "code",
   "execution_count": 1,
   "id": "8e4d4421",
   "metadata": {},
   "outputs": [],
   "source": [
    "import os\n",
    "import pandas as pd\n",
    "import tensorflow as tf\n",
    "\n",
    "import matplotlib.pyplot as plt\n",
    "\n",
    "from google.cloud import aiplatform as vertex_ai\n",
    "from google.cloud.aiplatform_v1beta1 import types\n",
    "from google.cloud import bigquery\n",
    "from google.cloud import exceptions\n",
    "\n",
    "from tensorflow.keras import layers\n",
    "from tensorflow.keras.layers.experimental import preprocessing\n",
    "\n",
    "from tensorflow_io import bigquery as tfio_bq\n"
   ]
  },
  {
   "cell_type": "code",
   "execution_count": 2,
   "id": "85fcd022",
   "metadata": {},
   "outputs": [
    {
     "name": "stdout",
     "output_type": "stream",
     "text": [
      "2.4.1\n"
     ]
    }
   ],
   "source": [
    "print(tf.__version__)\n"
   ]
  },
  {
   "cell_type": "markdown",
   "id": "e41b0488",
   "metadata": {},
   "source": [
    "## Configure GCP settings\n",
    "\n",
    "*Before running the notebook make sure to follow the repo's README file to install the pre-requisites and configure GCP authentication.*"
   ]
  },
  {
   "cell_type": "code",
   "execution_count": 3,
   "id": "f4fc6160",
   "metadata": {},
   "outputs": [],
   "source": [
    "PROJECT = 'jk-mlops-dev'\n",
    "REGION = 'us-central1'\n",
    "STAGING_BUCKET = 'gs://jk-vertex-workshop-bucket'\n",
    "VERTEX_SA = 'vertex-sa@jk-mlops-dev.iam.gserviceaccount.com'"
   ]
  },
  {
   "cell_type": "markdown",
   "id": "01415178",
   "metadata": {},
   "source": [
    "## Initialize Vertex AI SDK"
   ]
  },
  {
   "cell_type": "code",
   "execution_count": 4,
   "id": "8b1e2531",
   "metadata": {},
   "outputs": [],
   "source": [
    "vertex_ai.init(\n",
    "    project=PROJECT,\n",
    "    location=REGION,\n",
    "    staging_bucket=STAGING_BUCKET\n",
    ")"
   ]
  },
  {
   "cell_type": "markdown",
   "id": "fb3778ed",
   "metadata": {},
   "source": [
    "## Create or set Tensorboard"
   ]
  },
  {
   "cell_type": "code",
   "execution_count": 5,
   "id": "2f325f44",
   "metadata": {},
   "outputs": [
    {
     "name": "stdout",
     "output_type": "stream",
     "text": [
      "Using existing Tensorboard: projects/895222332033/locations/us-central1/tensorboards/7964545572260544512\n"
     ]
    }
   ],
   "source": [
    "tb_client = api_client = vertex_ai.initializer.global_config.create_client(\n",
    "        client_class=vertex_ai.utils.TensorboardClientWithOverride, location_override=REGION\n",
    ")\n",
    "parent = f'projects/{PROJECT}/locations/{REGION}'\n",
    "\n",
    "tensorboard_display_name = 'Workshop Tensorboard'\n",
    "tensorboard_ref = None\n",
    "\n",
    "for tensorboard in tb_client.list_tensorboards(parent=parent):\n",
    "    if tensorboard.display_name == tensorboard_display_name:\n",
    "        tensorboard_ref = tensorboard\n",
    "        \n",
    "if not tensorboard_ref:\n",
    "    print('Creating new Tensorboard')\n",
    "    tb_specs = types.Tensorboard(\n",
    "        display_name=tensorboard_display_name,\n",
    "        description=tensorboard_display_name\n",
    "    )\n",
    "    operation = tb_client.create_tensorboard(parent=parent, tensorboard=tb_specs)\n",
    "    tensorboard_ref = operation.result()\n",
    "else:\n",
    "    print('Using existing Tensorboard:', tensorboard_ref.name)"
   ]
  },
  {
   "cell_type": "markdown",
   "id": "d13535f4",
   "metadata": {},
   "source": [
    "## Prepare training data in BigQuery"
   ]
  },
  {
   "cell_type": "markdown",
   "id": "92f65aa8",
   "metadata": {},
   "source": [
    "### Explore Chicago Taxi dataset"
   ]
  },
  {
   "cell_type": "code",
   "execution_count": 6,
   "id": "ddb834ce",
   "metadata": {},
   "outputs": [
    {
     "name": "stderr",
     "output_type": "stream",
     "text": [
      "Query complete after 0.00s: 100%|██████████| 1/1 [00:00<00:00, 1354.75query/s]\n",
      "Downloading: 100%|██████████| 5/5 [00:01<00:00,  4.88rows/s]\n"
     ]
    },
    {
     "data": {
      "text/html": [
       "<div>\n",
       "<style scoped>\n",
       "    .dataframe tbody tr th:only-of-type {\n",
       "        vertical-align: middle;\n",
       "    }\n",
       "\n",
       "    .dataframe tbody tr th {\n",
       "        vertical-align: top;\n",
       "    }\n",
       "\n",
       "    .dataframe thead th {\n",
       "        text-align: right;\n",
       "    }\n",
       "</style>\n",
       "<table border=\"1\" class=\"dataframe\">\n",
       "  <thead>\n",
       "    <tr style=\"text-align: right;\">\n",
       "      <th></th>\n",
       "      <th>unique_key</th>\n",
       "      <th>taxi_id</th>\n",
       "      <th>trip_start_timestamp</th>\n",
       "      <th>trip_end_timestamp</th>\n",
       "      <th>trip_seconds</th>\n",
       "      <th>trip_miles</th>\n",
       "      <th>pickup_census_tract</th>\n",
       "      <th>dropoff_census_tract</th>\n",
       "      <th>pickup_community_area</th>\n",
       "      <th>dropoff_community_area</th>\n",
       "      <th>...</th>\n",
       "      <th>extras</th>\n",
       "      <th>trip_total</th>\n",
       "      <th>payment_type</th>\n",
       "      <th>company</th>\n",
       "      <th>pickup_latitude</th>\n",
       "      <th>pickup_longitude</th>\n",
       "      <th>pickup_location</th>\n",
       "      <th>dropoff_latitude</th>\n",
       "      <th>dropoff_longitude</th>\n",
       "      <th>dropoff_location</th>\n",
       "    </tr>\n",
       "  </thead>\n",
       "  <tbody>\n",
       "    <tr>\n",
       "      <th>0</th>\n",
       "      <td>85a14cc9eea7ab0a4e5e8b4422a90d5a3ab56cd8</td>\n",
       "      <td>a38d173f3d3a362a9622b11153393dced7724f53b9c20c...</td>\n",
       "      <td>2017-05-31 23:00:00+00:00</td>\n",
       "      <td>2017-05-31 23:15:00+00:00</td>\n",
       "      <td>240.0</td>\n",
       "      <td>1.0</td>\n",
       "      <td>NaN</td>\n",
       "      <td>NaN</td>\n",
       "      <td>NaN</td>\n",
       "      <td>NaN</td>\n",
       "      <td>...</td>\n",
       "      <td>0.0</td>\n",
       "      <td>5.75</td>\n",
       "      <td>Cash</td>\n",
       "      <td>Sun Taxi</td>\n",
       "      <td>NaN</td>\n",
       "      <td>NaN</td>\n",
       "      <td>None</td>\n",
       "      <td>NaN</td>\n",
       "      <td>NaN</td>\n",
       "      <td>None</td>\n",
       "    </tr>\n",
       "    <tr>\n",
       "      <th>1</th>\n",
       "      <td>a1ef8a4059feeb5b4f1286631bd7dc196543a192</td>\n",
       "      <td>bd148166cee8cd0aa6477ae76e191ac3ac647166ff5a86...</td>\n",
       "      <td>2013-04-23 19:15:00+00:00</td>\n",
       "      <td>2013-04-23 19:15:00+00:00</td>\n",
       "      <td>120.0</td>\n",
       "      <td>0.0</td>\n",
       "      <td>NaN</td>\n",
       "      <td>NaN</td>\n",
       "      <td>NaN</td>\n",
       "      <td>NaN</td>\n",
       "      <td>...</td>\n",
       "      <td>0.0</td>\n",
       "      <td>44.65</td>\n",
       "      <td>Credit Card</td>\n",
       "      <td>Taxi Affiliation Services</td>\n",
       "      <td>NaN</td>\n",
       "      <td>NaN</td>\n",
       "      <td>None</td>\n",
       "      <td>NaN</td>\n",
       "      <td>NaN</td>\n",
       "      <td>None</td>\n",
       "    </tr>\n",
       "    <tr>\n",
       "      <th>2</th>\n",
       "      <td>9f2a2bf876f29e11b40b717697670c824cea9fb2</td>\n",
       "      <td>d77e1fd49af50352f8edfea8dd8431dc6799973a4e213c...</td>\n",
       "      <td>2013-04-22 11:00:00+00:00</td>\n",
       "      <td>2013-04-22 11:00:00+00:00</td>\n",
       "      <td>NaN</td>\n",
       "      <td>0.0</td>\n",
       "      <td>NaN</td>\n",
       "      <td>NaN</td>\n",
       "      <td>NaN</td>\n",
       "      <td>NaN</td>\n",
       "      <td>...</td>\n",
       "      <td>0.0</td>\n",
       "      <td>5.82</td>\n",
       "      <td>Credit Card</td>\n",
       "      <td>Chicago Elite Cab Corp.</td>\n",
       "      <td>NaN</td>\n",
       "      <td>NaN</td>\n",
       "      <td>None</td>\n",
       "      <td>NaN</td>\n",
       "      <td>NaN</td>\n",
       "      <td>None</td>\n",
       "    </tr>\n",
       "    <tr>\n",
       "      <th>3</th>\n",
       "      <td>2c27b4782da78e813c5a3478348ef155b25abf41</td>\n",
       "      <td>372f8083a96d9948939ad4060d2a968230d66bb02eaa91...</td>\n",
       "      <td>2013-04-20 02:45:00+00:00</td>\n",
       "      <td>2013-04-20 02:45:00+00:00</td>\n",
       "      <td>540.0</td>\n",
       "      <td>0.0</td>\n",
       "      <td>NaN</td>\n",
       "      <td>NaN</td>\n",
       "      <td>NaN</td>\n",
       "      <td>NaN</td>\n",
       "      <td>...</td>\n",
       "      <td>0.0</td>\n",
       "      <td>7.25</td>\n",
       "      <td>Cash</td>\n",
       "      <td>Northwest Management LLC</td>\n",
       "      <td>NaN</td>\n",
       "      <td>NaN</td>\n",
       "      <td>None</td>\n",
       "      <td>NaN</td>\n",
       "      <td>NaN</td>\n",
       "      <td>None</td>\n",
       "    </tr>\n",
       "    <tr>\n",
       "      <th>4</th>\n",
       "      <td>d60fc178fb8e4a72d9b1f37d3ee2373ee3d62e3a</td>\n",
       "      <td>6ea30df39193e64e233482c462ec66c63e8ed60c4c7f59...</td>\n",
       "      <td>2013-04-20 05:15:00+00:00</td>\n",
       "      <td>2013-04-20 05:15:00+00:00</td>\n",
       "      <td>0.0</td>\n",
       "      <td>0.0</td>\n",
       "      <td>NaN</td>\n",
       "      <td>NaN</td>\n",
       "      <td>NaN</td>\n",
       "      <td>NaN</td>\n",
       "      <td>...</td>\n",
       "      <td>0.0</td>\n",
       "      <td>16.38</td>\n",
       "      <td>Credit Card</td>\n",
       "      <td>Chicago Elite Cab Corp.</td>\n",
       "      <td>NaN</td>\n",
       "      <td>NaN</td>\n",
       "      <td>None</td>\n",
       "      <td>NaN</td>\n",
       "      <td>NaN</td>\n",
       "      <td>None</td>\n",
       "    </tr>\n",
       "  </tbody>\n",
       "</table>\n",
       "<p>5 rows × 23 columns</p>\n",
       "</div>"
      ],
      "text/plain": [
       "                                 unique_key  \\\n",
       "0  85a14cc9eea7ab0a4e5e8b4422a90d5a3ab56cd8   \n",
       "1  a1ef8a4059feeb5b4f1286631bd7dc196543a192   \n",
       "2  9f2a2bf876f29e11b40b717697670c824cea9fb2   \n",
       "3  2c27b4782da78e813c5a3478348ef155b25abf41   \n",
       "4  d60fc178fb8e4a72d9b1f37d3ee2373ee3d62e3a   \n",
       "\n",
       "                                             taxi_id  \\\n",
       "0  a38d173f3d3a362a9622b11153393dced7724f53b9c20c...   \n",
       "1  bd148166cee8cd0aa6477ae76e191ac3ac647166ff5a86...   \n",
       "2  d77e1fd49af50352f8edfea8dd8431dc6799973a4e213c...   \n",
       "3  372f8083a96d9948939ad4060d2a968230d66bb02eaa91...   \n",
       "4  6ea30df39193e64e233482c462ec66c63e8ed60c4c7f59...   \n",
       "\n",
       "       trip_start_timestamp        trip_end_timestamp  trip_seconds  \\\n",
       "0 2017-05-31 23:00:00+00:00 2017-05-31 23:15:00+00:00         240.0   \n",
       "1 2013-04-23 19:15:00+00:00 2013-04-23 19:15:00+00:00         120.0   \n",
       "2 2013-04-22 11:00:00+00:00 2013-04-22 11:00:00+00:00           NaN   \n",
       "3 2013-04-20 02:45:00+00:00 2013-04-20 02:45:00+00:00         540.0   \n",
       "4 2013-04-20 05:15:00+00:00 2013-04-20 05:15:00+00:00           0.0   \n",
       "\n",
       "   trip_miles  pickup_census_tract  dropoff_census_tract  \\\n",
       "0         1.0                  NaN                   NaN   \n",
       "1         0.0                  NaN                   NaN   \n",
       "2         0.0                  NaN                   NaN   \n",
       "3         0.0                  NaN                   NaN   \n",
       "4         0.0                  NaN                   NaN   \n",
       "\n",
       "   pickup_community_area  dropoff_community_area  ...  extras  trip_total  \\\n",
       "0                    NaN                     NaN  ...     0.0        5.75   \n",
       "1                    NaN                     NaN  ...     0.0       44.65   \n",
       "2                    NaN                     NaN  ...     0.0        5.82   \n",
       "3                    NaN                     NaN  ...     0.0        7.25   \n",
       "4                    NaN                     NaN  ...     0.0       16.38   \n",
       "\n",
       "   payment_type                    company  pickup_latitude pickup_longitude  \\\n",
       "0          Cash                   Sun Taxi              NaN              NaN   \n",
       "1   Credit Card  Taxi Affiliation Services              NaN              NaN   \n",
       "2   Credit Card    Chicago Elite Cab Corp.              NaN              NaN   \n",
       "3          Cash   Northwest Management LLC              NaN              NaN   \n",
       "4   Credit Card    Chicago Elite Cab Corp.              NaN              NaN   \n",
       "\n",
       "  pickup_location  dropoff_latitude  dropoff_longitude dropoff_location  \n",
       "0            None               NaN                NaN             None  \n",
       "1            None               NaN                NaN             None  \n",
       "2            None               NaN                NaN             None  \n",
       "3            None               NaN                NaN             None  \n",
       "4            None               NaN                NaN             None  \n",
       "\n",
       "[5 rows x 23 columns]"
      ]
     },
     "execution_count": 6,
     "metadata": {},
     "output_type": "execute_result"
    }
   ],
   "source": [
    "%%bigquery \n",
    "\n",
    "SELECT \n",
    "    *\n",
    "FROM `bigquery-public-data.chicago_taxi_trips.taxi_trips`\n",
    "LIMIT 5"
   ]
  },
  {
   "cell_type": "code",
   "execution_count": 7,
   "id": "eb607a34",
   "metadata": {},
   "outputs": [
    {
     "name": "stderr",
     "output_type": "stream",
     "text": [
      "Query complete after 0.00s: 100%|██████████| 1/1 [00:00<00:00, 1141.93query/s]\n",
      "Downloading: 100%|██████████| 7/7 [00:00<00:00,  7.03rows/s]\n"
     ]
    }
   ],
   "source": [
    "%%bigquery data\n",
    "\n",
    "SELECT \n",
    "    CAST(EXTRACT(DAYOFWEEK FROM trip_start_timestamp) AS string) AS trip_dayofweek, \n",
    "    FORMAT_DATE('%A',cast(trip_start_timestamp as date)) AS trip_dayname,\n",
    "    COUNT(*) as trip_count,\n",
    "FROM `bigquery-public-data.chicago_taxi_trips.taxi_trips`\n",
    "WHERE\n",
    "    EXTRACT(YEAR FROM trip_start_timestamp) = 2015 \n",
    "GROUP BY\n",
    "    trip_dayofweek,\n",
    "    trip_dayname\n",
    "ORDER BY\n",
    "    trip_dayofweek"
   ]
  },
  {
   "cell_type": "code",
   "execution_count": 8,
   "id": "91f1b7df",
   "metadata": {},
   "outputs": [
    {
     "data": {
      "text/html": [
       "<div>\n",
       "<style scoped>\n",
       "    .dataframe tbody tr th:only-of-type {\n",
       "        vertical-align: middle;\n",
       "    }\n",
       "\n",
       "    .dataframe tbody tr th {\n",
       "        vertical-align: top;\n",
       "    }\n",
       "\n",
       "    .dataframe thead th {\n",
       "        text-align: right;\n",
       "    }\n",
       "</style>\n",
       "<table border=\"1\" class=\"dataframe\">\n",
       "  <thead>\n",
       "    <tr style=\"text-align: right;\">\n",
       "      <th></th>\n",
       "      <th>trip_dayofweek</th>\n",
       "      <th>trip_dayname</th>\n",
       "      <th>trip_count</th>\n",
       "    </tr>\n",
       "  </thead>\n",
       "  <tbody>\n",
       "    <tr>\n",
       "      <th>0</th>\n",
       "      <td>1</td>\n",
       "      <td>Sunday</td>\n",
       "      <td>4141154</td>\n",
       "    </tr>\n",
       "    <tr>\n",
       "      <th>1</th>\n",
       "      <td>2</td>\n",
       "      <td>Monday</td>\n",
       "      <td>4105900</td>\n",
       "    </tr>\n",
       "    <tr>\n",
       "      <th>2</th>\n",
       "      <td>3</td>\n",
       "      <td>Tuesday</td>\n",
       "      <td>4378805</td>\n",
       "    </tr>\n",
       "    <tr>\n",
       "      <th>3</th>\n",
       "      <td>4</td>\n",
       "      <td>Wednesday</td>\n",
       "      <td>4542810</td>\n",
       "    </tr>\n",
       "    <tr>\n",
       "      <th>4</th>\n",
       "      <td>5</td>\n",
       "      <td>Thursday</td>\n",
       "      <td>4918190</td>\n",
       "    </tr>\n",
       "    <tr>\n",
       "      <th>5</th>\n",
       "      <td>6</td>\n",
       "      <td>Friday</td>\n",
       "      <td>5289830</td>\n",
       "    </tr>\n",
       "    <tr>\n",
       "      <th>6</th>\n",
       "      <td>7</td>\n",
       "      <td>Saturday</td>\n",
       "      <td>5009186</td>\n",
       "    </tr>\n",
       "  </tbody>\n",
       "</table>\n",
       "</div>"
      ],
      "text/plain": [
       "  trip_dayofweek trip_dayname  trip_count\n",
       "0              1       Sunday     4141154\n",
       "1              2       Monday     4105900\n",
       "2              3      Tuesday     4378805\n",
       "3              4    Wednesday     4542810\n",
       "4              5     Thursday     4918190\n",
       "5              6       Friday     5289830\n",
       "6              7     Saturday     5009186"
      ]
     },
     "execution_count": 8,
     "metadata": {},
     "output_type": "execute_result"
    }
   ],
   "source": [
    "data"
   ]
  },
  {
   "cell_type": "code",
   "execution_count": 9,
   "id": "d070e5e5",
   "metadata": {},
   "outputs": [
    {
     "data": {
      "text/plain": [
       "<AxesSubplot:xlabel='trip_dayname'>"
      ]
     },
     "execution_count": 9,
     "metadata": {},
     "output_type": "execute_result"
    },
    {
     "data": {
      "image/png": "[encoded data removed]",
      "text/plain": [
       "<Figure size 432x288 with 1 Axes>"
      ]
     },
     "metadata": {
      "needs_background": "light"
     },
     "output_type": "display_data"
    }
   ],
   "source": [
    "data.plot(kind='bar', x='trip_dayname', y='trip_count')"
   ]
  },
  {
   "cell_type": "markdown",
   "id": "c0d89f5b",
   "metadata": {},
   "source": [
    "### Creating training and validation splits"
   ]
  },
  {
   "cell_type": "code",
   "execution_count": 10,
   "id": "1c2399c1",
   "metadata": {},
   "outputs": [],
   "source": [
    "BQ_DATASET_NAME = 'training_dataset' # Change to your BQ datasent name.\n",
    "BQ_TABLE_NAME = 'training_table'\n",
    "BQ_LOCATION = 'US'"
   ]
  },
  {
   "cell_type": "markdown",
   "id": "8c624c83",
   "metadata": {},
   "source": [
    "#### Create a training dataset"
   ]
  },
  {
   "cell_type": "code",
   "execution_count": 11,
   "id": "a0683d48",
   "metadata": {},
   "outputs": [
    {
     "name": "stdout",
     "output_type": "stream",
     "text": [
      "Dataset jk-mlops-dev.training_dataset already exists\n"
     ]
    }
   ],
   "source": [
    "client = bigquery.Client()\n",
    "\n",
    "dataset_id = f'{PROJECT}.{BQ_DATASET_NAME}'\n",
    "dataset = bigquery.Dataset(dataset_id)\n",
    "dataset.location = BQ_LOCATION\n",
    "\n",
    "try:\n",
    "    dataset = client.create_dataset(dataset, timeout=30)\n",
    "    print('Created dataset: ', dataset_id)\n",
    "except exceptions.Conflict:\n",
    "    print('Dataset {} already exists'.format(dataset_id))"
   ]
  },
  {
   "cell_type": "markdown",
   "id": "a9e8f47f",
   "metadata": {},
   "source": [
    "#### Create a training table"
   ]
  },
  {
   "cell_type": "code",
   "execution_count": 12,
   "id": "18a8eeda",
   "metadata": {},
   "outputs": [],
   "source": [
    "sample_size = 1000000\n",
    "year = 2020\n",
    "\n",
    "sql_script = '''\n",
    "CREATE OR REPLACE TABLE `@PROJECT.@DATASET.@TABLE` \n",
    "AS (\n",
    "    WITH\n",
    "      taxitrips AS (\n",
    "      SELECT\n",
    "        FORMAT_DATETIME('%Y-%d-%m', trip_start_timestamp) AS date,\n",
    "        trip_start_timestamp,\n",
    "        trip_seconds,\n",
    "        trip_miles,\n",
    "        payment_type,\n",
    "        pickup_longitude,\n",
    "        pickup_latitude,\n",
    "        dropoff_longitude,\n",
    "        dropoff_latitude,\n",
    "        tips,\n",
    "        fare\n",
    "      FROM\n",
    "        `bigquery-public-data.chicago_taxi_trips.taxi_trips`\n",
    "      WHERE 1=1 \n",
    "      AND pickup_longitude IS NOT NULL\n",
    "      AND pickup_latitude IS NOT NULL\n",
    "      AND dropoff_longitude IS NOT NULL\n",
    "      AND dropoff_latitude IS NOT NULL\n",
    "      AND trip_miles > 0\n",
    "      AND trip_seconds > 0\n",
    "      AND fare > 0\n",
    "      AND EXTRACT(YEAR FROM trip_start_timestamp) = @YEAR\n",
    "    )\n",
    "\n",
    "    SELECT\n",
    "      trip_start_timestamp,\n",
    "      EXTRACT(MONTH from trip_start_timestamp) as trip_month,\n",
    "      EXTRACT(DAY from trip_start_timestamp) as trip_day,\n",
    "      EXTRACT(DAYOFWEEK from trip_start_timestamp) as trip_day_of_week,\n",
    "      EXTRACT(HOUR from trip_start_timestamp) as trip_hour,\n",
    "      trip_seconds,\n",
    "      trip_miles,\n",
    "      payment_type,\n",
    "      ST_AsText(\n",
    "          ST_SnapToGrid(ST_GeogPoint(pickup_longitude, pickup_latitude), 0.1)\n",
    "      ) AS pickup_grid,\n",
    "      ST_AsText(\n",
    "          ST_SnapToGrid(ST_GeogPoint(dropoff_longitude, dropoff_latitude), 0.1)\n",
    "      ) AS dropoff_grid,\n",
    "      ST_Distance(\n",
    "          ST_GeogPoint(pickup_longitude, pickup_latitude), \n",
    "          ST_GeogPoint(dropoff_longitude, dropoff_latitude)\n",
    "      ) AS euclidean,\n",
    "      IF((tips/fare >= 0.2), 1, 0) AS tip_bin,\n",
    "      CASE (ABS(MOD(FARM_FINGERPRINT(date),10))) \n",
    "          WHEN 9 THEN 'testing'\n",
    "          WHEN 8 THEN 'validation'\n",
    "          ELSE 'training' END AS data_split\n",
    "    FROM\n",
    "      taxitrips\n",
    "    LIMIT @LIMIT\n",
    ")\n",
    "'''\n",
    "\n",
    "sql_script = sql_script.replace(\n",
    "    '@PROJECT', PROJECT).replace(\n",
    "    '@DATASET', BQ_DATASET_NAME).replace(\n",
    "    '@TABLE', BQ_TABLE_NAME).replace(\n",
    "    '@YEAR', str(year)).replace(\n",
    "    '@LIMIT', str(sample_size))\n"
   ]
  },
  {
   "cell_type": "code",
   "execution_count": 13,
   "id": "2204509d",
   "metadata": {},
   "outputs": [
    {
     "data": {
      "text/plain": [
       "<google.cloud.bigquery.table._EmptyRowIterator at 0x7f7bce759d10>"
      ]
     },
     "execution_count": 13,
     "metadata": {},
     "output_type": "execute_result"
    }
   ],
   "source": [
    "job = client.query(sql_script)\n",
    "job.result()"
   ]
  },
  {
   "cell_type": "code",
   "execution_count": 14,
   "id": "8f925991",
   "metadata": {},
   "outputs": [],
   "source": [
    "sql_script = f'''\n",
    "SELECT * \n",
    "FROM {PROJECT}.{BQ_DATASET_NAME}.{BQ_TABLE_NAME} \n",
    "WHERE data_split='training'\n",
    "'''\n",
    "training_data = client.query(sql_script).result().to_dataframe()"
   ]
  },
  {
   "cell_type": "code",
   "execution_count": 15,
   "id": "44a89745",
   "metadata": {},
   "outputs": [
    {
     "data": {
      "text/html": [
       "<div>\n",
       "<style scoped>\n",
       "    .dataframe tbody tr th:only-of-type {\n",
       "        vertical-align: middle;\n",
       "    }\n",
       "\n",
       "    .dataframe tbody tr th {\n",
       "        vertical-align: top;\n",
       "    }\n",
       "\n",
       "    .dataframe thead th {\n",
       "        text-align: right;\n",
       "    }\n",
       "</style>\n",
       "<table border=\"1\" class=\"dataframe\">\n",
       "  <thead>\n",
       "    <tr style=\"text-align: right;\">\n",
       "      <th></th>\n",
       "      <th>trip_start_timestamp</th>\n",
       "      <th>trip_month</th>\n",
       "      <th>trip_day</th>\n",
       "      <th>trip_day_of_week</th>\n",
       "      <th>trip_hour</th>\n",
       "      <th>trip_seconds</th>\n",
       "      <th>trip_miles</th>\n",
       "      <th>payment_type</th>\n",
       "      <th>pickup_grid</th>\n",
       "      <th>dropoff_grid</th>\n",
       "      <th>euclidean</th>\n",
       "      <th>tip_bin</th>\n",
       "      <th>data_split</th>\n",
       "    </tr>\n",
       "  </thead>\n",
       "  <tbody>\n",
       "    <tr>\n",
       "      <th>0</th>\n",
       "      <td>2020-06-19 00:00:00+00:00</td>\n",
       "      <td>6</td>\n",
       "      <td>19</td>\n",
       "      <td>6</td>\n",
       "      <td>0</td>\n",
       "      <td>1200</td>\n",
       "      <td>4.1</td>\n",
       "      <td>Cash</td>\n",
       "      <td>POINT(-87.6 41.8)</td>\n",
       "      <td>POINT(-87.7 41.9)</td>\n",
       "      <td>2210.049904</td>\n",
       "      <td>0</td>\n",
       "      <td>training</td>\n",
       "    </tr>\n",
       "    <tr>\n",
       "      <th>1</th>\n",
       "      <td>2020-06-19 00:00:00+00:00</td>\n",
       "      <td>6</td>\n",
       "      <td>19</td>\n",
       "      <td>6</td>\n",
       "      <td>0</td>\n",
       "      <td>240</td>\n",
       "      <td>0.9</td>\n",
       "      <td>Cash</td>\n",
       "      <td>POINT(-87.7 42)</td>\n",
       "      <td>POINT(-87.7 42)</td>\n",
       "      <td>2406.040979</td>\n",
       "      <td>0</td>\n",
       "      <td>training</td>\n",
       "    </tr>\n",
       "    <tr>\n",
       "      <th>2</th>\n",
       "      <td>2020-06-19 00:00:00+00:00</td>\n",
       "      <td>6</td>\n",
       "      <td>19</td>\n",
       "      <td>6</td>\n",
       "      <td>0</td>\n",
       "      <td>660</td>\n",
       "      <td>1.1</td>\n",
       "      <td>Cash</td>\n",
       "      <td>POINT(-87.7 41.9)</td>\n",
       "      <td>POINT(-87.6 41.9)</td>\n",
       "      <td>3788.783830</td>\n",
       "      <td>0</td>\n",
       "      <td>training</td>\n",
       "    </tr>\n",
       "  </tbody>\n",
       "</table>\n",
       "</div>"
      ],
      "text/plain": [
       "       trip_start_timestamp  trip_month  trip_day  trip_day_of_week  \\\n",
       "0 2020-06-19 00:00:00+00:00           6        19                 6   \n",
       "1 2020-06-19 00:00:00+00:00           6        19                 6   \n",
       "2 2020-06-19 00:00:00+00:00           6        19                 6   \n",
       "\n",
       "   trip_hour  trip_seconds  trip_miles payment_type        pickup_grid  \\\n",
       "0          0          1200         4.1         Cash  POINT(-87.6 41.8)   \n",
       "1          0           240         0.9         Cash    POINT(-87.7 42)   \n",
       "2          0           660         1.1         Cash  POINT(-87.7 41.9)   \n",
       "\n",
       "        dropoff_grid    euclidean  tip_bin data_split  \n",
       "0  POINT(-87.7 41.9)  2210.049904        0   training  \n",
       "1    POINT(-87.7 42)  2406.040979        0   training  \n",
       "2  POINT(-87.6 41.9)  3788.783830        0   training  "
      ]
     },
     "execution_count": 15,
     "metadata": {},
     "output_type": "execute_result"
    }
   ],
   "source": [
    "training_data.head(3)"
   ]
  },
  {
   "cell_type": "code",
   "execution_count": 16,
   "id": "56b4c2f4",
   "metadata": {},
   "outputs": [
    {
     "data": {
      "text/html": [
       "<div>\n",
       "<style scoped>\n",
       "    .dataframe tbody tr th:only-of-type {\n",
       "        vertical-align: middle;\n",
       "    }\n",
       "\n",
       "    .dataframe tbody tr th {\n",
       "        vertical-align: top;\n",
       "    }\n",
       "\n",
       "    .dataframe thead th {\n",
       "        text-align: right;\n",
       "    }\n",
       "</style>\n",
       "<table border=\"1\" class=\"dataframe\">\n",
       "  <thead>\n",
       "    <tr style=\"text-align: right;\">\n",
       "      <th></th>\n",
       "      <th>0</th>\n",
       "    </tr>\n",
       "  </thead>\n",
       "  <tbody>\n",
       "    <tr>\n",
       "      <th>payment_type_vocab</th>\n",
       "      <td>[Cash, Prcard, Credit Card, Unknown, Mobile, D...</td>\n",
       "    </tr>\n",
       "    <tr>\n",
       "      <th>pickup_grid_vocab</th>\n",
       "      <td>[POINT(-87.6 41.8), POINT(-87.7 42), POINT(-87...</td>\n",
       "    </tr>\n",
       "    <tr>\n",
       "      <th>dropoff_grid_vocab</th>\n",
       "      <td>[POINT(-87.7 41.9), POINT(-87.7 42), POINT(-87...</td>\n",
       "    </tr>\n",
       "    <tr>\n",
       "      <th>trip_seconds_stats</th>\n",
       "      <td>{'_field_1': 873.2935509999938, '_field_2': 21...</td>\n",
       "    </tr>\n",
       "  </tbody>\n",
       "</table>\n",
       "</div>"
      ],
      "text/plain": [
       "                                                                    0\n",
       "payment_type_vocab  [Cash, Prcard, Credit Card, Unknown, Mobile, D...\n",
       "pickup_grid_vocab   [POINT(-87.6 41.8), POINT(-87.7 42), POINT(-87...\n",
       "dropoff_grid_vocab  [POINT(-87.7 41.9), POINT(-87.7 42), POINT(-87...\n",
       "trip_seconds_stats  {'_field_1': 873.2935509999938, '_field_2': 21..."
      ]
     },
     "execution_count": 16,
     "metadata": {},
     "output_type": "execute_result"
    }
   ],
   "source": [
    "sql_script = f'''\n",
    "SELECT ARRAY(SELECT DISTINCT payment_type FROM {PROJECT}.{BQ_DATASET_NAME}.{BQ_TABLE_NAME}) as payment_type_vocab,\n",
    "       ARRAY(SELECT DISTINCT pickup_grid FROM {PROJECT}.{BQ_DATASET_NAME}.{BQ_TABLE_NAME}) as pickup_grid_vocab,\n",
    "       ARRAY(SELECT DISTINCT dropoff_grid FROM {PROJECT}.{BQ_DATASET_NAME}.{BQ_TABLE_NAME}) as dropoff_grid_vocab,\n",
    "       (SELECT AS STRUCT AVG(trip_seconds), VARIANCE(trip_seconds) FROM {PROJECT}.{BQ_DATASET_NAME}.{BQ_TABLE_NAME}) as trip_seconds_stats,\n",
    "'''\n",
    "\n",
    "training_data_stats = client.query(sql_script).result().to_dataframe()\n",
    "training_data_stats.T"
   ]
  },
  {
   "cell_type": "code",
   "execution_count": 17,
   "id": "acde8467",
   "metadata": {},
   "outputs": [],
   "source": [
    "sql_script = f'''\n",
    "SELECT * EXCEPT (trip_start_timestamp, data_split)\n",
    "FROM {PROJECT}.{BQ_DATASET_NAME}.{BQ_TABLE_NAME} \n",
    "'''\n",
    "sample_data = client.query(sql_script).result().to_dataframe()"
   ]
  },
  {
   "cell_type": "code",
   "execution_count": 18,
   "id": "ac212192",
   "metadata": {},
   "outputs": [
    {
     "data": {
      "text/html": [
       "<div>\n",
       "<style scoped>\n",
       "    .dataframe tbody tr th:only-of-type {\n",
       "        vertical-align: middle;\n",
       "    }\n",
       "\n",
       "    .dataframe tbody tr th {\n",
       "        vertical-align: top;\n",
       "    }\n",
       "\n",
       "    .dataframe thead th {\n",
       "        text-align: right;\n",
       "    }\n",
       "</style>\n",
       "<table border=\"1\" class=\"dataframe\">\n",
       "  <thead>\n",
       "    <tr style=\"text-align: right;\">\n",
       "      <th></th>\n",
       "      <th>0</th>\n",
       "      <th>1</th>\n",
       "      <th>2</th>\n",
       "      <th>3</th>\n",
       "      <th>4</th>\n",
       "    </tr>\n",
       "  </thead>\n",
       "  <tbody>\n",
       "    <tr>\n",
       "      <th>trip_month</th>\n",
       "      <td>6</td>\n",
       "      <td>6</td>\n",
       "      <td>6</td>\n",
       "      <td>6</td>\n",
       "      <td>6</td>\n",
       "    </tr>\n",
       "    <tr>\n",
       "      <th>trip_day</th>\n",
       "      <td>19</td>\n",
       "      <td>19</td>\n",
       "      <td>19</td>\n",
       "      <td>19</td>\n",
       "      <td>19</td>\n",
       "    </tr>\n",
       "    <tr>\n",
       "      <th>trip_day_of_week</th>\n",
       "      <td>6</td>\n",
       "      <td>6</td>\n",
       "      <td>6</td>\n",
       "      <td>6</td>\n",
       "      <td>6</td>\n",
       "    </tr>\n",
       "    <tr>\n",
       "      <th>trip_hour</th>\n",
       "      <td>0</td>\n",
       "      <td>0</td>\n",
       "      <td>0</td>\n",
       "      <td>0</td>\n",
       "      <td>0</td>\n",
       "    </tr>\n",
       "    <tr>\n",
       "      <th>trip_seconds</th>\n",
       "      <td>1200</td>\n",
       "      <td>240</td>\n",
       "      <td>660</td>\n",
       "      <td>1780</td>\n",
       "      <td>480</td>\n",
       "    </tr>\n",
       "    <tr>\n",
       "      <th>trip_miles</th>\n",
       "      <td>4.1</td>\n",
       "      <td>0.9</td>\n",
       "      <td>1.1</td>\n",
       "      <td>9.64</td>\n",
       "      <td>1.5</td>\n",
       "    </tr>\n",
       "    <tr>\n",
       "      <th>payment_type</th>\n",
       "      <td>Cash</td>\n",
       "      <td>Cash</td>\n",
       "      <td>Cash</td>\n",
       "      <td>Prcard</td>\n",
       "      <td>Cash</td>\n",
       "    </tr>\n",
       "    <tr>\n",
       "      <th>pickup_grid</th>\n",
       "      <td>POINT(-87.6 41.8)</td>\n",
       "      <td>POINT(-87.7 42)</td>\n",
       "      <td>POINT(-87.7 41.9)</td>\n",
       "      <td>POINT(-87.7 41.8)</td>\n",
       "      <td>POINT(-87.6 41.9)</td>\n",
       "    </tr>\n",
       "    <tr>\n",
       "      <th>dropoff_grid</th>\n",
       "      <td>POINT(-87.7 41.9)</td>\n",
       "      <td>POINT(-87.7 42)</td>\n",
       "      <td>POINT(-87.6 41.9)</td>\n",
       "      <td>POINT(-87.6 41.7)</td>\n",
       "      <td>POINT(-87.6 41.9)</td>\n",
       "    </tr>\n",
       "    <tr>\n",
       "      <th>euclidean</th>\n",
       "      <td>2210.049904</td>\n",
       "      <td>2406.040979</td>\n",
       "      <td>3788.78383</td>\n",
       "      <td>12414.729032</td>\n",
       "      <td>0.0</td>\n",
       "    </tr>\n",
       "    <tr>\n",
       "      <th>tip_bin</th>\n",
       "      <td>0</td>\n",
       "      <td>0</td>\n",
       "      <td>0</td>\n",
       "      <td>0</td>\n",
       "      <td>0</td>\n",
       "    </tr>\n",
       "  </tbody>\n",
       "</table>\n",
       "</div>"
      ],
      "text/plain": [
       "                                  0                1                  2  \\\n",
       "trip_month                        6                6                  6   \n",
       "trip_day                         19               19                 19   \n",
       "trip_day_of_week                  6                6                  6   \n",
       "trip_hour                         0                0                  0   \n",
       "trip_seconds                   1200              240                660   \n",
       "trip_miles                      4.1              0.9                1.1   \n",
       "payment_type                   Cash             Cash               Cash   \n",
       "pickup_grid       POINT(-87.6 41.8)  POINT(-87.7 42)  POINT(-87.7 41.9)   \n",
       "dropoff_grid      POINT(-87.7 41.9)  POINT(-87.7 42)  POINT(-87.6 41.9)   \n",
       "euclidean               2210.049904      2406.040979         3788.78383   \n",
       "tip_bin                           0                0                  0   \n",
       "\n",
       "                                  3                  4  \n",
       "trip_month                        6                  6  \n",
       "trip_day                         19                 19  \n",
       "trip_day_of_week                  6                  6  \n",
       "trip_hour                         0                  0  \n",
       "trip_seconds                   1780                480  \n",
       "trip_miles                     9.64                1.5  \n",
       "payment_type                 Prcard               Cash  \n",
       "pickup_grid       POINT(-87.7 41.8)  POINT(-87.6 41.9)  \n",
       "dropoff_grid      POINT(-87.6 41.7)  POINT(-87.6 41.9)  \n",
       "euclidean              12414.729032                0.0  \n",
       "tip_bin                           0                  0  "
      ]
     },
     "execution_count": 18,
     "metadata": {},
     "output_type": "execute_result"
    }
   ],
   "source": [
    "sample_data.head().T"
   ]
  },
  {
   "cell_type": "code",
   "execution_count": 19,
   "id": "9c2655da",
   "metadata": {},
   "outputs": [
    {
     "data": {
      "text/plain": [
       "0    638303\n",
       "1    361697\n",
       "Name: tip_bin, dtype: int64"
      ]
     },
     "execution_count": 19,
     "metadata": {},
     "output_type": "execute_result"
    }
   ],
   "source": [
    "sample_data.tip_bin.value_counts()"
   ]
  },
  {
   "cell_type": "code",
   "execution_count": 20,
   "id": "9009dd54",
   "metadata": {},
   "outputs": [
    {
     "data": {
      "text/plain": [
       "<AxesSubplot:>"
      ]
     },
     "execution_count": 20,
     "metadata": {},
     "output_type": "execute_result"
    },
    {
     "data": {
      "image/png": "[encoded data removed]",
      "text/plain": [
       "<Figure size 432x288 with 1 Axes>"
      ]
     },
     "metadata": {
      "needs_background": "light"
     },
     "output_type": "display_data"
    }
   ],
   "source": [
    "sample_data.euclidean.hist()"
   ]
  },
  {
   "cell_type": "code",
   "execution_count": 21,
   "id": "20cc0f09",
   "metadata": {},
   "outputs": [],
   "source": [
    "sql_script = f'''\n",
    "SELECT * \n",
    "FROM {PROJECT}.{BQ_DATASET_NAME}.{BQ_TABLE_NAME} \n",
    "WHERE data_split='training'\n",
    "'''\n",
    "training_data = client.query(sql_script).result().to_dataframe()"
   ]
  },
  {
   "cell_type": "code",
   "execution_count": 22,
   "id": "5dd7b821",
   "metadata": {},
   "outputs": [
    {
     "data": {
      "text/plain": [
       "training    705690\n",
       "Name: data_split, dtype: int64"
      ]
     },
     "execution_count": 22,
     "metadata": {},
     "output_type": "execute_result"
    }
   ],
   "source": [
    "training_data.data_split.value_counts()"
   ]
  },
  {
   "cell_type": "code",
   "execution_count": 23,
   "id": "fc1e4844",
   "metadata": {},
   "outputs": [
    {
     "data": {
      "text/plain": [
       "3.889216908275587"
      ]
     },
     "execution_count": 23,
     "metadata": {},
     "output_type": "execute_result"
    }
   ],
   "source": [
    "training_data.trip_miles.mean()"
   ]
  },
  {
   "cell_type": "markdown",
   "id": "6e46f5f9",
   "metadata": {},
   "source": [
    "## Prepare the model"
   ]
  },
  {
   "cell_type": "code",
   "execution_count": 24,
   "id": "43d263bd",
   "metadata": {},
   "outputs": [],
   "source": [
    "FEATURES = {\n",
    "    \"tip_bin\": (\"categorical\", tf.int64),\n",
    "    \"trip_month\": (\"categorical\", tf.int64),\n",
    "    \"trip_day\": (\"categorical\", tf.int64),\n",
    "    \"trip_day_of_week\": (\"categorical\", tf.int64),\n",
    "    \"trip_hour\": (\"categorical\", tf.int64),\n",
    "    \"payment_type\": (\"categorical\", tf.string),\n",
    "    \"pickup_grid\": (\"categorical\", tf.string),\n",
    "    \"dropoff_grid\": (\"categorical\", tf.string),\n",
    "    \"euclidean\": (\"numeric\", tf.double),\n",
    "    \"trip_seconds\": (\"numeric\", tf.int64),\n",
    "    \"trip_miles\": (\"numeric\", tf.double),\n",
    "}\n",
    "\n",
    "TARGET_FEATURE_NAME = \"tip_bin\"\n",
    "\n",
    "TARGET_LABELS = [\"tip<20%\", \"tip>=20%\"]\n"
   ]
  },
  {
   "cell_type": "code",
   "execution_count": 48,
   "id": "d001596d",
   "metadata": {},
   "outputs": [
    {
     "data": {
      "text/plain": [
       "<tensorflow.python.keras.layers.preprocessing.integer_lookup.IntegerLookup at 0x7f7b97255410>"
      ]
     },
     "execution_count": 48,
     "metadata": {},
     "output_type": "execute_result"
    }
   ],
   "source": [
    "max_tokens = None\n",
    "\n",
    "preprocessing.IntegerLookup(max_values=max_tokens)"
   ]
  },
  {
   "cell_type": "code",
   "execution_count": null,
   "id": "48591c72",
   "metadata": {},
   "outputs": [],
   "source": []
  },
  {
   "cell_type": "code",
   "execution_count": 54,
   "id": "f44a6179",
   "metadata": {},
   "outputs": [],
   "source": [
    "def get_bq_dataset(project_id, dataset_id, table_id, selected_fields, batch_size):\n",
    "\n",
    "    client = tfio_bq.BigQueryClient()\n",
    "    parent = f'projects/{project_id}'\n",
    "\n",
    "    read_session = client.read_session(\n",
    "        parent=parent,\n",
    "        project_id=project_id,\n",
    "        table_id=table_id,\n",
    "        dataset_id=dataset_id,\n",
    "        selected_fields=selected_fields,\n",
    "    )\n",
    "\n",
    "    dataset = read_session.parallel_read_rows().batch(batch_size)\n",
    "    \n",
    "    return dataset\n",
    "\n",
    "\n",
    "def get_category_encoding_layer(name, dataset, dtype):\n",
    "    \"\"\"Creates a CategoryEncoding layer for a given feature.\"\"\"\n",
    "\n",
    "    if dtype == tf.string:\n",
    "      index = preprocessing.StringLookup()\n",
    "    else:\n",
    "      index = preprocessing.IntegerLookup()\n",
    "\n",
    "    feature_ds = dataset.map(lambda x: x[name])\n",
    "    index.adapt(feature_ds)\n",
    "    \n",
    "    print(index.get_vocabulary())\n",
    "    encoder = preprocessing.CategoryEncoding(max_tokens=index.vocab_size())\n",
    "\n",
    "    return lambda feature: encoder(index(feature))\n",
    "\n",
    "\n",
    "def get_normalization_layer(name, dataset):\n",
    "  \"\"\"\"Creates a Normalization layer for a given feature.\"\"\"\n",
    "  normalizer = preprocessing.Normalization()\n",
    "\n",
    "  feature_ds = dataset.map(lambda x: x[name])\n",
    "  normalizer.adapt(feature_ds)\n",
    "\n",
    "  return normalizer\n",
    "\n",
    "\n",
    "def create_model(dataset, units, dropout_ratio):\n",
    "    \"\"\"Creates a binary classifier for Chicago Taxi tip prediction task.\"\"\"\n",
    "    \n",
    "    all_inputs = []\n",
    "    encoded_features = []\n",
    "    for feature_name, feature_info in FEATURES.items():\n",
    "        col = tf.keras.Input(shape=(1,), name=feature_name, dtype=feature_info[1])\n",
    "        if feature_info[0] == 'categorical':\n",
    "            \n",
    "            encoding_layer = get_category_encoding_layer(feature_name, \n",
    "                                                         dataset,\n",
    "                                                         feature_info[1])\n",
    "        else:\n",
    "            encoding_layer = get_normalization_layer(feature_name,\n",
    "                                                     dataset) \n",
    "        encoded_col = encoding_layer(col)\n",
    "        all_inputs.append(col)\n",
    "        encoded_features.append(encoded_col)\n",
    "        \n",
    "    all_features = tf.keras.layers.concatenate(encoded_features)\n",
    "    \n",
    "    x = tf.keras.layers.Dense(units, activation=\"relu\")(all_features)\n",
    "    x = tf.keras.layers.Dropout(dropout_ratio)(x)\n",
    "    output = tf.keras.layers.Dense(1)(x)\n",
    "    model = tf.keras.Model(all_inputs, output)\n",
    "    \n",
    "    return model\n",
    "            "
   ]
  },
  {
   "cell_type": "code",
   "execution_count": 55,
   "id": "23a2b463",
   "metadata": {},
   "outputs": [
    {
     "name": "stdout",
     "output_type": "stream",
     "text": [
      "[0, -1, 1]\n",
      "[0, -1, 2, 6, 5, 10, 8, 9, 12, 4, 1, 7, 11, 3]\n",
      "[0, -1, 20, 13, 14, 21, 19, 27, 28, 6, 12, 26, 5, 25, 7, 18, 11, 4, 24, 10, 3, 15, 17, 22, 16, 8, 23, 1, 9, 2, 30, 29, 31]\n",
      "[0, -1, 5, 6, 4, 3, 2, 7, 1]\n",
      "[0, -1, 17, 18, 16, 15, 13, 14, 19, 12, 11, 9, 10, 8, 20, 21, 22, 7, 23, 6, 1, 2, 3, 5, 4]\n",
      "['', '[UNK]', 'Credit Card', 'Cash', 'Prcard', 'Unknown', 'Mobile', 'No Charge', 'Dispute', 'Prepaid']\n",
      "['', '[UNK]', 'POINT(-87.6 41.9)', 'POINT(-87.7 41.9)', 'POINT(-87.9 42)', 'POINT(-87.7 42)', 'POINT(-87.6 41.8)', 'POINT(-87.8 41.8)', 'POINT(-87.6 41.7)', 'POINT(-87.8 42)', 'POINT(-87.7 41.8)', 'POINT(-87.8 41.9)', 'POINT(-87.7 41.7)', 'POINT(-87.6 42)', 'POINT(-87.5 41.7)']\n",
      "['', '[UNK]', 'POINT(-87.6 41.9)', 'POINT(-87.7 41.9)', 'POINT(-87.7 42)', 'POINT(-87.6 41.8)', 'POINT(-87.9 42)', 'POINT(-87.6 41.7)', 'POINT(-87.8 42)', 'POINT(-87.8 41.8)', 'POINT(-87.7 41.8)', 'POINT(-87.8 41.9)', 'POINT(-87.7 41.7)', 'POINT(-87.6 42)', 'POINT(-87.5 41.7)']\n"
     ]
    },
    {
     "data": {
      "image/png": "[encoded data removed]",
      "text/plain": [
       "<IPython.core.display.Image object>"
      ]
     },
     "execution_count": 55,
     "metadata": {},
     "output_type": "execute_result"
    }
   ],
   "source": [
    "model = create_model(dataset, 32, 0.5)\n",
    "tf.keras.utils.plot_model(model, show_shapes=True, rankdir=\"LR\")"
   ]
  },
  {
   "cell_type": "code",
   "execution_count": null,
   "id": "ccf006d8",
   "metadata": {},
   "outputs": [],
   "source": []
  },
  {
   "cell_type": "code",
   "execution_count": 38,
   "id": "1d1e382d",
   "metadata": {},
   "outputs": [],
   "source": [
    "selected_fields = {key: {'output_type': value[1]} for key, value in FEATURES.items()}\n",
    "\n",
    "dataset = get_bq_dataset(PROJECT, BQ_DATASET_NAME, BQ_TABLE_NAME, selected_fields, 32)"
   ]
  },
  {
   "cell_type": "code",
   "execution_count": null,
   "id": "8d18fc7b",
   "metadata": {},
   "outputs": [],
   "source": []
  },
  {
   "cell_type": "code",
   "execution_count": null,
   "id": "669a6b9f",
   "metadata": {},
   "outputs": [],
   "source": []
  },
  {
   "cell_type": "code",
   "execution_count": null,
   "id": "f2ff88f4",
   "metadata": {},
   "outputs": [],
   "source": []
  },
  {
   "cell_type": "markdown",
   "id": "5a9bcd7e",
   "metadata": {},
   "source": [
    "## Create a Vertex managed tabular dataset"
   ]
  },
  {
   "cell_type": "markdown",
   "id": "8698b86b",
   "metadata": {},
   "source": [
    "### List existing tabular datasets"
   ]
  },
  {
   "cell_type": "code",
   "execution_count": null,
   "id": "32e56344",
   "metadata": {},
   "outputs": [],
   "source": [
    "display_name = 'Chicago Taxi Tips'\n",
    "filter = 'display_name=\"{}\"'.format(display_name)\n",
    "\n",
    "for dataset in vertex_ai.TabularDataset.list(filter=filter):\n",
    "    print(dataset.display_name, ' : ', dataset.resource_name)"
   ]
  },
  {
   "cell_type": "markdown",
   "id": "8df51e1b",
   "metadata": {},
   "source": [
    "### Create a new tabular dataset based on the BigQuery table"
   ]
  },
  {
   "cell_type": "code",
   "execution_count": null,
   "id": "ece21bcb",
   "metadata": {},
   "outputs": [],
   "source": [
    "bq_source = f'bq://{PROJECT}.{BQ_DATASET_NAME}.{BQ_TABLE_NAME}'\n",
    "\n",
    "\n",
    "dataset = vertex_ai.TabularDataset.create(\n",
    "    display_name=display_name, bq_source=bq_source\n",
    ")"
   ]
  },
  {
   "cell_type": "markdown",
   "id": "98a56aa4",
   "metadata": {},
   "source": [
    "## Prepare a training script"
   ]
  },
  {
   "cell_type": "code",
   "execution_count": null,
   "id": "324cceca",
   "metadata": {},
   "outputs": [],
   "source": [
    "folder = 'trainer'\n",
    "if tf.io.gfile.exists(folder):\n",
    "    tf.io.gfile.rmtree(folder)\n",
    "tf.io.gfile.mkdir(folder)\n",
    "file_path = os.path.join(folder, 'train.py')"
   ]
  },
  {
   "cell_type": "code",
   "execution_count": null,
   "id": "38616f82",
   "metadata": {},
   "outputs": [],
   "source": [
    "%%writefile {file_path}\n",
    "\n",
    "\n",
    "# Copyright 2021 Google Inc. All Rights Reserved.\n",
    "#\n",
    "# Licensed under the Apache License, Version 2.0 (the \"License\");\n",
    "# you may not use this file except in compliance with the License.\n",
    "# You may obtain a copy of the License at\n",
    "#\n",
    "#            http://www.apache.org/licenses/LICENSE-2.0\n",
    "#\n",
    "# Unless required by applicable law or agreed to in writing, software\n",
    "# distributed under the License is distributed on an \"AS IS\" BASIS,\n",
    "# WITHOUT WARRANTIES OR CONDITIONS OF ANY KIND, either express or implied.\n",
    "# See the License for the specific language governing permissions and\n",
    "\n",
    "import tensorflow as tf\n",
    "from tensorflow import keras\n",
    "\n",
    "from absl import app\n",
    "from absl import flags\n",
    "from absl import logging\n",
    "\n",
    "FEATURE_NAMES = [\n",
    "    \"trip_month\",\n",
    "    \"trip_day\",\n",
    "    \"trip_day_of_week\",\n",
    "    \"trip_hour\",\n",
    "    \"trip_seconds\",\n",
    "    \"trip_miles\",\n",
    "    \"payment_type\",\n",
    "    \"pickup_grid\",\n",
    "    \"dropoff_grid\",\n",
    "    \"euclidean\",\n",
    "    \"loc_cross\",\n",
    "]\n",
    "\n",
    "TARGET_FEATURE_NAME = \"tip_bin\"\n",
    "\n",
    "TARGET_LABELS = [\"tip<20%\", \"tip>=20%\"]\n",
    "\n",
    "NUMERICAL_FEATURE_NAMES = [\n",
    "    \"trip_seconds\",\n",
    "    \"trip_miles\",\n",
    "    \"euclidean\",\n",
    "]\n",
    "\n",
    "EMBEDDING_CATEGORICAL_FEATURES = {\n",
    "    \"trip_month\": 2,\n",
    "    \"trip_day\": 4,\n",
    "    \"trip_hour\": 3,\n",
    "    \"pickup_grid\": 3,\n",
    "    \"dropoff_grid\": 3,\n",
    "    \"loc_cross\": 10,\n",
    "}\n",
    "\n",
    "ONEHOT_CATEGORICAL_FEATURE_NAMES = [\"payment_type\", \"trip_day_of_week\"]\n",
    "\n",
    "def create_model_inputs():\n",
    "    inputs = {}\n",
    "    for name in NUMERICAL_FEATURE_NAMES:\n",
    "        inputs[name] = keras.layers.Input(name=name, shape=[], dtype=tf.float32)\n",
    "    for name in list(EMBEDDING_CATEGORICAL_FEATURES.keys()) + ONEHOT_CATEGORICAL_FEATURE_NAMES:\n",
    "        inputs[name] = keras.layers.Input(name=name, shape=[], dtype=tf.int64)\n",
    "    return inputs\n",
    "\n",
    "\n",
    "def create_binary_classifier(feature_vocab_sizes, hyperparams):\n",
    "    input_layers = create_model_inputs()\n",
    "\n",
    "    layers = []\n",
    "    for feature_name in input_layers.keys:\n",
    "        if feature_name in EMBEDDING_CATEGORICAL_FEATURES:\n",
    "            vocab_size = feature_vocab_sizes[feature_name]\n",
    "            embedding_size = EMBEDDING_CATEGORICAL_FEATURES[feature_name]\n",
    "            embedding_output = keras.layers.Embedding(\n",
    "                input_dim=vocab_size + 1,\n",
    "                output_dim=embedding_size,\n",
    "                name=f\"{feature_name}_embedding\",\n",
    "            )(input_layers[feature_name])\n",
    "            layers.append(embedding_output)\n",
    "        elif feature_name in ONEHOT_CATEGORICAL_FEATURE_NAMES:\n",
    "            vocab_size = feature_vocab_sizes[feature_name]\n",
    "            onehot_layer = keras.layers.experimental.preprocessing.CategoryEncoding(\n",
    "                max_tokens=vocab_size,\n",
    "                output_mode=\"binary\",\n",
    "                name=f\"{feature_name}_onehot\",\n",
    "            )(input_layers[feature_name])\n",
    "            layers.append(onehot_layer)\n",
    "        elif feature_name in NUMERICAL_FEATURE_NAMES:\n",
    "            numeric_layer = tf.expand_dims(input_layers[feature_name], -1)\n",
    "            layers.append(numeric_layer)\n",
    "        else:\n",
    "            pass\n",
    "\n",
    "    joined = keras.layers.Concatenate(name=\"combines_inputs\")(layers)\n",
    "    feedforward_output = keras.Sequential(\n",
    "        [\n",
    "            keras.layers.Dense(units, activation=\"relu\")\n",
    "            for units in hyperparams[\"hidden_units\"]\n",
    "        ],\n",
    "        name=\"feedforward_network\",\n",
    "    )(joined)\n",
    "    logits = keras.layers.Dense(units=1, name=\"logits\")(feedforward_output)\n",
    "\n",
    "    model = keras.Model(inputs=input_layers, outputs=[logits])\n",
    "    return model\n",
    "\n",
    "\n",
    "def main(argv):\n",
    "    del argv\n",
    "    \n",
    "    inputs = create_model_inputs()\n",
    "    print(inputs)\n",
    "\n",
    "if __name__ == '__main__':\n",
    "    logging.set_verbosity(logging.INFO)\n",
    "    app.run(main)"
   ]
  },
  {
   "cell_type": "code",
   "execution_count": null,
   "id": "925a2fd8",
   "metadata": {},
   "outputs": [],
   "source": []
  }
 ],
 "metadata": {
  "environment": {
   "name": "tf2-gpu.2-4.m69",
   "type": "gcloud",
   "uri": "gcr.io/deeplearning-platform-release/tf2-gpu.2-4:m69"
  },
  "kernelspec": {
   "display_name": "Python [conda env:root] *",
   "language": "python",
   "name": "conda-root-py"
  },
  "language_info": {
   "codemirror_mode": {
    "name": "ipython",
    "version": 3
   },
   "file_extension": ".py",
   "mimetype": "text/x-python",
   "name": "python",
   "nbconvert_exporter": "python",
   "pygments_lexer": "ipython3",
   "version": "3.7.10"
  }
 },
 "nbformat": 4,
 "nbformat_minor": 5
}
